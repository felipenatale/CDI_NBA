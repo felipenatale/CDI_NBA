{
 "cells": [
  {
   "cell_type": "code",
   "execution_count": 1,
   "metadata": {},
   "outputs": [
    {
     "name": "stderr",
     "output_type": "stream",
     "text": [
      "── \u001b[1mAttaching packages\u001b[22m ───────────────────────────────────────────────────────────────────────────────────────────────────────────────────────────────────────────────────────────────────────────────────────────────────── tidyverse 1.3.1 ──\n",
      "\n",
      "\u001b[32m✔\u001b[39m \u001b[34mggplot2\u001b[39m 3.3.3     \u001b[32m✔\u001b[39m \u001b[34mpurrr  \u001b[39m 0.3.4\n",
      "\u001b[32m✔\u001b[39m \u001b[34mtibble \u001b[39m 3.1.1     \u001b[32m✔\u001b[39m \u001b[34mdplyr  \u001b[39m 1.0.6\n",
      "\u001b[32m✔\u001b[39m \u001b[34mtidyr  \u001b[39m 1.1.3     \u001b[32m✔\u001b[39m \u001b[34mstringr\u001b[39m 1.4.0\n",
      "\u001b[32m✔\u001b[39m \u001b[34mreadr  \u001b[39m 1.4.0     \u001b[32m✔\u001b[39m \u001b[34mforcats\u001b[39m 0.5.1\n",
      "\n",
      "── \u001b[1mConflicts\u001b[22m ──────────────────────────────────────────────────────────────────────────────────────────────────────────────────────────────────────────────────────────────────────────────────────────────────────── tidyverse_conflicts() ──\n",
      "\u001b[31m✖\u001b[39m \u001b[34mtidyr\u001b[39m::\u001b[32mextract()\u001b[39m   masks \u001b[34mmagrittr\u001b[39m::extract()\n",
      "\u001b[31m✖\u001b[39m \u001b[34mdplyr\u001b[39m::\u001b[32mfilter()\u001b[39m    masks \u001b[34mstats\u001b[39m::filter()\n",
      "\u001b[31m✖\u001b[39m \u001b[34mdplyr\u001b[39m::\u001b[32mlag()\u001b[39m       masks \u001b[34mstats\u001b[39m::lag()\n",
      "\u001b[31m✖\u001b[39m \u001b[34mpurrr\u001b[39m::\u001b[32mset_names()\u001b[39m masks \u001b[34mmagrittr\u001b[39m::set_names()\n",
      "\n",
      "\n",
      "Attaching package: ‘kableExtra’\n",
      "\n",
      "\n",
      "The following object is masked from ‘package:dplyr’:\n",
      "\n",
      "    group_rows\n",
      "\n",
      "\n",
      "Warning message:\n",
      "“sem variável DISPLAY então Tk não está disponível”\n",
      "system might not have X11 capabilities; in case of errors when using dfSummary(), set st_options(use.x11 = FALSE)\n",
      "\n",
      "For best results, restart R session and update pander using devtools:: or remotes::install_github('rapporter/pander')\n",
      "\n",
      "\n",
      "Attaching package: ‘summarytools’\n",
      "\n",
      "\n",
      "The following object is masked from ‘package:tibble’:\n",
      "\n",
      "    view\n",
      "\n",
      "\n",
      "#BlackLivesMatter\n",
      "\n"
     ]
    }
   ],
   "source": [
    "library(magrittr)\n",
    "library(tidyverse)\n",
    "library(readxl)\n",
    "library(kableExtra)\n",
    "library(summarytools)\n",
    "library(gtsummary)\n",
    "library(ggpubr)\n",
    "library(ggcorrplot) #montar gráficos da matriz de correlação\n",
    "#library(Hmisc) #montar matriz de correlação\n"
   ]
  },
  {
   "cell_type": "code",
   "execution_count": 2,
   "metadata": {},
   "outputs": [
    {
     "name": "stderr",
     "output_type": "stream",
     "text": [
      "\n",
      "\u001b[36m──\u001b[39m \u001b[1m\u001b[1mColumn specification\u001b[1m\u001b[22m \u001b[36m──────────────────────────────────────────────────────────────────────────────────────────────────────────────────────────────────────────────────────────────────────────────────────────────────────────────────────\u001b[39m\n",
      "cols(\n",
      "  LEAGUE_ID = \u001b[31mcol_character()\u001b[39m,\n",
      "  TEAM_ID = \u001b[32mcol_double()\u001b[39m,\n",
      "  MIN_YEAR = \u001b[32mcol_double()\u001b[39m,\n",
      "  MAX_YEAR = \u001b[32mcol_double()\u001b[39m,\n",
      "  ABBREVIATION = \u001b[31mcol_character()\u001b[39m,\n",
      "  NICKNAME = \u001b[31mcol_character()\u001b[39m,\n",
      "  YEARFOUNDED = \u001b[32mcol_double()\u001b[39m,\n",
      "  CITY = \u001b[31mcol_character()\u001b[39m,\n",
      "  ARENA = \u001b[31mcol_character()\u001b[39m,\n",
      "  ARENACAPACITY = \u001b[32mcol_double()\u001b[39m,\n",
      "  OWNER = \u001b[31mcol_character()\u001b[39m,\n",
      "  GENERALMANAGER = \u001b[31mcol_character()\u001b[39m,\n",
      "  HEADCOACH = \u001b[31mcol_character()\u001b[39m,\n",
      "  DLEAGUEAFFILIATION = \u001b[31mcol_character()\u001b[39m\n",
      ")\n",
      "\n",
      "\n",
      "\n",
      "\u001b[36m──\u001b[39m \u001b[1m\u001b[1mColumn specification\u001b[1m\u001b[22m \u001b[36m──────────────────────────────────────────────────────────────────────────────────────────────────────────────────────────────────────────────────────────────────────────────────────────────────────────────────────\u001b[39m\n",
      "cols(\n",
      "  .default = col_double(),\n",
      "  GAME_DATE_EST = \u001b[34mcol_date(format = \"\")\u001b[39m,\n",
      "  GAME_STATUS_TEXT = \u001b[31mcol_character()\u001b[39m\n",
      ")\n",
      "\u001b[36mℹ\u001b[39m Use \u001b[30m\u001b[47m\u001b[30m\u001b[47m`spec()`\u001b[47m\u001b[30m\u001b[49m\u001b[39m for the full column specifications.\n",
      "\n",
      "\n"
     ]
    }
   ],
   "source": [
    "teams <- read_csv(\"../dataset/teams.csv\")\n",
    "games <- read_csv(\"../dataset/games.csv\")"
   ]
  },
  {
   "cell_type": "code",
   "execution_count": 3,
   "metadata": {},
   "outputs": [
    {
     "name": "stdout",
     "output_type": "stream",
     "text": [
      "Rows: 30\n",
      "Columns: 14\n",
      "$ LEAGUE_ID          \u001b[3m\u001b[90m<chr>\u001b[39m\u001b[23m \"00\", \"00\", \"00\", \"00\", \"00\", \"00\", \"00\", \"00\", \"00…\n",
      "$ TEAM_ID            \u001b[3m\u001b[90m<dbl>\u001b[39m\u001b[23m 1610612737, 1610612738, 1610612740, 1610612741, 161…\n",
      "$ MIN_YEAR           \u001b[3m\u001b[90m<dbl>\u001b[39m\u001b[23m 1949, 1946, 2002, 1966, 1980, 1976, 1967, 1970, 194…\n",
      "$ MAX_YEAR           \u001b[3m\u001b[90m<dbl>\u001b[39m\u001b[23m 2019, 2019, 2019, 2019, 2019, 2019, 2019, 2019, 201…\n",
      "$ ABBREVIATION       \u001b[3m\u001b[90m<chr>\u001b[39m\u001b[23m \"ATL\", \"BOS\", \"NOP\", \"CHI\", \"DAL\", \"DEN\", \"HOU\", \"L…\n",
      "$ NICKNAME           \u001b[3m\u001b[90m<chr>\u001b[39m\u001b[23m \"Hawks\", \"Celtics\", \"Pelicans\", \"Bulls\", \"Mavericks…\n",
      "$ YEARFOUNDED        \u001b[3m\u001b[90m<dbl>\u001b[39m\u001b[23m 1949, 1946, 2002, 1966, 1980, 1976, 1967, 1970, 194…\n",
      "$ CITY               \u001b[3m\u001b[90m<chr>\u001b[39m\u001b[23m \"Atlanta\", \"Boston\", \"New Orleans\", \"Chicago\", \"Dal…\n",
      "$ ARENA              \u001b[3m\u001b[90m<chr>\u001b[39m\u001b[23m \"State Farm Arena\", \"TD Garden\", \"Smoothie King Cen…\n",
      "$ ARENACAPACITY      \u001b[3m\u001b[90m<dbl>\u001b[39m\u001b[23m 18729, 18624, NA, 21711, 19200, 19099, 18104, 19060…\n",
      "$ OWNER              \u001b[3m\u001b[90m<chr>\u001b[39m\u001b[23m \"Tony Ressler\", \"Wyc Grousbeck\", \"Tom Benson\", \"Jer…\n",
      "$ GENERALMANAGER     \u001b[3m\u001b[90m<chr>\u001b[39m\u001b[23m \"Travis Schlenk\", \"Danny Ainge\", \"Trajan Langdon\", …\n",
      "$ HEADCOACH          \u001b[3m\u001b[90m<chr>\u001b[39m\u001b[23m \"Lloyd Pierce\", \"Brad Stevens\", \"Alvin Gentry\", \"Ji…\n",
      "$ DLEAGUEAFFILIATION \u001b[3m\u001b[90m<chr>\u001b[39m\u001b[23m \"Erie Bayhawks\", \"Maine Red Claws\", \"No Affiliate\",…\n",
      "Rows: 24,195\n",
      "Columns: 21\n",
      "$ GAME_DATE_EST    \u001b[3m\u001b[90m<date>\u001b[39m\u001b[23m 2021-03-21, 2021-03-21, 2021-03-21, 2021-03-21, 2021…\n",
      "$ GAME_ID          \u001b[3m\u001b[90m<dbl>\u001b[39m\u001b[23m 22000645, 22000016, 22000646, 22000167, 22000647, 220…\n",
      "$ GAME_STATUS_TEXT \u001b[3m\u001b[90m<chr>\u001b[39m\u001b[23m \"Final\", \"Final\", \"Final\", \"Final\", \"Final\", \"Final\",…\n",
      "$ HOME_TEAM_ID     \u001b[3m\u001b[90m<dbl>\u001b[39m\u001b[23m 1610612748, 1610612745, 1610612743, 1610612738, 16106…\n",
      "$ VISITOR_TEAM_ID  \u001b[3m\u001b[90m<dbl>\u001b[39m\u001b[23m 1610612754, 1610612760, 1610612740, 1610612753, 16106…\n",
      "$ SEASON           \u001b[3m\u001b[90m<dbl>\u001b[39m\u001b[23m 2020, 2020, 2020, 2020, 2020, 2020, 2020, 2020, 2020,…\n",
      "$ TEAM_ID_home     \u001b[3m\u001b[90m<dbl>\u001b[39m\u001b[23m 1610612748, 1610612745, 1610612743, 1610612738, 16106…\n",
      "$ PTS_home         \u001b[3m\u001b[90m<dbl>\u001b[39m\u001b[23m 106, 112, 108, 112, 113, 116, 86, 100, 111, 92, 94, 1…\n",
      "$ FG_PCT_home      \u001b[3m\u001b[90m<dbl>\u001b[39m\u001b[23m 0.402, 0.494, 0.500, 0.455, 0.489, 0.506, 0.390, 0.43…\n",
      "$ FT_PCT_home      \u001b[3m\u001b[90m<dbl>\u001b[39m\u001b[23m 0.826, 0.741, 0.800, 1.000, 0.727, 0.750, 0.720, 0.56…\n",
      "$ FG3_PCT_home     \u001b[3m\u001b[90m<dbl>\u001b[39m\u001b[23m 0.243, 0.368, 0.353, 0.426, 0.310, 0.515, 0.160, 0.45…\n",
      "$ AST_home         \u001b[3m\u001b[90m<dbl>\u001b[39m\u001b[23m 27, 22, 30, 27, 24, 29, 20, 16, 30, 17, 18, 24, 25, 2…\n",
      "$ REB_home         \u001b[3m\u001b[90m<dbl>\u001b[39m\u001b[23m 51, 38, 37, 45, 35, 54, 37, 44, 51, 33, 52, 51, 60, 4…\n",
      "$ TEAM_ID_away     \u001b[3m\u001b[90m<dbl>\u001b[39m\u001b[23m 1610612754, 1610612760, 1610612740, 1610612753, 16106…\n",
      "$ PTS_away         \u001b[3m\u001b[90m<dbl>\u001b[39m\u001b[23m 109, 114, 113, 96, 106, 105, 100, 101, 94, 132, 99, 1…\n",
      "$ FG_PCT_away      \u001b[3m\u001b[90m<dbl>\u001b[39m\u001b[23m 0.388, 0.462, 0.482, 0.381, 0.532, 0.389, 0.463, 0.46…\n",
      "$ FT_PCT_away      \u001b[3m\u001b[90m<dbl>\u001b[39m\u001b[23m 0.900, 0.680, 0.767, 0.700, 0.789, 0.842, 0.857, 0.60…\n",
      "$ FG3_PCT_away     \u001b[3m\u001b[90m<dbl>\u001b[39m\u001b[23m 0.333, 0.333, 0.286, 0.324, 0.333, 0.326, 0.500, 0.44…\n",
      "$ AST_away         \u001b[3m\u001b[90m<dbl>\u001b[39m\u001b[23m 27, 22, 26, 20, 24, 19, 26, 19, 20, 23, 26, 28, 23, 2…\n",
      "$ REB_away         \u001b[3m\u001b[90m<dbl>\u001b[39m\u001b[23m 50, 52, 45, 44, 43, 37, 52, 44, 41, 52, 49, 34, 46, 4…\n",
      "$ HOME_TEAM_WINS   \u001b[3m\u001b[90m<dbl>\u001b[39m\u001b[23m 0, 0, 0, 1, 1, 1, 0, 0, 1, 0, 0, 1, 1, 1, 1, 0, 0, 0,…\n"
     ]
    }
   ],
   "source": [
    "glimpse(teams)\n",
    "glimpse(games)"
   ]
  },
  {
   "cell_type": "code",
   "execution_count": 4,
   "metadata": {},
   "outputs": [
    {
     "name": "stdout",
     "output_type": "stream",
     "text": [
      "Rows: 2\n",
      "Columns: 3\n",
      "$ home_win      \u001b[3m\u001b[90m<fct>\u001b[39m\u001b[23m Sede, Visitante\n",
      "$ Quantidade    \u001b[3m\u001b[90m<int>\u001b[39m\u001b[23m 14269, 9827\n",
      "$ freq_relativa \u001b[3m\u001b[90m<dbl>\u001b[39m\u001b[23m 59.2173, 40.7827\n"
     ]
    },
    {
     "data": {
      "text/html": [
       "<table class=\"dataframe\">\n",
       "<caption>A tibble: 2 × 3</caption>\n",
       "<thead>\n",
       "\t<tr><th scope=col>home_win</th><th scope=col>Quantidade</th><th scope=col>freq_relativa</th></tr>\n",
       "\t<tr><th scope=col>&lt;fct&gt;</th><th scope=col>&lt;int&gt;</th><th scope=col>&lt;dbl&gt;</th></tr>\n",
       "</thead>\n",
       "<tbody>\n",
       "\t<tr><td>Sede     </td><td>14269</td><td>59.2173</td></tr>\n",
       "\t<tr><td>Visitante</td><td> 9827</td><td>40.7827</td></tr>\n",
       "</tbody>\n",
       "</table>\n"
      ],
      "text/latex": [
       "A tibble: 2 × 3\n",
       "\\begin{tabular}{lll}\n",
       " home\\_win & Quantidade & freq\\_relativa\\\\\n",
       " <fct> & <int> & <dbl>\\\\\n",
       "\\hline\n",
       "\t Sede      & 14269 & 59.2173\\\\\n",
       "\t Visitante &  9827 & 40.7827\\\\\n",
       "\\end{tabular}\n"
      ],
      "text/markdown": [
       "\n",
       "A tibble: 2 × 3\n",
       "\n",
       "| home_win &lt;fct&gt; | Quantidade &lt;int&gt; | freq_relativa &lt;dbl&gt; |\n",
       "|---|---|---|\n",
       "| Sede      | 14269 | 59.2173 |\n",
       "| Visitante |  9827 | 40.7827 |\n",
       "\n"
      ],
      "text/plain": [
       "  home_win  Quantidade freq_relativa\n",
       "1 Sede      14269      59.2173      \n",
       "2 Visitante  9827      40.7827      "
      ]
     },
     "metadata": {},
     "output_type": "display_data"
    }
   ],
   "source": [
    "home_away_win <- games %>%\n",
    "    select(PTS_home, PTS_away) %>%\n",
    "    filter(!is.na(PTS_home)) %>%\n",
    "    mutate(home_win = factor(if_else(PTS_home > PTS_away, \"Sede\", \"Visitante\"))) %>%\n",
    "    count(home_win, name=\"Quantidade\") %>%\n",
    "    mutate(freq_relativa = (Quantidade/ sum(Quantidade))*100 )\n",
    "\n",
    "glimpse(home_away_win)\n",
    "home_away_win"
   ]
  },
  {
   "cell_type": "code",
   "execution_count": 13,
   "metadata": {},
   "outputs": [
    {
     "data": {
      "text/plain": [
       "\n",
       "\n",
       "Local        Frequência Absoluta   Frequência Relativa\n",
       "----------  --------------------  --------------------\n",
       "Sede                       14269                 59,22\n",
       "Visitante                   9827                 40,78"
      ]
     },
     "metadata": {},
     "output_type": "display_data"
    }
   ],
   "source": [
    "\n",
    "\n",
    "knitr::kable(home_away_win, col.names = c(\"Local\", \"Frequência Absoluta\", \"Frequência Relativa\"), digits = 2, format.args = list(decimal=\",\"), \"simple\")"
   ]
  },
  {
   "cell_type": "code",
   "execution_count": 4,
   "metadata": {},
   "outputs": [
    {
     "name": "stderr",
     "output_type": "stream",
     "text": [
      "Variable(s) ignored: PTS_home, PTS_away\n",
      "\n"
     ]
    },
    {
     "data": {
      "text/html": [
       "<ol>\n",
       "\t<li><table class=\"dataframe\">\n",
       "<caption>A summarytools: 4 × 5 of type dbl</caption>\n",
       "<thead>\n",
       "\t<tr><th></th><th scope=col>Freq</th><th scope=col>% Valid</th><th scope=col>% Valid Cum.</th><th scope=col>% Total</th><th scope=col>% Total Cum.</th></tr>\n",
       "</thead>\n",
       "<tbody>\n",
       "\t<tr><th scope=row>Sede</th><td>14269</td><td> 59.2173</td><td> 59.2173</td><td> 58.9749948</td><td> 58.97499</td></tr>\n",
       "\t<tr><th scope=row>Visitante</th><td> 9827</td><td> 40.7827</td><td>100.0000</td><td> 40.6158297</td><td> 99.59082</td></tr>\n",
       "\t<tr><th scope=row>&lt;NA&gt;</th><td>   99</td><td>      NA</td><td>      NA</td><td>  0.4091754</td><td>100.00000</td></tr>\n",
       "\t<tr><th scope=row>Total</th><td>24195</td><td>100.0000</td><td>100.0000</td><td>100.0000000</td><td>100.00000</td></tr>\n",
       "</tbody>\n",
       "</table>\n",
       "</li>\n",
       "</ol>\n"
      ],
      "text/latex": [
       "\\begin{enumerate}\n",
       "\\item A summarytools: 4 × 5 of type dbl\n",
       "\\begin{tabular}{r|lllll}\n",
       "  & Freq & \\% Valid & \\% Valid Cum. & \\% Total & \\% Total Cum.\\\\\n",
       "\\hline\n",
       "\tSede & 14269 &  59.2173 &  59.2173 &  58.9749948 &  58.97499\\\\\n",
       "\tVisitante &  9827 &  40.7827 & 100.0000 &  40.6158297 &  99.59082\\\\\n",
       "\t<NA> &    99 &       NA &       NA &   0.4091754 & 100.00000\\\\\n",
       "\tTotal & 24195 & 100.0000 & 100.0000 & 100.0000000 & 100.00000\\\\\n",
       "\\end{tabular}\n",
       "\n",
       "\\end{enumerate}\n"
      ],
      "text/markdown": [
       "1. \n",
       "A summarytools: 4 × 5 of type dbl\n",
       "\n",
       "| <!--/--> | Freq | % Valid | % Valid Cum. | % Total | % Total Cum. |\n",
       "|---|---|---|---|---|---|\n",
       "| Sede | 14269 |  59.2173 |  59.2173 |  58.9749948 |  58.97499 |\n",
       "| Visitante |  9827 |  40.7827 | 100.0000 |  40.6158297 |  99.59082 |\n",
       "| &lt;NA&gt; |    99 |       NA |       NA |   0.4091754 | 100.00000 |\n",
       "| Total | 24195 | 100.0000 | 100.0000 | 100.0000000 | 100.00000 |\n",
       "\n",
       "\n",
       "\n",
       "\n"
      ],
      "text/plain": [
       "Frequencies  \n",
       "games$home_win  \n",
       "Type: Factor  \n",
       "\n",
       "                   Freq   % Valid   % Valid Cum.   % Total   % Total Cum.\n",
       "--------------- ------- --------- -------------- --------- --------------\n",
       "           Sede   14269     59.22          59.22     58.97          58.97\n",
       "      Visitante    9827     40.78         100.00     40.62          99.59\n",
       "           <NA>      99                               0.41         100.00\n",
       "          Total   24195    100.00         100.00    100.00         100.00"
      ]
     },
     "metadata": {},
     "output_type": "display_data"
    }
   ],
   "source": [
    "games %>%\n",
    "    select(PTS_home, PTS_away) %>%\n",
    "    mutate(home_win = factor(if_else(PTS_home > PTS_away, \"Sede\", \"Visitante\"))) %>%\n",
    "    summarytools::freq()"
   ]
  },
  {
   "cell_type": "code",
   "execution_count": 20,
   "metadata": {},
   "outputs": [
    {
     "name": "stdout",
     "output_type": "stream",
     "text": [
      "Rows: 24,195\n",
      "Columns: 3\n",
      "$ HOME_TEAM_ID    \u001b[3m\u001b[90m<dbl>\u001b[39m\u001b[23m 1610612748, 1610612745, 1610612743, 1610612738, 161061…\n",
      "$ VISITOR_TEAM_ID \u001b[3m\u001b[90m<dbl>\u001b[39m\u001b[23m 1610612754, 1610612760, 1610612740, 1610612753, 161061…\n",
      "$ HOME_TEAM_WINS  \u001b[3m\u001b[90m<fct>\u001b[39m\u001b[23m Visitor, Visitor, Visitor, Home, Home, Home, Visitor, …\n"
     ]
    },
    {
     "name": "stderr",
     "output_type": "stream",
     "text": [
      "Variable(s) ignored: HOME_TEAM_ID, VISITOR_TEAM_ID\n",
      "\n"
     ]
    },
    {
     "data": {
      "text/html": [
       "<ol>\n",
       "\t<li><table class=\"dataframe\">\n",
       "<caption>A summarytools: 4 × 5 of type dbl</caption>\n",
       "<thead>\n",
       "\t<tr><th></th><th scope=col>Freq</th><th scope=col>% Valid</th><th scope=col>% Valid Cum.</th><th scope=col>% Total</th><th scope=col>% Total Cum.</th></tr>\n",
       "</thead>\n",
       "<tbody>\n",
       "\t<tr><th scope=row>Visitor</th><td> 9926</td><td> 41.02501</td><td> 41.02501</td><td> 41.02501</td><td> 41.02501</td></tr>\n",
       "\t<tr><th scope=row>Home</th><td>14269</td><td> 58.97499</td><td>100.00000</td><td> 58.97499</td><td>100.00000</td></tr>\n",
       "\t<tr><th scope=row>&lt;NA&gt;</th><td>    0</td><td>       NA</td><td>       NA</td><td>  0.00000</td><td>100.00000</td></tr>\n",
       "\t<tr><th scope=row>Total</th><td>24195</td><td>100.00000</td><td>100.00000</td><td>100.00000</td><td>100.00000</td></tr>\n",
       "</tbody>\n",
       "</table>\n",
       "</li>\n",
       "</ol>\n"
      ],
      "text/latex": [
       "\\begin{enumerate}\n",
       "\\item A summarytools: 4 × 5 of type dbl\n",
       "\\begin{tabular}{r|lllll}\n",
       "  & Freq & \\% Valid & \\% Valid Cum. & \\% Total & \\% Total Cum.\\\\\n",
       "\\hline\n",
       "\tVisitor &  9926 &  41.02501 &  41.02501 &  41.02501 &  41.02501\\\\\n",
       "\tHome & 14269 &  58.97499 & 100.00000 &  58.97499 & 100.00000\\\\\n",
       "\t<NA> &     0 &        NA &        NA &   0.00000 & 100.00000\\\\\n",
       "\tTotal & 24195 & 100.00000 & 100.00000 & 100.00000 & 100.00000\\\\\n",
       "\\end{tabular}\n",
       "\n",
       "\\end{enumerate}\n"
      ],
      "text/markdown": [
       "1. \n",
       "A summarytools: 4 × 5 of type dbl\n",
       "\n",
       "| <!--/--> | Freq | % Valid | % Valid Cum. | % Total | % Total Cum. |\n",
       "|---|---|---|---|---|---|\n",
       "| Visitor |  9926 |  41.02501 |  41.02501 |  41.02501 |  41.02501 |\n",
       "| Home | 14269 |  58.97499 | 100.00000 |  58.97499 | 100.00000 |\n",
       "| &lt;NA&gt; |     0 |        NA |        NA |   0.00000 | 100.00000 |\n",
       "| Total | 24195 | 100.00000 | 100.00000 | 100.00000 | 100.00000 |\n",
       "\n",
       "\n",
       "\n",
       "\n"
      ],
      "text/plain": [
       "Frequencies  \n",
       "teste$HOME_TEAM_WINS  \n",
       "Type: Factor  \n",
       "\n",
       "                 Freq   % Valid   % Valid Cum.   % Total   % Total Cum.\n",
       "------------- ------- --------- -------------- --------- --------------\n",
       "      Visitor    9926     41.03          41.03     41.03          41.03\n",
       "         Home   14269     58.97         100.00     58.97         100.00\n",
       "         <NA>       0                               0.00         100.00\n",
       "        Total   24195    100.00         100.00    100.00         100.00"
      ]
     },
     "metadata": {},
     "output_type": "display_data"
    }
   ],
   "source": [
    "teste <- games %>%\n",
    "    select(HOME_TEAM_ID, VISITOR_TEAM_ID, HOME_TEAM_WINS) %>%\n",
    "    mutate(HOME_TEAM_WINS = factor(HOME_TEAM_WINS, labels=c(\"Visitor\", \"Home\")))\n",
    "\n",
    "glimpse(teste)\n",
    "\n",
    "summarytools::freq(teste)"
   ]
  },
  {
   "cell_type": "code",
   "execution_count": 12,
   "metadata": {},
   "outputs": [
    {
     "name": "stdout",
     "output_type": "stream",
     "text": [
      "Rows: 24,195\n",
      "Columns: 6\n",
      "$ FG_PCT         \u001b[3m\u001b[90m<dbl>\u001b[39m\u001b[23m 0.388, 0.462, 0.482, 0.455, 0.489, 0.506, 0.463, 0.463,…\n",
      "$ FT_PCT         \u001b[3m\u001b[90m<dbl>\u001b[39m\u001b[23m 0.900, 0.680, 0.767, 1.000, 0.727, 0.750, 0.857, 0.609,…\n",
      "$ FG3_PCT        \u001b[3m\u001b[90m<dbl>\u001b[39m\u001b[23m 0.333, 0.333, 0.286, 0.426, 0.310, 0.515, 0.500, 0.440,…\n",
      "$ AST            \u001b[3m\u001b[90m<dbl>\u001b[39m\u001b[23m 27, 22, 26, 27, 24, 29, 26, 19, 30, 23, 26, 24, 25, 24,…\n",
      "$ REB            \u001b[3m\u001b[90m<dbl>\u001b[39m\u001b[23m 50, 52, 45, 45, 35, 54, 52, 44, 51, 52, 49, 51, 60, 49,…\n",
      "$ HOME_TEAM_WINS \u001b[3m\u001b[90m<dbl>\u001b[39m\u001b[23m 0, 0, 0, 1, 1, 1, 0, 0, 1, 0, 0, 1, 1, 1, 1, 0, 0, 0, 1…\n"
     ]
    },
    {
     "data": {
      "text/plain": [
       "\n",
       "\tShapiro-Wilk normality test\n",
       "\n",
       "data:  sample(teams_win$FG_PCT, 5000)\n",
       "W = 0.9987, p-value = 0.0004773\n"
      ]
     },
     "metadata": {},
     "output_type": "display_data"
    },
    {
     "data": {
      "text/plain": [
       "\n",
       "\tShapiro-Wilk normality test\n",
       "\n",
       "data:  sample(teams_win$FT_PCT, 5000)\n",
       "W = 0.9936, p-value = 3.795e-14\n"
      ]
     },
     "metadata": {},
     "output_type": "display_data"
    },
    {
     "data": {
      "text/plain": [
       "\n",
       "\tShapiro-Wilk normality test\n",
       "\n",
       "data:  sample(teams_win$FG3_PCT, 5000)\n",
       "W = 0.99543, p-value = 2.168e-11\n"
      ]
     },
     "metadata": {},
     "output_type": "display_data"
    },
    {
     "data": {
      "text/plain": [
       "\n",
       "\tShapiro-Wilk normality test\n",
       "\n",
       "data:  sample(teams_win$AST, 5000)\n",
       "W = 0.99459, p-value = 9.951e-13\n"
      ]
     },
     "metadata": {},
     "output_type": "display_data"
    },
    {
     "data": {
      "text/plain": [
       "\n",
       "\tShapiro-Wilk normality test\n",
       "\n",
       "data:  sample(teams_win$REB, 5000)\n",
       "W = 0.99537, p-value = 1.665e-11\n"
      ]
     },
     "metadata": {},
     "output_type": "display_data"
    },
    {
     "data": {
      "text/plain": [
       "\n",
       "\tShapiro-Wilk normality test\n",
       "\n",
       "data:  sample(teams_win$HOME_TEAM_WINS, 5000)\n",
       "W = 0.62326, p-value < 2.2e-16\n"
      ]
     },
     "metadata": {},
     "output_type": "display_data"
    }
   ],
   "source": [
    "teams_win <- games %>%\n",
    "    mutate(\n",
    "        FG_PCT=if_else(HOME_TEAM_WINS == 1, FG_PCT_home, FG_PCT_away),\n",
    "        FT_PCT=if_else(HOME_TEAM_WINS == 1, FT_PCT_home, FT_PCT_away),\n",
    "        FG3_PCT=if_else(HOME_TEAM_WINS == 1, FG3_PCT_home, FG3_PCT_away),\n",
    "        AST=if_else(HOME_TEAM_WINS == 1, AST_home, AST_away),\n",
    "        REB=if_else(HOME_TEAM_WINS == 1, REB_home, REB_away),\n",
    "        \n",
    "    ) %>%\n",
    "    select(FG_PCT, FT_PCT, FG3_PCT, AST, REB, HOME_TEAM_WINS)\n",
    "\n",
    "glimpse(teams_win)\n",
    "\n",
    "#shapiro.test(teams_win$FG_PCT)\n",
    "#qqPlot(my_data$FG_PCT)\n",
    "#Coeficiente de Correlação\n",
    "#rmat<-rcorr(as.matrix(surto_casos_cor), type = c(\"spearman\"))\n",
    "\n",
    "\n",
    "shapiro.test(sample(teams_win$FG_PCT, 5000)) # não normal\n",
    "shapiro.test(sample(teams_win$FT_PCT, 5000)) # não normal\n",
    "shapiro.test(sample(teams_win$FG3_PCT, 5000)) # não normal\n",
    "shapiro.test(sample(teams_win$AST, 5000)) # não normal\n",
    "shapiro.test(sample(teams_win$REB, 5000)) # não normal\n",
    "shapiro.test(sample(teams_win$HOME_TEAM_WINS, 5000)) # não normal"
   ]
  },
  {
   "cell_type": "code",
   "execution_count": 13,
   "metadata": {},
   "outputs": [
    {
     "name": "stderr",
     "output_type": "stream",
     "text": [
      "Warning message in cor.test.default(teams_win$FG_PCT, teams_win$FT_PCT, method = \"spearman\", :\n",
      "“Cannot compute exact p-value with ties”\n"
     ]
    },
    {
     "data": {
      "text/plain": [
       "\n",
       "\tSpearman's rank correlation rho\n",
       "\n",
       "data:  teams_win$FG_PCT and teams_win$FT_PCT\n",
       "S = 2.3801e+12, p-value = 0.001301\n",
       "alternative hypothesis: true rho is not equal to 0\n",
       "sample estimates:\n",
       "        rho \n",
       "-0.02071539 \n"
      ]
     },
     "metadata": {},
     "output_type": "display_data"
    }
   ],
   "source": [
    "cor.test(teams_win$FG_PCT, teams_win$FT_PCT,\n",
    "        method = \"spearman\",\n",
    "        conf.level=0.95)"
   ]
  },
  {
   "cell_type": "code",
   "execution_count": null,
   "metadata": {},
   "outputs": [],
   "source": []
  }
 ],
 "metadata": {
  "kernelspec": {
   "display_name": "R",
   "language": "R",
   "name": "ir"
  },
  "language_info": {
   "codemirror_mode": "r",
   "file_extension": ".r",
   "mimetype": "text/x-r-source",
   "name": "R",
   "pygments_lexer": "r",
   "version": "3.6.1"
  }
 },
 "nbformat": 4,
 "nbformat_minor": 5
}

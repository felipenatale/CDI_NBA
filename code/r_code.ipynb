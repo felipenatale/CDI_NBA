{
 "cells": [
  {
   "cell_type": "markdown",
   "metadata": {},
   "source": [
    "# Trabalho - DS I"
   ]
  },
  {
   "cell_type": "markdown",
   "metadata": {},
   "source": [
    "### Análise dos dados da Liga Nacional de Basquete Americano\n",
    "\n",
    "Source: https://www.nba.com/stats/\n",
    "\n",
    "Glossary: https://www.nba.com/stats/help/glossary/"
   ]
  },
  {
   "cell_type": "markdown",
   "metadata": {},
   "source": [
    "### Instalação de pacotes"
   ]
  },
  {
   "cell_type": "code",
   "execution_count": 103,
   "metadata": {},
   "outputs": [
    {
     "name": "stdout",
     "output_type": "stream",
     "text": [
      "\n",
      "  There is a binary version available but the source version is later:\n",
      "         binary source needs_compilation\n",
      "corrplot   0.88   0.89             FALSE\n",
      "\n"
     ]
    },
    {
     "name": "stderr",
     "output_type": "stream",
     "text": [
      "installing the source package 'corrplot'\n",
      "\n"
     ]
    }
   ],
   "source": [
    "#install.packages(\"magrittr\")\n",
    "#install.packages(\"tidyverse\")\n",
    "#install.packages(\"readxl\")\n",
    "#install.packages(\"kableExtra\")\n",
    "#install.packages(\"summarytools\")\n",
    "#install.packages(\"knitr\")\n",
    "#install.packages(\"sf\")\n",
    "#install.packages(\"ggplot2\")\n",
    "#install.packages(\"RColorBrewer\")\n",
    "#install.packages(\"ggspatial\")\n",
    "#install.packages(\"ddply\")\n",
    "#install.packages(\"corrplot\")"
   ]
  },
  {
   "cell_type": "markdown",
   "metadata": {},
   "source": [
    "### Import de bibliotecas"
   ]
  },
  {
   "cell_type": "code",
   "execution_count": 1,
   "metadata": {},
   "outputs": [
    {
     "name": "stderr",
     "output_type": "stream",
     "text": [
      "Warning message:\n",
      "\"package 'sf' was built under R version 3.6.3\"Linking to GEOS 3.9.0, GDAL 3.2.1, PROJ 7.2.1\n",
      "Warning message:\n",
      "\"package 'dplyr' was built under R version 3.6.3\"\n",
      "Attaching package: 'dplyr'\n",
      "\n",
      "The following objects are masked from 'package:stats':\n",
      "\n",
      "    filter, lag\n",
      "\n",
      "The following objects are masked from 'package:base':\n",
      "\n",
      "    intersect, setdiff, setequal, union\n",
      "\n",
      "Warning message:\n",
      "\"package 'ggplot2' was built under R version 3.6.3\"Warning message:\n",
      "\"package 'ggspatial' was built under R version 3.6.3\""
     ]
    }
   ],
   "source": [
    "library(sf)           #Para lidar com dados espaciais \n",
    "library(RColorBrewer) #Para acessar paleta de cores\n",
    "library(ggspatial)    #Para adicionar elementos de mapas"
   ]
  },
  {
   "cell_type": "code",
   "execution_count": 104,
   "metadata": {},
   "outputs": [
    {
     "name": "stderr",
     "output_type": "stream",
     "text": [
      "corrplot 0.89 loaded\n"
     ]
    }
   ],
   "source": [
    "library(corrplot)"
   ]
  },
  {
   "cell_type": "code",
   "execution_count": 118,
   "metadata": {},
   "outputs": [],
   "source": [
    "library(ggplot2)"
   ]
  },
  {
   "cell_type": "code",
   "execution_count": 1,
   "metadata": {},
   "outputs": [
    {
     "name": "stderr",
     "output_type": "stream",
     "text": [
      "Warning message:\n",
      "\"package 'knitr' was built under R version 3.6.3\"Warning message:\n",
      "\"package 'magrittr' was built under R version 3.6.3\"Warning message:\n",
      "\"package 'tidyverse' was built under R version 3.6.3\"-- Attaching packages --------------------------------------- tidyverse 1.3.1 --\n",
      "v ggplot2 3.3.3     v purrr   0.3.4\n",
      "v tibble  3.1.1     v dplyr   1.0.5\n",
      "v tidyr   1.1.3     v stringr 1.4.0\n",
      "v readr   1.4.0     v forcats 0.5.1\n",
      "Warning message:\n",
      "\"package 'ggplot2' was built under R version 3.6.3\"Warning message:\n",
      "\"package 'tibble' was built under R version 3.6.3\"Warning message:\n",
      "\"package 'tidyr' was built under R version 3.6.3\"Warning message:\n",
      "\"package 'readr' was built under R version 3.6.3\"Warning message:\n",
      "\"package 'purrr' was built under R version 3.6.3\"Warning message:\n",
      "\"package 'dplyr' was built under R version 3.6.3\"Warning message:\n",
      "\"package 'forcats' was built under R version 3.6.3\"-- Conflicts ------------------------------------------ tidyverse_conflicts() --\n",
      "x tidyr::extract()   masks magrittr::extract()\n",
      "x dplyr::filter()    masks stats::filter()\n",
      "x dplyr::lag()       masks stats::lag()\n",
      "x purrr::set_names() masks magrittr::set_names()\n",
      "Warning message:\n",
      "\"package 'kableExtra' was built under R version 3.6.3\"\n",
      "Attaching package: 'kableExtra'\n",
      "\n",
      "The following object is masked from 'package:dplyr':\n",
      "\n",
      "    group_rows\n",
      "\n",
      "Warning message:\n",
      "\"package 'summarytools' was built under R version 3.6.3\"Registered S3 method overwritten by 'pryr':\n",
      "  method      from\n",
      "  print.bytes Rcpp\n",
      "For best results, restart R session and update pander using devtools:: or remotes::install_github('rapporter/pander')\n",
      "\n",
      "Attaching package: 'summarytools'\n",
      "\n",
      "The following object is masked from 'package:tibble':\n",
      "\n",
      "    view\n",
      "\n"
     ]
    }
   ],
   "source": [
    "library(knitr)\n",
    "library(magrittr)\n",
    "library(tidyverse)\n",
    "library(readxl)\n",
    "library(kableExtra)\n",
    "library(summarytools)\n"
   ]
  },
  {
   "cell_type": "markdown",
   "metadata": {},
   "source": [
    "### Import de dados"
   ]
  },
  {
   "cell_type": "code",
   "execution_count": 2,
   "metadata": {},
   "outputs": [
    {
     "name": "stderr",
     "output_type": "stream",
     "text": [
      "\n",
      "-- Column specification --------------------------------------------------------\n",
      "cols(\n",
      "  .default = col_double(),\n",
      "  GAME_DATE_EST = col_date(format = \"\"),\n",
      "  GAME_STATUS_TEXT = col_character()\n",
      ")\n",
      "i Use `spec()` for the full column specifications.\n",
      "\n",
      "\n",
      "-- Column specification --------------------------------------------------------\n",
      "cols(\n",
      "  .default = col_double(),\n",
      "  TEAM_ABBREVIATION = col_character(),\n",
      "  TEAM_CITY = col_character(),\n",
      "  PLAYER_NAME = col_character(),\n",
      "  START_POSITION = col_character(),\n",
      "  COMMENT = col_character(),\n",
      "  MIN = col_time(format = \"\")\n",
      ")\n",
      "i Use `spec()` for the full column specifications.\n",
      "\n",
      "Warning message:\n",
      "\"25009 parsing failures.\n",
      " row col       expected actual                           file\n",
      "1521 MIN valid duration  27:60 '../dataset/games_details.csv'\n",
      "2058 MIN valid duration  10:60 '../dataset/games_details.csv'\n",
      "2071 MIN valid duration  11:60 '../dataset/games_details.csv'\n",
      "2323 MIN valid duration  36:60 '../dataset/games_details.csv'\n",
      "2570 MIN valid duration  19:60 '../dataset/games_details.csv'\n",
      ".... ... .............. ...... ..............................\n",
      "See problems(...) for more details.\n",
      "\"\n",
      "-- Column specification --------------------------------------------------------\n",
      "cols(\n",
      "  PLAYER_NAME = col_character(),\n",
      "  TEAM_ID = col_double(),\n",
      "  PLAYER_ID = col_double(),\n",
      "  SEASON = col_double()\n",
      ")\n",
      "\n",
      "\n",
      "-- Column specification --------------------------------------------------------\n",
      "cols(\n",
      "  TEAM_ID = col_double(),\n",
      "  LEAGUE_ID = col_character(),\n",
      "  SEASON_ID = col_double(),\n",
      "  STANDINGSDATE = col_date(format = \"\"),\n",
      "  CONFERENCE = col_character(),\n",
      "  TEAM = col_character(),\n",
      "  G = col_double(),\n",
      "  W = col_double(),\n",
      "  L = col_double(),\n",
      "  W_PCT = col_double(),\n",
      "  HOME_RECORD = col_character(),\n",
      "  ROAD_RECORD = col_character(),\n",
      "  RETURNTOPLAY = col_logical()\n",
      ")\n",
      "\n",
      "Warning message:\n",
      "\"3990 parsing failures.\n",
      " row          col           expected actual                     file\n",
      "7320 RETURNTOPLAY 1/0/T/F/TRUE/FALSE    1.0 '../dataset/ranking.csv'\n",
      "7321 RETURNTOPLAY 1/0/T/F/TRUE/FALSE    1.0 '../dataset/ranking.csv'\n",
      "7322 RETURNTOPLAY 1/0/T/F/TRUE/FALSE    1.0 '../dataset/ranking.csv'\n",
      "7323 RETURNTOPLAY 1/0/T/F/TRUE/FALSE    1.0 '../dataset/ranking.csv'\n",
      "7324 RETURNTOPLAY 1/0/T/F/TRUE/FALSE    1.0 '../dataset/ranking.csv'\n",
      ".... ............ .................. ...... ........................\n",
      "See problems(...) for more details.\n",
      "\"\n",
      "-- Column specification --------------------------------------------------------\n",
      "cols(\n",
      "  LEAGUE_ID = col_character(),\n",
      "  TEAM_ID = col_double(),\n",
      "  MIN_YEAR = col_double(),\n",
      "  MAX_YEAR = col_double(),\n",
      "  ABBREVIATION = col_character(),\n",
      "  NICKNAME = col_character(),\n",
      "  YEARFOUNDED = col_double(),\n",
      "  CITY = col_character(),\n",
      "  ARENA = col_character(),\n",
      "  ARENACAPACITY = col_double(),\n",
      "  OWNER = col_character(),\n",
      "  GENERALMANAGER = col_character(),\n",
      "  HEADCOACH = col_character(),\n",
      "  DLEAGUEAFFILIATION = col_character()\n",
      ")\n",
      "\n"
     ]
    }
   ],
   "source": [
    "games <- read_csv(\"../dataset/games.csv\")\n",
    "games_details <- read_csv(\"../dataset/games_details.csv\")\n",
    "players <- read_csv(\"../dataset/players.csv\")\n",
    "ranking <- read_csv(\"../dataset/ranking.csv\")\n",
    "teams <- read_csv(\"../dataset/teams.csv\")\n",
    "usa_states <- \"../dataset/estados_USAt.shp\"\n",
    "nba_titles <- \"../dataset/est_tit.csv\""
   ]
  },
  {
   "cell_type": "markdown",
   "metadata": {},
   "source": [
    "### Glossário"
   ]
  },
  {
   "cell_type": "markdown",
   "metadata": {},
   "source": [
    "#### Tabela - Games: \n",
    "\n",
    "- GAME_DATE_EST: Game's date\n",
    "- GAME_ID: ID of the game\n",
    "- GAME_STATUS_TEXT: Status final means that the  game is completed\n",
    "- HOME_TEAM_ID: ID of the home team\n",
    "- VISITOR_TEAM_ID: ID of the visitor team\n",
    "- SEASON: Season when the game occured\n",
    "- TEAM_ID_home: ID of the home team (dupplicate of HOME_TEAM_ID)\n",
    "- PTS_home: Number of points scored by home team\n",
    "- FG_PCT_home: Field Goal Percentage home team\n",
    "- FT_PCT_home: Free Throw Percentage of the home team\n",
    "- FG3_PCT_home: Three Point Percentageof the home team\n",
    "- AST_home: Assists of the home team\n",
    "- REB_home: Rebounds of the home team\n",
    "- TEAM_ID_away: ID of the away team (dupplicate of VISITOR_TEAM_ID)\n",
    "- PTS_away: Number of points scored by away team\n",
    "- FG_PCT_away: Field Goal Percentage away team\n",
    "- FT_PCT_away: Free Throw Percentage of the away team\n",
    "- FG3_PCT_away: Three Point Percentage of the away team\n",
    "- AST_away: Assists of the away team\n",
    "- REB_away: Rebounds of the away team\n",
    "- HOME_TEAM_WINS: If home team won the game\n",
    "\n",
    "#### Tabela - Games_details\n",
    "\n",
    "- GAME_ID: ID of the game\n",
    "- TEAM_ID: ID of the team\n",
    "- TEAM_ABBREVIATION: Team's abbreviation\n",
    "- TEAM_CITY: City where the game was played\n",
    "- PLAYER_ID: ID of the player\n",
    "- PLAYER_NAME: Player's name\n",
    "- START_POSITION: Position of the player (if nothing then he's on the bench)\n",
    "- COMMENT: Comment\n",
    "- MIN: Minutes played\n",
    "- FGM: Field Goals Made\n",
    "- FGA: Field Goals Attempted\n",
    "- FG_PCT: Field Goal Percentage\n",
    "- FG3M: Three Pointers Made\n",
    "- FG3A: Three Pointers Attempted\n",
    "- FG3_PCT: Three Point Percentage\n",
    "- FTM: Free Throws Made\n",
    "- FTA: Free Throws Attempted\n",
    "- FT_PCT: Free Throw Percentage\n",
    "- OREB: Offensive Rebounds\n",
    "- DREB: Defensive Rebounds\n",
    "- REB: Rebounds\n",
    "- AST: Assists\n",
    "- STL: Steals\n",
    "- BLK: Blocked shots\n",
    "- TO: Turnovers\n",
    "- PF: Personnal Foul\n",
    "- PTS: Number of points scored by the player\n",
    "- PLUS_MINUS: Plus - Minus\n",
    "\n",
    "#### Tabela - players\n",
    "\n",
    "- PLAYER_NAME: Player's name\n",
    "- TEAM_ID: ID of the team\n",
    "- PLAYER_ID: ID of the player\n",
    "- SEASON: Season\n",
    "\n",
    "#### Tabela - ranking\n",
    "\n",
    "- TEAM_ID: ID of the team\n",
    "- LEAGUE_ID: ID of the league (here only NBA)\n",
    "- SEASON_ID: Season\n",
    "- STANDINGSDATE: Standings date\n",
    "- CONFERENCE: Conference (west or east)\n",
    "- TEAM: Team name\n",
    "- G: Number of games played on the season\n",
    "- W: Number of winning games on the season\n",
    "- L: Number of loosing games on the season\n",
    "- W_PCT: Win %\n",
    "- HOME_RECORD: Home record on the season\n",
    "- ROAD_RECORD: Road record on the season\n",
    "- RETURNTOPLAY(empty column)\n",
    "\n",
    "#### Tabela - teams\n",
    "\n",
    "- LEAGUE_ID: ID of the league (here only NBA)\n",
    "- TEAM_ID: ID of the team\n",
    "- MIN_YEAR: Minimum year of the team into NBA championship\n",
    "- MAX_YEAR: Maximum year of the team into NBA championship\n",
    "- ABBREVIATION: Abbreviation of team name\n",
    "- NICKNAME: Team's nickname\n",
    "- YEARFOUNDED: Founded Year\n",
    "- CITY: Team's city\n",
    "- ARENA: Team's stadium\n",
    "- ARENACAPACITY: Capacity of the stadium\n",
    "- OWNER: Owner of the team (last one)\n",
    "- GENERALMANAGER: General manager\n",
    "- HEADCOACH: Head coach\n",
    "- DLEAGUEAFFILIATION: League Affiliation"
   ]
  },
  {
   "cell_type": "markdown",
   "metadata": {},
   "source": [
    "### Verificando tabelas"
   ]
  },
  {
   "cell_type": "code",
   "execution_count": 4,
   "metadata": {},
   "outputs": [
    {
     "data": {
      "text/html": [
       "<table>\n",
       "<thead><tr><th scope=col>GAME_DATE_EST</th><th scope=col>GAME_ID</th><th scope=col>GAME_STATUS_TEXT</th><th scope=col>HOME_TEAM_ID</th><th scope=col>VISITOR_TEAM_ID</th><th scope=col>SEASON</th><th scope=col>TEAM_ID_home</th><th scope=col>PTS_home</th><th scope=col>FG_PCT_home</th><th scope=col>FT_PCT_home</th><th scope=col>...</th><th scope=col>AST_home</th><th scope=col>REB_home</th><th scope=col>TEAM_ID_away</th><th scope=col>PTS_away</th><th scope=col>FG_PCT_away</th><th scope=col>FT_PCT_away</th><th scope=col>FG3_PCT_away</th><th scope=col>AST_away</th><th scope=col>REB_away</th><th scope=col>HOME_TEAM_WINS</th></tr></thead>\n",
       "<tbody>\n",
       "\t<tr><td>2021-03-21</td><td>22000645  </td><td>Final     </td><td>1610612748</td><td>1610612754</td><td>2020      </td><td>1610612748</td><td>106       </td><td>0.402     </td><td>0.826     </td><td>...       </td><td>27        </td><td>51        </td><td>1610612754</td><td>109       </td><td>0.388     </td><td>0.900     </td><td>0.333     </td><td>27        </td><td>50        </td><td>0         </td></tr>\n",
       "\t<tr><td>2021-03-21</td><td>22000016  </td><td>Final     </td><td>1610612745</td><td>1610612760</td><td>2020      </td><td>1610612745</td><td>112       </td><td>0.494     </td><td>0.741     </td><td>...       </td><td>22        </td><td>38        </td><td>1610612760</td><td>114       </td><td>0.462     </td><td>0.680     </td><td>0.333     </td><td>22        </td><td>52        </td><td>0         </td></tr>\n",
       "\t<tr><td>2021-03-21</td><td>22000646  </td><td>Final     </td><td>1610612743</td><td>1610612740</td><td>2020      </td><td>1610612743</td><td>108       </td><td>0.500     </td><td>0.800     </td><td>...       </td><td>30        </td><td>37        </td><td>1610612740</td><td>113       </td><td>0.482     </td><td>0.767     </td><td>0.286     </td><td>26        </td><td>45        </td><td>0         </td></tr>\n",
       "\t<tr><td>2021-03-21</td><td>22000167  </td><td>Final     </td><td>1610612738</td><td>1610612753</td><td>2020      </td><td>1610612738</td><td>112       </td><td>0.455     </td><td>1.000     </td><td>...       </td><td>27        </td><td>45        </td><td>1610612753</td><td> 96       </td><td>0.381     </td><td>0.700     </td><td>0.324     </td><td>20        </td><td>44        </td><td>1         </td></tr>\n",
       "\t<tr><td>2021-03-21</td><td>22000647  </td><td>Final     </td><td>1610612751</td><td>1610612764</td><td>2020      </td><td>1610612751</td><td>113       </td><td>0.489     </td><td>0.727     </td><td>...       </td><td>24        </td><td>35        </td><td>1610612764</td><td>106       </td><td>0.532     </td><td>0.789     </td><td>0.333     </td><td>24        </td><td>43        </td><td>1         </td></tr>\n",
       "\t<tr><td>2021-03-21</td><td>22000648  </td><td>Final     </td><td>1610612739</td><td>1610612761</td><td>2020      </td><td>1610612739</td><td>116       </td><td>0.506     </td><td>0.750     </td><td>...       </td><td>29        </td><td>54        </td><td>1610612761</td><td>105       </td><td>0.389     </td><td>0.842     </td><td>0.326     </td><td>19        </td><td>37        </td><td>1         </td></tr>\n",
       "</tbody>\n",
       "</table>\n"
      ],
      "text/latex": [
       "\\begin{tabular}{r|lllllllllllllllllllll}\n",
       " GAME\\_DATE\\_EST & GAME\\_ID & GAME\\_STATUS\\_TEXT & HOME\\_TEAM\\_ID & VISITOR\\_TEAM\\_ID & SEASON & TEAM\\_ID\\_home & PTS\\_home & FG\\_PCT\\_home & FT\\_PCT\\_home & ... & AST\\_home & REB\\_home & TEAM\\_ID\\_away & PTS\\_away & FG\\_PCT\\_away & FT\\_PCT\\_away & FG3\\_PCT\\_away & AST\\_away & REB\\_away & HOME\\_TEAM\\_WINS\\\\\n",
       "\\hline\n",
       "\t 2021-03-21 & 22000645   & Final      & 1610612748 & 1610612754 & 2020       & 1610612748 & 106        & 0.402      & 0.826      & ...        & 27         & 51         & 1610612754 & 109        & 0.388      & 0.900      & 0.333      & 27         & 50         & 0         \\\\\n",
       "\t 2021-03-21 & 22000016   & Final      & 1610612745 & 1610612760 & 2020       & 1610612745 & 112        & 0.494      & 0.741      & ...        & 22         & 38         & 1610612760 & 114        & 0.462      & 0.680      & 0.333      & 22         & 52         & 0         \\\\\n",
       "\t 2021-03-21 & 22000646   & Final      & 1610612743 & 1610612740 & 2020       & 1610612743 & 108        & 0.500      & 0.800      & ...        & 30         & 37         & 1610612740 & 113        & 0.482      & 0.767      & 0.286      & 26         & 45         & 0         \\\\\n",
       "\t 2021-03-21 & 22000167   & Final      & 1610612738 & 1610612753 & 2020       & 1610612738 & 112        & 0.455      & 1.000      & ...        & 27         & 45         & 1610612753 &  96        & 0.381      & 0.700      & 0.324      & 20         & 44         & 1         \\\\\n",
       "\t 2021-03-21 & 22000647   & Final      & 1610612751 & 1610612764 & 2020       & 1610612751 & 113        & 0.489      & 0.727      & ...        & 24         & 35         & 1610612764 & 106        & 0.532      & 0.789      & 0.333      & 24         & 43         & 1         \\\\\n",
       "\t 2021-03-21 & 22000648   & Final      & 1610612739 & 1610612761 & 2020       & 1610612739 & 116        & 0.506      & 0.750      & ...        & 29         & 54         & 1610612761 & 105        & 0.389      & 0.842      & 0.326      & 19         & 37         & 1         \\\\\n",
       "\\end{tabular}\n"
      ],
      "text/markdown": [
       "\n",
       "| GAME_DATE_EST | GAME_ID | GAME_STATUS_TEXT | HOME_TEAM_ID | VISITOR_TEAM_ID | SEASON | TEAM_ID_home | PTS_home | FG_PCT_home | FT_PCT_home | ... | AST_home | REB_home | TEAM_ID_away | PTS_away | FG_PCT_away | FT_PCT_away | FG3_PCT_away | AST_away | REB_away | HOME_TEAM_WINS |\n",
       "|---|---|---|---|---|---|---|---|---|---|---|---|---|---|---|---|---|---|---|---|---|\n",
       "| 2021-03-21 | 22000645   | Final      | 1610612748 | 1610612754 | 2020       | 1610612748 | 106        | 0.402      | 0.826      | ...        | 27         | 51         | 1610612754 | 109        | 0.388      | 0.900      | 0.333      | 27         | 50         | 0          |\n",
       "| 2021-03-21 | 22000016   | Final      | 1610612745 | 1610612760 | 2020       | 1610612745 | 112        | 0.494      | 0.741      | ...        | 22         | 38         | 1610612760 | 114        | 0.462      | 0.680      | 0.333      | 22         | 52         | 0          |\n",
       "| 2021-03-21 | 22000646   | Final      | 1610612743 | 1610612740 | 2020       | 1610612743 | 108        | 0.500      | 0.800      | ...        | 30         | 37         | 1610612740 | 113        | 0.482      | 0.767      | 0.286      | 26         | 45         | 0          |\n",
       "| 2021-03-21 | 22000167   | Final      | 1610612738 | 1610612753 | 2020       | 1610612738 | 112        | 0.455      | 1.000      | ...        | 27         | 45         | 1610612753 |  96        | 0.381      | 0.700      | 0.324      | 20         | 44         | 1          |\n",
       "| 2021-03-21 | 22000647   | Final      | 1610612751 | 1610612764 | 2020       | 1610612751 | 113        | 0.489      | 0.727      | ...        | 24         | 35         | 1610612764 | 106        | 0.532      | 0.789      | 0.333      | 24         | 43         | 1          |\n",
       "| 2021-03-21 | 22000648   | Final      | 1610612739 | 1610612761 | 2020       | 1610612739 | 116        | 0.506      | 0.750      | ...        | 29         | 54         | 1610612761 | 105        | 0.389      | 0.842      | 0.326      | 19         | 37         | 1          |\n",
       "\n"
      ],
      "text/plain": [
       "  GAME_DATE_EST GAME_ID  GAME_STATUS_TEXT HOME_TEAM_ID VISITOR_TEAM_ID SEASON\n",
       "1 2021-03-21    22000645 Final            1610612748   1610612754      2020  \n",
       "2 2021-03-21    22000016 Final            1610612745   1610612760      2020  \n",
       "3 2021-03-21    22000646 Final            1610612743   1610612740      2020  \n",
       "4 2021-03-21    22000167 Final            1610612738   1610612753      2020  \n",
       "5 2021-03-21    22000647 Final            1610612751   1610612764      2020  \n",
       "6 2021-03-21    22000648 Final            1610612739   1610612761      2020  \n",
       "  TEAM_ID_home PTS_home FG_PCT_home FT_PCT_home ... AST_home REB_home\n",
       "1 1610612748   106      0.402       0.826       ... 27       51      \n",
       "2 1610612745   112      0.494       0.741       ... 22       38      \n",
       "3 1610612743   108      0.500       0.800       ... 30       37      \n",
       "4 1610612738   112      0.455       1.000       ... 27       45      \n",
       "5 1610612751   113      0.489       0.727       ... 24       35      \n",
       "6 1610612739   116      0.506       0.750       ... 29       54      \n",
       "  TEAM_ID_away PTS_away FG_PCT_away FT_PCT_away FG3_PCT_away AST_away REB_away\n",
       "1 1610612754   109      0.388       0.900       0.333        27       50      \n",
       "2 1610612760   114      0.462       0.680       0.333        22       52      \n",
       "3 1610612740   113      0.482       0.767       0.286        26       45      \n",
       "4 1610612753    96      0.381       0.700       0.324        20       44      \n",
       "5 1610612764   106      0.532       0.789       0.333        24       43      \n",
       "6 1610612761   105      0.389       0.842       0.326        19       37      \n",
       "  HOME_TEAM_WINS\n",
       "1 0             \n",
       "2 0             \n",
       "3 0             \n",
       "4 1             \n",
       "5 1             \n",
       "6 1             "
      ]
     },
     "metadata": {},
     "output_type": "display_data"
    },
    {
     "data": {
      "text/html": [
       "<table>\n",
       "<thead><tr><th scope=col>GAME_ID</th><th scope=col>TEAM_ID</th><th scope=col>TEAM_ABBREVIATION</th><th scope=col>TEAM_CITY</th><th scope=col>PLAYER_ID</th><th scope=col>PLAYER_NAME</th><th scope=col>START_POSITION</th><th scope=col>COMMENT</th><th scope=col>MIN</th><th scope=col>FGM</th><th scope=col>...</th><th scope=col>OREB</th><th scope=col>DREB</th><th scope=col>REB</th><th scope=col>AST</th><th scope=col>STL</th><th scope=col>BLK</th><th scope=col>TO</th><th scope=col>PF</th><th scope=col>PTS</th><th scope=col>PLUS_MINUS</th></tr></thead>\n",
       "<tbody>\n",
       "\t<tr><td>22000645        </td><td>1610612754      </td><td>IND             </td><td>Indiana         </td><td> 203200         </td><td>Justin Holiday  </td><td>F               </td><td>NA              </td><td>41:45:00        </td><td>5               </td><td>...             </td><td>0               </td><td>5               </td><td> 5              </td><td> 2              </td><td>2               </td><td>2               </td><td>2               </td><td>2               </td><td>15              </td><td> 8              </td></tr>\n",
       "\t<tr><td>22000645        </td><td>1610612754      </td><td>IND             </td><td>Indiana         </td><td>1627734         </td><td>Domantas Sabonis</td><td>F               </td><td>NA              </td><td>35:06:00        </td><td>5               </td><td>...             </td><td>2               </td><td>9               </td><td>11              </td><td> 1              </td><td>3               </td><td>0               </td><td>5               </td><td>6               </td><td>17              </td><td>-2              </td></tr>\n",
       "\t<tr><td>22000645        </td><td>1610612754      </td><td>IND             </td><td>Indiana         </td><td>1626167         </td><td>Myles Turner    </td><td>C               </td><td>NA              </td><td>29:58:00        </td><td>4               </td><td>...             </td><td>1               </td><td>5               </td><td> 6              </td><td> 1              </td><td>0               </td><td>5               </td><td>2               </td><td>3               </td><td>16              </td><td> 6              </td></tr>\n",
       "\t<tr><td>22000645        </td><td>1610612754      </td><td>IND             </td><td>Indiana         </td><td>1627747         </td><td>Caris LeVert    </td><td>G               </td><td>NA              </td><td>34:42:00        </td><td>5               </td><td>...             </td><td>0               </td><td>3               </td><td> 3              </td><td> 3              </td><td>1               </td><td>0               </td><td>0               </td><td>1               </td><td>13              </td><td> 1              </td></tr>\n",
       "\t<tr><td>22000645        </td><td>1610612754      </td><td>IND             </td><td>Indiana         </td><td>1627763         </td><td>Malcolm Brogdon </td><td>G               </td><td>NA              </td><td>40:35:00        </td><td>4               </td><td>...             </td><td>3               </td><td>3               </td><td> 6              </td><td>10              </td><td>1               </td><td>0               </td><td>2               </td><td>1               </td><td>12              </td><td> 6              </td></tr>\n",
       "\t<tr><td>22000645        </td><td>1610612754      </td><td>IND             </td><td>Indiana         </td><td> 203926         </td><td>Doug McDermott  </td><td>NA              </td><td>NA              </td><td>19:01:00        </td><td>7               </td><td>...             </td><td>2               </td><td>5               </td><td> 7              </td><td> 2              </td><td>0               </td><td>0               </td><td>1               </td><td>4               </td><td>15              </td><td> 2              </td></tr>\n",
       "</tbody>\n",
       "</table>\n"
      ],
      "text/latex": [
       "\\begin{tabular}{r|llllllllllllllllllllllllllll}\n",
       " GAME\\_ID & TEAM\\_ID & TEAM\\_ABBREVIATION & TEAM\\_CITY & PLAYER\\_ID & PLAYER\\_NAME & START\\_POSITION & COMMENT & MIN & FGM & ... & OREB & DREB & REB & AST & STL & BLK & TO & PF & PTS & PLUS\\_MINUS\\\\\n",
       "\\hline\n",
       "\t 22000645         & 1610612754       & IND              & Indiana          &  203200          & Justin Holiday   & F                & NA               & 41:45:00         & 5                & ...              & 0                & 5                &  5               &  2               & 2                & 2                & 2                & 2                & 15               &  8              \\\\\n",
       "\t 22000645         & 1610612754       & IND              & Indiana          & 1627734          & Domantas Sabonis & F                & NA               & 35:06:00         & 5                & ...              & 2                & 9                & 11               &  1               & 3                & 0                & 5                & 6                & 17               & -2              \\\\\n",
       "\t 22000645         & 1610612754       & IND              & Indiana          & 1626167          & Myles Turner     & C                & NA               & 29:58:00         & 4                & ...              & 1                & 5                &  6               &  1               & 0                & 5                & 2                & 3                & 16               &  6              \\\\\n",
       "\t 22000645         & 1610612754       & IND              & Indiana          & 1627747          & Caris LeVert     & G                & NA               & 34:42:00         & 5                & ...              & 0                & 3                &  3               &  3               & 1                & 0                & 0                & 1                & 13               &  1              \\\\\n",
       "\t 22000645         & 1610612754       & IND              & Indiana          & 1627763          & Malcolm Brogdon  & G                & NA               & 40:35:00         & 4                & ...              & 3                & 3                &  6               & 10               & 1                & 0                & 2                & 1                & 12               &  6              \\\\\n",
       "\t 22000645         & 1610612754       & IND              & Indiana          &  203926          & Doug McDermott   & NA               & NA               & 19:01:00         & 7                & ...              & 2                & 5                &  7               &  2               & 0                & 0                & 1                & 4                & 15               &  2              \\\\\n",
       "\\end{tabular}\n"
      ],
      "text/markdown": [
       "\n",
       "| GAME_ID | TEAM_ID | TEAM_ABBREVIATION | TEAM_CITY | PLAYER_ID | PLAYER_NAME | START_POSITION | COMMENT | MIN | FGM | ... | OREB | DREB | REB | AST | STL | BLK | TO | PF | PTS | PLUS_MINUS |\n",
       "|---|---|---|---|---|---|---|---|---|---|---|---|---|---|---|---|---|---|---|---|---|\n",
       "| 22000645         | 1610612754       | IND              | Indiana          |  203200          | Justin Holiday   | F                | NA               | 41:45:00         | 5                | ...              | 0                | 5                |  5               |  2               | 2                | 2                | 2                | 2                | 15               |  8               |\n",
       "| 22000645         | 1610612754       | IND              | Indiana          | 1627734          | Domantas Sabonis | F                | NA               | 35:06:00         | 5                | ...              | 2                | 9                | 11               |  1               | 3                | 0                | 5                | 6                | 17               | -2               |\n",
       "| 22000645         | 1610612754       | IND              | Indiana          | 1626167          | Myles Turner     | C                | NA               | 29:58:00         | 4                | ...              | 1                | 5                |  6               |  1               | 0                | 5                | 2                | 3                | 16               |  6               |\n",
       "| 22000645         | 1610612754       | IND              | Indiana          | 1627747          | Caris LeVert     | G                | NA               | 34:42:00         | 5                | ...              | 0                | 3                |  3               |  3               | 1                | 0                | 0                | 1                | 13               |  1               |\n",
       "| 22000645         | 1610612754       | IND              | Indiana          | 1627763          | Malcolm Brogdon  | G                | NA               | 40:35:00         | 4                | ...              | 3                | 3                |  6               | 10               | 1                | 0                | 2                | 1                | 12               |  6               |\n",
       "| 22000645         | 1610612754       | IND              | Indiana          |  203926          | Doug McDermott   | NA               | NA               | 19:01:00         | 7                | ...              | 2                | 5                |  7               |  2               | 0                | 0                | 1                | 4                | 15               |  2               |\n",
       "\n"
      ],
      "text/plain": [
       "  GAME_ID  TEAM_ID    TEAM_ABBREVIATION TEAM_CITY PLAYER_ID PLAYER_NAME     \n",
       "1 22000645 1610612754 IND               Indiana    203200   Justin Holiday  \n",
       "2 22000645 1610612754 IND               Indiana   1627734   Domantas Sabonis\n",
       "3 22000645 1610612754 IND               Indiana   1626167   Myles Turner    \n",
       "4 22000645 1610612754 IND               Indiana   1627747   Caris LeVert    \n",
       "5 22000645 1610612754 IND               Indiana   1627763   Malcolm Brogdon \n",
       "6 22000645 1610612754 IND               Indiana    203926   Doug McDermott  \n",
       "  START_POSITION COMMENT MIN      FGM ... OREB DREB REB AST STL BLK TO PF PTS\n",
       "1 F              NA      41:45:00 5   ... 0    5     5   2  2   2   2  2  15 \n",
       "2 F              NA      35:06:00 5   ... 2    9    11   1  3   0   5  6  17 \n",
       "3 C              NA      29:58:00 4   ... 1    5     6   1  0   5   2  3  16 \n",
       "4 G              NA      34:42:00 5   ... 0    3     3   3  1   0   0  1  13 \n",
       "5 G              NA      40:35:00 4   ... 3    3     6  10  1   0   2  1  12 \n",
       "6 NA             NA      19:01:00 7   ... 2    5     7   2  0   0   1  4  15 \n",
       "  PLUS_MINUS\n",
       "1  8        \n",
       "2 -2        \n",
       "3  6        \n",
       "4  1        \n",
       "5  6        \n",
       "6  2        "
      ]
     },
     "metadata": {},
     "output_type": "display_data"
    },
    {
     "data": {
      "text/html": [
       "<table>\n",
       "<thead><tr><th scope=col>PLAYER_NAME</th><th scope=col>TEAM_ID</th><th scope=col>PLAYER_ID</th><th scope=col>SEASON</th></tr></thead>\n",
       "<tbody>\n",
       "\t<tr><td>Royce O'Neale   </td><td>1610612762      </td><td>1626220         </td><td>2019            </td></tr>\n",
       "\t<tr><td>Bojan Bogdanovic</td><td>1610612762      </td><td> 202711         </td><td>2019            </td></tr>\n",
       "\t<tr><td>Rudy Gobert     </td><td>1610612762      </td><td> 203497         </td><td>2019            </td></tr>\n",
       "\t<tr><td>Donovan Mitchell</td><td>1610612762      </td><td>1628378         </td><td>2019            </td></tr>\n",
       "\t<tr><td>Mike Conley     </td><td>1610612762      </td><td> 201144         </td><td>2019            </td></tr>\n",
       "\t<tr><td>Joe Ingles      </td><td>1610612762      </td><td> 204060         </td><td>2019            </td></tr>\n",
       "</tbody>\n",
       "</table>\n"
      ],
      "text/latex": [
       "\\begin{tabular}{r|llll}\n",
       " PLAYER\\_NAME & TEAM\\_ID & PLAYER\\_ID & SEASON\\\\\n",
       "\\hline\n",
       "\t Royce O'Neale    & 1610612762       & 1626220          & 2019            \\\\\n",
       "\t Bojan Bogdanovic & 1610612762       &  202711          & 2019            \\\\\n",
       "\t Rudy Gobert      & 1610612762       &  203497          & 2019            \\\\\n",
       "\t Donovan Mitchell & 1610612762       & 1628378          & 2019            \\\\\n",
       "\t Mike Conley      & 1610612762       &  201144          & 2019            \\\\\n",
       "\t Joe Ingles       & 1610612762       &  204060          & 2019            \\\\\n",
       "\\end{tabular}\n"
      ],
      "text/markdown": [
       "\n",
       "| PLAYER_NAME | TEAM_ID | PLAYER_ID | SEASON |\n",
       "|---|---|---|---|\n",
       "| Royce O'Neale    | 1610612762       | 1626220          | 2019             |\n",
       "| Bojan Bogdanovic | 1610612762       |  202711          | 2019             |\n",
       "| Rudy Gobert      | 1610612762       |  203497          | 2019             |\n",
       "| Donovan Mitchell | 1610612762       | 1628378          | 2019             |\n",
       "| Mike Conley      | 1610612762       |  201144          | 2019             |\n",
       "| Joe Ingles       | 1610612762       |  204060          | 2019             |\n",
       "\n"
      ],
      "text/plain": [
       "  PLAYER_NAME      TEAM_ID    PLAYER_ID SEASON\n",
       "1 Royce O'Neale    1610612762 1626220   2019  \n",
       "2 Bojan Bogdanovic 1610612762  202711   2019  \n",
       "3 Rudy Gobert      1610612762  203497   2019  \n",
       "4 Donovan Mitchell 1610612762 1628378   2019  \n",
       "5 Mike Conley      1610612762  201144   2019  \n",
       "6 Joe Ingles       1610612762  204060   2019  "
      ]
     },
     "metadata": {},
     "output_type": "display_data"
    },
    {
     "data": {
      "text/html": [
       "<table>\n",
       "<thead><tr><th scope=col>TEAM_ID</th><th scope=col>LEAGUE_ID</th><th scope=col>SEASON_ID</th><th scope=col>STANDINGSDATE</th><th scope=col>CONFERENCE</th><th scope=col>TEAM</th><th scope=col>G</th><th scope=col>W</th><th scope=col>L</th><th scope=col>W_PCT</th><th scope=col>HOME_RECORD</th><th scope=col>ROAD_RECORD</th><th scope=col>RETURNTOPLAY</th></tr></thead>\n",
       "<tbody>\n",
       "\t<tr><td>1610612762 </td><td>00         </td><td>22020      </td><td>2021-03-21 </td><td>West       </td><td>Utah       </td><td>41         </td><td>30         </td><td>11         </td><td>0.732      </td><td>16-2       </td><td>14-9       </td><td>NA         </td></tr>\n",
       "\t<tr><td>1610612756 </td><td>00         </td><td>22020      </td><td>2021-03-21 </td><td>West       </td><td>Phoenix    </td><td>41         </td><td>28         </td><td>13         </td><td>0.683      </td><td>15-8       </td><td>13-5       </td><td>NA         </td></tr>\n",
       "\t<tr><td>1610612747 </td><td>00         </td><td>22020      </td><td>2021-03-21 </td><td>West       </td><td>L.A. Lakers</td><td>43         </td><td>28         </td><td>15         </td><td>0.651      </td><td>14-9       </td><td>14-6       </td><td>NA         </td></tr>\n",
       "\t<tr><td>1610612746 </td><td>00         </td><td>22020      </td><td>2021-03-21 </td><td>West       </td><td>LA Clippers</td><td>43         </td><td>27         </td><td>16         </td><td>0.628      </td><td>14-6       </td><td>13-10      </td><td>NA         </td></tr>\n",
       "\t<tr><td>1610612743 </td><td>00         </td><td>22020      </td><td>2021-03-21 </td><td>West       </td><td>Denver     </td><td>42         </td><td>25         </td><td>17         </td><td>0.595      </td><td>12-9       </td><td>13-8       </td><td>NA         </td></tr>\n",
       "\t<tr><td>1610612757 </td><td>00         </td><td>22020      </td><td>2021-03-21 </td><td>West       </td><td>Portland   </td><td>42         </td><td>25         </td><td>17         </td><td>0.595      </td><td>14-8       </td><td>11-9       </td><td>NA         </td></tr>\n",
       "</tbody>\n",
       "</table>\n"
      ],
      "text/latex": [
       "\\begin{tabular}{r|lllllllllllll}\n",
       " TEAM\\_ID & LEAGUE\\_ID & SEASON\\_ID & STANDINGSDATE & CONFERENCE & TEAM & G & W & L & W\\_PCT & HOME\\_RECORD & ROAD\\_RECORD & RETURNTOPLAY\\\\\n",
       "\\hline\n",
       "\t 1610612762  & 00          & 22020       & 2021-03-21  & West        & Utah        & 41          & 30          & 11          & 0.732       & 16-2        & 14-9        & NA         \\\\\n",
       "\t 1610612756  & 00          & 22020       & 2021-03-21  & West        & Phoenix     & 41          & 28          & 13          & 0.683       & 15-8        & 13-5        & NA         \\\\\n",
       "\t 1610612747  & 00          & 22020       & 2021-03-21  & West        & L.A. Lakers & 43          & 28          & 15          & 0.651       & 14-9        & 14-6        & NA         \\\\\n",
       "\t 1610612746  & 00          & 22020       & 2021-03-21  & West        & LA Clippers & 43          & 27          & 16          & 0.628       & 14-6        & 13-10       & NA         \\\\\n",
       "\t 1610612743  & 00          & 22020       & 2021-03-21  & West        & Denver      & 42          & 25          & 17          & 0.595       & 12-9        & 13-8        & NA         \\\\\n",
       "\t 1610612757  & 00          & 22020       & 2021-03-21  & West        & Portland    & 42          & 25          & 17          & 0.595       & 14-8        & 11-9        & NA         \\\\\n",
       "\\end{tabular}\n"
      ],
      "text/markdown": [
       "\n",
       "| TEAM_ID | LEAGUE_ID | SEASON_ID | STANDINGSDATE | CONFERENCE | TEAM | G | W | L | W_PCT | HOME_RECORD | ROAD_RECORD | RETURNTOPLAY |\n",
       "|---|---|---|---|---|---|---|---|---|---|---|---|---|\n",
       "| 1610612762  | 00          | 22020       | 2021-03-21  | West        | Utah        | 41          | 30          | 11          | 0.732       | 16-2        | 14-9        | NA          |\n",
       "| 1610612756  | 00          | 22020       | 2021-03-21  | West        | Phoenix     | 41          | 28          | 13          | 0.683       | 15-8        | 13-5        | NA          |\n",
       "| 1610612747  | 00          | 22020       | 2021-03-21  | West        | L.A. Lakers | 43          | 28          | 15          | 0.651       | 14-9        | 14-6        | NA          |\n",
       "| 1610612746  | 00          | 22020       | 2021-03-21  | West        | LA Clippers | 43          | 27          | 16          | 0.628       | 14-6        | 13-10       | NA          |\n",
       "| 1610612743  | 00          | 22020       | 2021-03-21  | West        | Denver      | 42          | 25          | 17          | 0.595       | 12-9        | 13-8        | NA          |\n",
       "| 1610612757  | 00          | 22020       | 2021-03-21  | West        | Portland    | 42          | 25          | 17          | 0.595       | 14-8        | 11-9        | NA          |\n",
       "\n"
      ],
      "text/plain": [
       "  TEAM_ID    LEAGUE_ID SEASON_ID STANDINGSDATE CONFERENCE TEAM        G  W  L \n",
       "1 1610612762 00        22020     2021-03-21    West       Utah        41 30 11\n",
       "2 1610612756 00        22020     2021-03-21    West       Phoenix     41 28 13\n",
       "3 1610612747 00        22020     2021-03-21    West       L.A. Lakers 43 28 15\n",
       "4 1610612746 00        22020     2021-03-21    West       LA Clippers 43 27 16\n",
       "5 1610612743 00        22020     2021-03-21    West       Denver      42 25 17\n",
       "6 1610612757 00        22020     2021-03-21    West       Portland    42 25 17\n",
       "  W_PCT HOME_RECORD ROAD_RECORD RETURNTOPLAY\n",
       "1 0.732 16-2        14-9        NA          \n",
       "2 0.683 15-8        13-5        NA          \n",
       "3 0.651 14-9        14-6        NA          \n",
       "4 0.628 14-6        13-10       NA          \n",
       "5 0.595 12-9        13-8        NA          \n",
       "6 0.595 14-8        11-9        NA          "
      ]
     },
     "metadata": {},
     "output_type": "display_data"
    },
    {
     "data": {
      "text/html": [
       "<table>\n",
       "<thead><tr><th scope=col>LEAGUE_ID</th><th scope=col>TEAM_ID</th><th scope=col>MIN_YEAR</th><th scope=col>MAX_YEAR</th><th scope=col>ABBREVIATION</th><th scope=col>NICKNAME</th><th scope=col>YEARFOUNDED</th><th scope=col>CITY</th><th scope=col>ARENA</th><th scope=col>ARENACAPACITY</th><th scope=col>OWNER</th><th scope=col>GENERALMANAGER</th><th scope=col>HEADCOACH</th><th scope=col>DLEAGUEAFFILIATION</th></tr></thead>\n",
       "<tbody>\n",
       "\t<tr><td>00                      </td><td>1610612737              </td><td>1949                    </td><td>2019                    </td><td>ATL                     </td><td>Hawks                   </td><td>1949                    </td><td>Atlanta                 </td><td>State Farm Arena        </td><td>18729                   </td><td>Tony Ressler            </td><td>Travis Schlenk          </td><td>Lloyd Pierce            </td><td>Erie Bayhawks           </td></tr>\n",
       "\t<tr><td>00                      </td><td>1610612738              </td><td>1946                    </td><td>2019                    </td><td>BOS                     </td><td>Celtics                 </td><td>1946                    </td><td>Boston                  </td><td>TD Garden               </td><td>18624                   </td><td>Wyc Grousbeck           </td><td>Danny Ainge             </td><td>Brad Stevens            </td><td>Maine Red Claws         </td></tr>\n",
       "\t<tr><td>00                      </td><td>1610612740              </td><td>2002                    </td><td>2019                    </td><td>NOP                     </td><td>Pelicans                </td><td>2002                    </td><td>New Orleans             </td><td>Smoothie King Center    </td><td>   NA                   </td><td>Tom Benson              </td><td>Trajan Langdon          </td><td>Alvin Gentry            </td><td>No Affiliate            </td></tr>\n",
       "\t<tr><td>00                      </td><td>1610612741              </td><td>1966                    </td><td>2019                    </td><td>CHI                     </td><td>Bulls                   </td><td>1966                    </td><td>Chicago                 </td><td>United Center           </td><td>21711                   </td><td>Jerry Reinsdorf         </td><td>Gar Forman              </td><td>Jim Boylen              </td><td>Windy City Bulls        </td></tr>\n",
       "\t<tr><td>00                      </td><td>1610612742              </td><td>1980                    </td><td>2019                    </td><td>DAL                     </td><td>Mavericks               </td><td>1980                    </td><td>Dallas                  </td><td>American Airlines Center</td><td>19200                   </td><td>Mark Cuban              </td><td>Donnie Nelson           </td><td>Rick Carlisle           </td><td>Texas Legends           </td></tr>\n",
       "\t<tr><td>00                      </td><td>1610612743              </td><td>1976                    </td><td>2019                    </td><td>DEN                     </td><td>Nuggets                 </td><td>1976                    </td><td>Denver                  </td><td>Pepsi Center            </td><td>19099                   </td><td>Stan Kroenke            </td><td>Tim Connelly            </td><td>Michael Malone          </td><td>No Affiliate            </td></tr>\n",
       "</tbody>\n",
       "</table>\n"
      ],
      "text/latex": [
       "\\begin{tabular}{r|llllllllllllll}\n",
       " LEAGUE\\_ID & TEAM\\_ID & MIN\\_YEAR & MAX\\_YEAR & ABBREVIATION & NICKNAME & YEARFOUNDED & CITY & ARENA & ARENACAPACITY & OWNER & GENERALMANAGER & HEADCOACH & DLEAGUEAFFILIATION\\\\\n",
       "\\hline\n",
       "\t 00                       & 1610612737               & 1949                     & 2019                     & ATL                      & Hawks                    & 1949                     & Atlanta                  & State Farm Arena         & 18729                    & Tony Ressler             & Travis Schlenk           & Lloyd Pierce             & Erie Bayhawks           \\\\\n",
       "\t 00                       & 1610612738               & 1946                     & 2019                     & BOS                      & Celtics                  & 1946                     & Boston                   & TD Garden                & 18624                    & Wyc Grousbeck            & Danny Ainge              & Brad Stevens             & Maine Red Claws         \\\\\n",
       "\t 00                       & 1610612740               & 2002                     & 2019                     & NOP                      & Pelicans                 & 2002                     & New Orleans              & Smoothie King Center     &    NA                    & Tom Benson               & Trajan Langdon           & Alvin Gentry             & No Affiliate            \\\\\n",
       "\t 00                       & 1610612741               & 1966                     & 2019                     & CHI                      & Bulls                    & 1966                     & Chicago                  & United Center            & 21711                    & Jerry Reinsdorf          & Gar Forman               & Jim Boylen               & Windy City Bulls        \\\\\n",
       "\t 00                       & 1610612742               & 1980                     & 2019                     & DAL                      & Mavericks                & 1980                     & Dallas                   & American Airlines Center & 19200                    & Mark Cuban               & Donnie Nelson            & Rick Carlisle            & Texas Legends           \\\\\n",
       "\t 00                       & 1610612743               & 1976                     & 2019                     & DEN                      & Nuggets                  & 1976                     & Denver                   & Pepsi Center             & 19099                    & Stan Kroenke             & Tim Connelly             & Michael Malone           & No Affiliate            \\\\\n",
       "\\end{tabular}\n"
      ],
      "text/markdown": [
       "\n",
       "| LEAGUE_ID | TEAM_ID | MIN_YEAR | MAX_YEAR | ABBREVIATION | NICKNAME | YEARFOUNDED | CITY | ARENA | ARENACAPACITY | OWNER | GENERALMANAGER | HEADCOACH | DLEAGUEAFFILIATION |\n",
       "|---|---|---|---|---|---|---|---|---|---|---|---|---|---|\n",
       "| 00                       | 1610612737               | 1949                     | 2019                     | ATL                      | Hawks                    | 1949                     | Atlanta                  | State Farm Arena         | 18729                    | Tony Ressler             | Travis Schlenk           | Lloyd Pierce             | Erie Bayhawks            |\n",
       "| 00                       | 1610612738               | 1946                     | 2019                     | BOS                      | Celtics                  | 1946                     | Boston                   | TD Garden                | 18624                    | Wyc Grousbeck            | Danny Ainge              | Brad Stevens             | Maine Red Claws          |\n",
       "| 00                       | 1610612740               | 2002                     | 2019                     | NOP                      | Pelicans                 | 2002                     | New Orleans              | Smoothie King Center     |    NA                    | Tom Benson               | Trajan Langdon           | Alvin Gentry             | No Affiliate             |\n",
       "| 00                       | 1610612741               | 1966                     | 2019                     | CHI                      | Bulls                    | 1966                     | Chicago                  | United Center            | 21711                    | Jerry Reinsdorf          | Gar Forman               | Jim Boylen               | Windy City Bulls         |\n",
       "| 00                       | 1610612742               | 1980                     | 2019                     | DAL                      | Mavericks                | 1980                     | Dallas                   | American Airlines Center | 19200                    | Mark Cuban               | Donnie Nelson            | Rick Carlisle            | Texas Legends            |\n",
       "| 00                       | 1610612743               | 1976                     | 2019                     | DEN                      | Nuggets                  | 1976                     | Denver                   | Pepsi Center             | 19099                    | Stan Kroenke             | Tim Connelly             | Michael Malone           | No Affiliate             |\n",
       "\n"
      ],
      "text/plain": [
       "  LEAGUE_ID TEAM_ID    MIN_YEAR MAX_YEAR ABBREVIATION NICKNAME  YEARFOUNDED\n",
       "1 00        1610612737 1949     2019     ATL          Hawks     1949       \n",
       "2 00        1610612738 1946     2019     BOS          Celtics   1946       \n",
       "3 00        1610612740 2002     2019     NOP          Pelicans  2002       \n",
       "4 00        1610612741 1966     2019     CHI          Bulls     1966       \n",
       "5 00        1610612742 1980     2019     DAL          Mavericks 1980       \n",
       "6 00        1610612743 1976     2019     DEN          Nuggets   1976       \n",
       "  CITY        ARENA                    ARENACAPACITY OWNER          \n",
       "1 Atlanta     State Farm Arena         18729         Tony Ressler   \n",
       "2 Boston      TD Garden                18624         Wyc Grousbeck  \n",
       "3 New Orleans Smoothie King Center        NA         Tom Benson     \n",
       "4 Chicago     United Center            21711         Jerry Reinsdorf\n",
       "5 Dallas      American Airlines Center 19200         Mark Cuban     \n",
       "6 Denver      Pepsi Center             19099         Stan Kroenke   \n",
       "  GENERALMANAGER HEADCOACH      DLEAGUEAFFILIATION\n",
       "1 Travis Schlenk Lloyd Pierce   Erie Bayhawks     \n",
       "2 Danny Ainge    Brad Stevens   Maine Red Claws   \n",
       "3 Trajan Langdon Alvin Gentry   No Affiliate      \n",
       "4 Gar Forman     Jim Boylen     Windy City Bulls  \n",
       "5 Donnie Nelson  Rick Carlisle  Texas Legends     \n",
       "6 Tim Connelly   Michael Malone No Affiliate      "
      ]
     },
     "metadata": {},
     "output_type": "display_data"
    }
   ],
   "source": [
    "head(games)\n",
    "head(games_details)\n",
    "head(players)\n",
    "head(ranking)\n",
    "head(teams)"
   ]
  },
  {
   "cell_type": "code",
   "execution_count": 58,
   "metadata": {},
   "outputs": [
    {
     "data": {
      "text/html": [
       "<table>\n",
       "<thead><tr><th scope=col>LEAGUE_ID</th><th scope=col>TEAM_ID</th><th scope=col>MIN_YEAR</th><th scope=col>MAX_YEAR</th><th scope=col>ABBREVIATION</th><th scope=col>NICKNAME</th><th scope=col>YEARFOUNDED</th><th scope=col>CITY</th><th scope=col>ARENA</th><th scope=col>ARENACAPACITY</th><th scope=col>OWNER</th><th scope=col>GENERALMANAGER</th><th scope=col>HEADCOACH</th><th scope=col>DLEAGUEAFFILIATION</th></tr></thead>\n",
       "<tbody>\n",
       "\t<tr><td>00             </td><td>1610612759     </td><td>1976           </td><td>2019           </td><td>SAS            </td><td>Spurs          </td><td>1976           </td><td>San Antonio    </td><td>AT&amp;T Center</td><td>18694          </td><td>Peter Holt     </td><td>Brian Wright   </td><td>Gregg Popovich </td><td>Austin Spurs   </td></tr>\n",
       "</tbody>\n",
       "</table>\n"
      ],
      "text/latex": [
       "\\begin{tabular}{r|llllllllllllll}\n",
       " LEAGUE\\_ID & TEAM\\_ID & MIN\\_YEAR & MAX\\_YEAR & ABBREVIATION & NICKNAME & YEARFOUNDED & CITY & ARENA & ARENACAPACITY & OWNER & GENERALMANAGER & HEADCOACH & DLEAGUEAFFILIATION\\\\\n",
       "\\hline\n",
       "\t 00             & 1610612759     & 1976           & 2019           & SAS            & Spurs          & 1976           & San Antonio    & AT\\&T Center  & 18694          & Peter Holt     & Brian Wright   & Gregg Popovich & Austin Spurs  \\\\\n",
       "\\end{tabular}\n"
      ],
      "text/markdown": [
       "\n",
       "| LEAGUE_ID | TEAM_ID | MIN_YEAR | MAX_YEAR | ABBREVIATION | NICKNAME | YEARFOUNDED | CITY | ARENA | ARENACAPACITY | OWNER | GENERALMANAGER | HEADCOACH | DLEAGUEAFFILIATION |\n",
       "|---|---|---|---|---|---|---|---|---|---|---|---|---|---|\n",
       "| 00             | 1610612759     | 1976           | 2019           | SAS            | Spurs          | 1976           | San Antonio    | AT&T Center    | 18694          | Peter Holt     | Brian Wright   | Gregg Popovich | Austin Spurs   |\n",
       "\n"
      ],
      "text/plain": [
       "  LEAGUE_ID TEAM_ID    MIN_YEAR MAX_YEAR ABBREVIATION NICKNAME YEARFOUNDED\n",
       "1 00        1610612759 1976     2019     SAS          Spurs    1976       \n",
       "  CITY        ARENA       ARENACAPACITY OWNER      GENERALMANAGER\n",
       "1 San Antonio AT&T Center 18694         Peter Holt Brian Wright  \n",
       "  HEADCOACH      DLEAGUEAFFILIATION\n",
       "1 Gregg Popovich Austin Spurs      "
      ]
     },
     "metadata": {},
     "output_type": "display_data"
    }
   ],
   "source": [
    "df <- teams %>%\n",
    "        filter(TEAM_ID == 1610612759)\n",
    "\n",
    "df"
   ]
  },
  {
   "cell_type": "code",
   "execution_count": 3,
   "metadata": {},
   "outputs": [
    {
     "name": "stdout",
     "output_type": "stream",
     "text": [
      "Rows: 24,195\n",
      "Columns: 21\n",
      "$ GAME_DATE_EST    <date> 2021-03-21, 2021-03-21, 2021-03-21, 2021-03-21, 2021~\n",
      "$ GAME_ID          <dbl> 22000645, 22000016, 22000646, 22000167, 22000647, 220~\n",
      "$ GAME_STATUS_TEXT <chr> \"Final\", \"Final\", \"Final\", \"Final\", \"Final\", \"Final\",~\n",
      "$ HOME_TEAM_ID     <dbl> 1610612748, 1610612745, 1610612743, 1610612738, 16106~\n",
      "$ VISITOR_TEAM_ID  <dbl> 1610612754, 1610612760, 1610612740, 1610612753, 16106~\n",
      "$ SEASON           <dbl> 2020, 2020, 2020, 2020, 2020, 2020, 2020, 2020, 2020,~\n",
      "$ TEAM_ID_home     <dbl> 1610612748, 1610612745, 1610612743, 1610612738, 16106~\n",
      "$ PTS_home         <dbl> 106, 112, 108, 112, 113, 116, 86, 100, 111, 92, 94, 1~\n",
      "$ FG_PCT_home      <dbl> 0.402, 0.494, 0.500, 0.455, 0.489, 0.506, 0.390, 0.43~\n",
      "$ FT_PCT_home      <dbl> 0.826, 0.741, 0.800, 1.000, 0.727, 0.750, 0.720, 0.56~\n",
      "$ FG3_PCT_home     <dbl> 0.243, 0.368, 0.353, 0.426, 0.310, 0.515, 0.160, 0.45~\n",
      "$ AST_home         <dbl> 27, 22, 30, 27, 24, 29, 20, 16, 30, 17, 18, 24, 25, 2~\n",
      "$ REB_home         <dbl> 51, 38, 37, 45, 35, 54, 37, 44, 51, 33, 52, 51, 60, 4~\n",
      "$ TEAM_ID_away     <dbl> 1610612754, 1610612760, 1610612740, 1610612753, 16106~\n",
      "$ PTS_away         <dbl> 109, 114, 113, 96, 106, 105, 100, 101, 94, 132, 99, 1~\n",
      "$ FG_PCT_away      <dbl> 0.388, 0.462, 0.482, 0.381, 0.532, 0.389, 0.463, 0.46~\n",
      "$ FT_PCT_away      <dbl> 0.900, 0.680, 0.767, 0.700, 0.789, 0.842, 0.857, 0.60~\n",
      "$ FG3_PCT_away     <dbl> 0.333, 0.333, 0.286, 0.324, 0.333, 0.326, 0.500, 0.44~\n",
      "$ AST_away         <dbl> 27, 22, 26, 20, 24, 19, 26, 19, 20, 23, 26, 28, 23, 2~\n",
      "$ REB_away         <dbl> 50, 52, 45, 44, 43, 37, 52, 44, 41, 52, 49, 34, 46, 4~\n",
      "$ HOME_TEAM_WINS   <dbl> 0, 0, 0, 1, 1, 1, 0, 0, 1, 0, 0, 1, 1, 1, 1, 0, 0, 0,~\n"
     ]
    }
   ],
   "source": [
    "glimpse(games)"
   ]
  },
  {
   "cell_type": "code",
   "execution_count": 4,
   "metadata": {},
   "outputs": [
    {
     "name": "stdout",
     "output_type": "stream",
     "text": [
      "Rows: 602,767\n",
      "Columns: 28\n",
      "$ GAME_ID           <dbl> 22000645, 22000645, 22000645, 22000645, 22000645, 22~\n",
      "$ TEAM_ID           <dbl> 1610612754, 1610612754, 1610612754, 1610612754, 1610~\n",
      "$ TEAM_ABBREVIATION <chr> \"IND\", \"IND\", \"IND\", \"IND\", \"IND\", \"IND\", \"IND\", \"IN~\n",
      "$ TEAM_CITY         <chr> \"Indiana\", \"Indiana\", \"Indiana\", \"Indiana\", \"Indiana~\n",
      "$ PLAYER_ID         <dbl> 203200, 1627734, 1626167, 1627747, 1627763, 203926, ~\n",
      "$ PLAYER_NAME       <chr> \"Justin Holiday\", \"Domantas Sabonis\", \"Myles Turner\"~\n",
      "$ START_POSITION    <chr> \"F\", \"F\", \"C\", \"G\", \"G\", NA, NA, NA, NA, NA, NA, NA,~\n",
      "$ COMMENT           <chr> NA, NA, NA, NA, NA, NA, NA, NA, NA, NA, \"DNP - Coach~\n",
      "$ MIN               <time> 41:45:00, 35:06:00, 29:58:00, 34:42:00, 40:35:00, 1~\n",
      "$ FGM               <dbl> 5, 5, 4, 5, 4, 7, 5, 1, 1, 1, NA, NA, NA, NA, NA, 7,~\n",
      "$ FGA               <dbl> 11, 13, 8, 18, 17, 10, 7, 4, 7, 3, NA, NA, NA, NA, N~\n",
      "$ FG_PCT            <dbl> 0.455, 0.385, 0.500, 0.278, 0.235, 0.700, 0.714, 0.2~\n",
      "$ FG3M              <dbl> 5, 0, 3, 2, 3, 1, 0, 1, 0, 0, NA, NA, NA, NA, NA, 0,~\n",
      "$ FG3A              <dbl> 11, 2, 5, 6, 11, 3, 0, 3, 3, 1, NA, NA, NA, NA, NA, ~\n",
      "$ FG3_PCT           <dbl> 0.455, 0.000, 0.600, 0.333, 0.273, 0.333, 0.000, 0.3~\n",
      "$ FTM               <dbl> 0, 7, 5, 1, 1, 0, 2, 0, 2, 0, NA, NA, NA, NA, NA, 7,~\n",
      "$ FTA               <dbl> 0, 7, 6, 1, 2, 0, 2, 0, 2, 0, NA, NA, NA, NA, NA, 8,~\n",
      "$ FT_PCT            <dbl> 0.000, 1.000, 0.833, 1.000, 0.500, 0.000, 1.000, 0.0~\n",
      "$ OREB              <dbl> 0, 2, 1, 0, 3, 2, 2, 1, 1, 1, NA, NA, NA, NA, NA, 6,~\n",
      "$ DREB              <dbl> 5, 9, 5, 3, 3, 5, 3, 0, 2, 2, NA, NA, NA, NA, NA, 9,~\n",
      "$ REB               <dbl> 5, 11, 6, 3, 6, 7, 5, 1, 3, 3, NA, NA, NA, NA, NA, 1~\n",
      "$ AST               <dbl> 2, 1, 1, 3, 10, 2, 7, 0, 1, 0, NA, NA, NA, NA, NA, 7~\n",
      "$ STL               <dbl> 2, 3, 0, 1, 1, 0, 1, 0, 0, 0, NA, NA, NA, NA, NA, 0,~\n",
      "$ BLK               <dbl> 2, 0, 5, 0, 0, 0, 0, 1, 0, 2, NA, NA, NA, NA, NA, 0,~\n",
      "$ TO                <dbl> 2, 5, 2, 0, 2, 1, 1, 1, 0, 0, NA, NA, NA, NA, NA, 2,~\n",
      "$ PF                <dbl> 2, 6, 3, 1, 1, 4, 1, 1, 2, 1, NA, NA, NA, NA, NA, 3,~\n",
      "$ PTS               <dbl> 15, 17, 16, 13, 12, 15, 12, 3, 4, 2, NA, NA, NA, NA,~\n",
      "$ PLUS_MINUS        <dbl> 8, -2, 6, 1, 6, 2, -1, -3, -5, 3, NA, NA, NA, NA, NA~\n"
     ]
    }
   ],
   "source": [
    "glimpse(games_details)"
   ]
  },
  {
   "cell_type": "code",
   "execution_count": 5,
   "metadata": {},
   "outputs": [
    {
     "name": "stdout",
     "output_type": "stream",
     "text": [
      "Rows: 7,228\n",
      "Columns: 4\n",
      "$ PLAYER_NAME <chr> \"Royce O'Neale\", \"Bojan Bogdanovic\", \"Rudy Gobert\", \"Donov~\n",
      "$ TEAM_ID     <dbl> 1610612762, 1610612762, 1610612762, 1610612762, 1610612762~\n",
      "$ PLAYER_ID   <dbl> 1626220, 202711, 203497, 1628378, 201144, 204060, 202334, ~\n",
      "$ SEASON      <dbl> 2019, 2019, 2019, 2019, 2019, 2019, 2019, 2019, 2019, 2019~\n"
     ]
    }
   ],
   "source": [
    "glimpse(players)"
   ]
  },
  {
   "cell_type": "code",
   "execution_count": 5,
   "metadata": {},
   "outputs": [
    {
     "name": "stdout",
     "output_type": "stream",
     "text": [
      "Rows: 30\n",
      "Columns: 14\n",
      "$ LEAGUE_ID          <chr> \"00\", \"00\", \"00\", \"00\", \"00\", \"00\", \"00\", \"00\", \"00~\n",
      "$ TEAM_ID            <dbl> 1610612737, 1610612738, 1610612740, 1610612741, 161~\n",
      "$ MIN_YEAR           <dbl> 1949, 1946, 2002, 1966, 1980, 1976, 1967, 1970, 194~\n",
      "$ MAX_YEAR           <dbl> 2019, 2019, 2019, 2019, 2019, 2019, 2019, 2019, 201~\n",
      "$ ABBREVIATION       <chr> \"ATL\", \"BOS\", \"NOP\", \"CHI\", \"DAL\", \"DEN\", \"HOU\", \"L~\n",
      "$ NICKNAME           <chr> \"Hawks\", \"Celtics\", \"Pelicans\", \"Bulls\", \"Mavericks~\n",
      "$ YEARFOUNDED        <dbl> 1949, 1946, 2002, 1966, 1980, 1976, 1967, 1970, 194~\n",
      "$ CITY               <chr> \"Atlanta\", \"Boston\", \"New Orleans\", \"Chicago\", \"Dal~\n",
      "$ ARENA              <chr> \"State Farm Arena\", \"TD Garden\", \"Smoothie King Cen~\n",
      "$ ARENACAPACITY      <dbl> 18729, 18624, NA, 21711, 19200, 19099, 18104, 19060~\n",
      "$ OWNER              <chr> \"Tony Ressler\", \"Wyc Grousbeck\", \"Tom Benson\", \"Jer~\n",
      "$ GENERALMANAGER     <chr> \"Travis Schlenk\", \"Danny Ainge\", \"Trajan Langdon\", ~\n",
      "$ HEADCOACH          <chr> \"Lloyd Pierce\", \"Brad Stevens\", \"Alvin Gentry\", \"Ji~\n",
      "$ DLEAGUEAFFILIATION <chr> \"Erie Bayhawks\", \"Maine Red Claws\", \"No Affiliate\",~\n"
     ]
    }
   ],
   "source": [
    "glimpse(teams)"
   ]
  },
  {
   "cell_type": "code",
   "execution_count": 6,
   "metadata": {},
   "outputs": [
    {
     "name": "stdout",
     "output_type": "stream",
     "text": [
      "Rows: 191,112\n",
      "Columns: 13\n",
      "$ TEAM_ID       <dbl> 1610612762, 1610612756, 1610612747, 1610612746, 16106127~\n",
      "$ LEAGUE_ID     <chr> \"00\", \"00\", \"00\", \"00\", \"00\", \"00\", \"00\", \"00\", \"00\", \"0~\n",
      "$ SEASON_ID     <dbl> 22020, 22020, 22020, 22020, 22020, 22020, 22020, 22020, ~\n",
      "$ STANDINGSDATE <date> 2021-03-21, 2021-03-21, 2021-03-21, 2021-03-21, 2021-03~\n",
      "$ CONFERENCE    <chr> \"West\", \"West\", \"West\", \"West\", \"West\", \"West\", \"West\", ~\n",
      "$ TEAM          <chr> \"Utah\", \"Phoenix\", \"L.A. Lakers\", \"LA Clippers\", \"Denver~\n",
      "$ G             <dbl> 41, 41, 43, 43, 42, 42, 39, 41, 43, 39, 42, 42, 42, 41, ~\n",
      "$ W             <dbl> 30, 28, 28, 27, 25, 25, 22, 22, 22, 19, 18, 18, 17, 11, ~\n",
      "$ L             <dbl> 11, 13, 15, 16, 17, 17, 17, 19, 21, 20, 24, 24, 25, 30, ~\n",
      "$ W_PCT         <dbl> 0.732, 0.683, 0.651, 0.628, 0.595, 0.595, 0.564, 0.537, ~\n",
      "$ HOME_RECORD   <chr> \"16-2\", \"15-8\", \"14-9\", \"14-6\", \"12-9\", \"14-8\", \"10-10\",~\n",
      "$ ROAD_RECORD   <chr> \"14-9\", \"13-5\", \"14-6\", \"13-10\", \"13-8\", \"11-9\", \"12-7\",~\n",
      "$ RETURNTOPLAY  <lgl> NA, NA, NA, NA, NA, NA, NA, NA, NA, NA, NA, NA, NA, NA, ~\n"
     ]
    }
   ],
   "source": [
    "glimpse(ranking)"
   ]
  },
  {
   "cell_type": "code",
   "execution_count": 10,
   "metadata": {},
   "outputs": [
    {
     "data": {
      "text/html": [
       "<table>\n",
       "<thead><tr><th scope=col>TEAM_ID</th><th scope=col>per_W</th><th scope=col>LEAGUE_ID</th><th scope=col>MIN_YEAR</th><th scope=col>MAX_YEAR</th><th scope=col>ABBREVIATION</th><th scope=col>NICKNAME</th><th scope=col>YEARFOUNDED</th><th scope=col>CITY</th><th scope=col>ARENA</th><th scope=col>ARENACAPACITY</th><th scope=col>OWNER</th><th scope=col>GENERALMANAGER</th><th scope=col>HEADCOACH</th><th scope=col>DLEAGUEAFFILIATION</th></tr></thead>\n",
       "<tbody>\n",
       "\t<tr><td>1610612759                                                          </td><td>0.6843183                                                           </td><td>00                                                                  </td><td>1976                                                                </td><td>2019                                                                </td><td>SAS                                                                 </td><td><span style=white-space:pre-wrap>Spurs    </span>                   </td><td>1976                                                                </td><td><span style=white-space:pre-wrap>San Antonio  </span>               </td><td><span style=white-space:pre-wrap>AT&amp;T Center             </span></td><td>18694                                                               </td><td><span style=white-space:pre-wrap>Peter Holt             </span>     </td><td><span style=white-space:pre-wrap>Brian Wright   </span>             </td><td>Gregg Popovich                                                      </td><td><span style=white-space:pre-wrap>Austin Spurs            </span>    </td></tr>\n",
       "\t<tr><td>1610612745              </td><td>0.5965185               </td><td>00                      </td><td>1967                    </td><td>2019                    </td><td>HOU                     </td><td>Rockets                 </td><td>1967                    </td><td>Houston                 </td><td>Toyota Center           </td><td>18104                   </td><td>Tilman Fertitta         </td><td>Daryl Morey             </td><td>Mike D'Antoni           </td><td>Rio Grande Valley Vipers</td></tr>\n",
       "\t<tr><td>1610612742              </td><td>0.5869039               </td><td>00                      </td><td>1980                    </td><td>2019                    </td><td>DAL                     </td><td>Mavericks               </td><td>1980                    </td><td>Dallas                  </td><td>American Airlines Center</td><td>19200                   </td><td>Mark Cuban              </td><td>Donnie Nelson           </td><td>Rick Carlisle           </td><td>Texas Legends           </td></tr>\n",
       "\t<tr><td>1610612738              </td><td>0.5690926               </td><td>00                      </td><td>1946                    </td><td>2019                    </td><td>BOS                     </td><td>Celtics                 </td><td>1946                    </td><td>Boston                  </td><td>TD Garden               </td><td>18624                   </td><td>Wyc Grousbeck           </td><td>Danny Ainge             </td><td>Brad Stevens            </td><td>Maine Red Claws         </td></tr>\n",
       "\t<tr><td>1610612748              </td><td>0.5668913               </td><td>00                      </td><td>1988                    </td><td>2019                    </td><td>MIA                     </td><td>Heat                    </td><td>1988                    </td><td>Miami                   </td><td>AmericanAirlines Arena  </td><td>19600                   </td><td>Micky Arison            </td><td>Pat Riley               </td><td>Erik Spoelstra          </td><td>Sioux Falls Skyforce    </td></tr>\n",
       "\t<tr><td>1610612743              </td><td>0.5608854               </td><td>00                      </td><td>1976                    </td><td>2019                    </td><td>DEN                     </td><td>Nuggets                 </td><td>1976                    </td><td>Denver                  </td><td>Pepsi Center            </td><td>19099                   </td><td>Stan Kroenke            </td><td>Tim Connelly            </td><td>Michael Malone          </td><td>No Affiliate            </td></tr>\n",
       "\t<tr><td>1610612760              </td><td>0.5549785               </td><td>00                      </td><td>1967                    </td><td>2019                    </td><td>OKC                     </td><td>Thunder                 </td><td>1967                    </td><td>Oklahoma City           </td><td>Chesapeake Energy Arena </td><td>19163                   </td><td>Clay Bennett            </td><td>Sam Presti              </td><td>Billy Donovan           </td><td>Oklahoma City Blue      </td></tr>\n",
       "\t<tr><td>1610612744              </td><td>0.5409769               </td><td>00                      </td><td>1946                    </td><td>2019                    </td><td>GSW                     </td><td>Warriors                </td><td>1946                    </td><td>Golden State            </td><td>Chase Center            </td><td>19596                   </td><td>Joe Lacob               </td><td>Bob Myers               </td><td>Steve Kerr              </td><td>Santa Cruz Warriors     </td></tr>\n",
       "\t<tr><td>1610612754              </td><td>0.5363205               </td><td>00                      </td><td>1976                    </td><td>2019                    </td><td>IND                     </td><td>Pacers                  </td><td>1976                    </td><td>Indiana                 </td><td>Bankers Life Fieldhouse </td><td>18345                   </td><td>Herb Simon              </td><td>Kevin Pritchard         </td><td>Nate McMillan           </td><td>Fort Wayne Mad Ants     </td></tr>\n",
       "\t<tr><td>1610612747              </td><td>0.5334225               </td><td>00                      </td><td>1948                    </td><td>2019                    </td><td>LAL                     </td><td>Lakers                  </td><td>1948                    </td><td>Los Angeles             </td><td>Staples Center          </td><td>19060                   </td><td>Jerry Buss Family Trust </td><td>Rob Pelinka             </td><td>Frank Vogel             </td><td>South Bay Lakers        </td></tr>\n",
       "</tbody>\n",
       "</table>\n"
      ],
      "text/latex": [
       "\\begin{tabular}{r|lllllllllllllll}\n",
       " TEAM\\_ID & per\\_W & LEAGUE\\_ID & MIN\\_YEAR & MAX\\_YEAR & ABBREVIATION & NICKNAME & YEARFOUNDED & CITY & ARENA & ARENACAPACITY & OWNER & GENERALMANAGER & HEADCOACH & DLEAGUEAFFILIATION\\\\\n",
       "\\hline\n",
       "\t 1610612759                 & 0.6843183                  & 00                         & 1976                       & 2019                       & SAS                        & Spurs                      & 1976                       & San Antonio                & AT\\&T Center              & 18694                      & Peter Holt                 & Brian Wright               & Gregg Popovich             & Austin Spurs              \\\\\n",
       "\t 1610612745               & 0.5965185                & 00                       & 1967                     & 2019                     & HOU                      & Rockets                  & 1967                     & Houston                  & Toyota Center            & 18104                    & Tilman Fertitta          & Daryl Morey              & Mike D'Antoni            & Rio Grande Valley Vipers\\\\\n",
       "\t 1610612742               & 0.5869039                & 00                       & 1980                     & 2019                     & DAL                      & Mavericks                & 1980                     & Dallas                   & American Airlines Center & 19200                    & Mark Cuban               & Donnie Nelson            & Rick Carlisle            & Texas Legends           \\\\\n",
       "\t 1610612738               & 0.5690926                & 00                       & 1946                     & 2019                     & BOS                      & Celtics                  & 1946                     & Boston                   & TD Garden                & 18624                    & Wyc Grousbeck            & Danny Ainge              & Brad Stevens             & Maine Red Claws         \\\\\n",
       "\t 1610612748               & 0.5668913                & 00                       & 1988                     & 2019                     & MIA                      & Heat                     & 1988                     & Miami                    & AmericanAirlines Arena   & 19600                    & Micky Arison             & Pat Riley                & Erik Spoelstra           & Sioux Falls Skyforce    \\\\\n",
       "\t 1610612743               & 0.5608854                & 00                       & 1976                     & 2019                     & DEN                      & Nuggets                  & 1976                     & Denver                   & Pepsi Center             & 19099                    & Stan Kroenke             & Tim Connelly             & Michael Malone           & No Affiliate            \\\\\n",
       "\t 1610612760               & 0.5549785                & 00                       & 1967                     & 2019                     & OKC                      & Thunder                  & 1967                     & Oklahoma City            & Chesapeake Energy Arena  & 19163                    & Clay Bennett             & Sam Presti               & Billy Donovan            & Oklahoma City Blue      \\\\\n",
       "\t 1610612744               & 0.5409769                & 00                       & 1946                     & 2019                     & GSW                      & Warriors                 & 1946                     & Golden State             & Chase Center             & 19596                    & Joe Lacob                & Bob Myers                & Steve Kerr               & Santa Cruz Warriors     \\\\\n",
       "\t 1610612754               & 0.5363205                & 00                       & 1976                     & 2019                     & IND                      & Pacers                   & 1976                     & Indiana                  & Bankers Life Fieldhouse  & 18345                    & Herb Simon               & Kevin Pritchard          & Nate McMillan            & Fort Wayne Mad Ants     \\\\\n",
       "\t 1610612747               & 0.5334225                & 00                       & 1948                     & 2019                     & LAL                      & Lakers                   & 1948                     & Los Angeles              & Staples Center           & 19060                    & Jerry Buss Family Trust  & Rob Pelinka              & Frank Vogel              & South Bay Lakers        \\\\\n",
       "\\end{tabular}\n"
      ],
      "text/markdown": [
       "\n",
       "| TEAM_ID | per_W | LEAGUE_ID | MIN_YEAR | MAX_YEAR | ABBREVIATION | NICKNAME | YEARFOUNDED | CITY | ARENA | ARENACAPACITY | OWNER | GENERALMANAGER | HEADCOACH | DLEAGUEAFFILIATION |\n",
       "|---|---|---|---|---|---|---|---|---|---|---|---|---|---|---|\n",
       "| 1610612759               | 0.6843183                | 00                       | 1976                     | 2019                     | SAS                      | Spurs                    | 1976                     | San Antonio              | AT&T Center              | 18694                    | Peter Holt               | Brian Wright             | Gregg Popovich           | Austin Spurs             |\n",
       "| 1610612745               | 0.5965185                | 00                       | 1967                     | 2019                     | HOU                      | Rockets                  | 1967                     | Houston                  | Toyota Center            | 18104                    | Tilman Fertitta          | Daryl Morey              | Mike D'Antoni            | Rio Grande Valley Vipers |\n",
       "| 1610612742               | 0.5869039                | 00                       | 1980                     | 2019                     | DAL                      | Mavericks                | 1980                     | Dallas                   | American Airlines Center | 19200                    | Mark Cuban               | Donnie Nelson            | Rick Carlisle            | Texas Legends            |\n",
       "| 1610612738               | 0.5690926                | 00                       | 1946                     | 2019                     | BOS                      | Celtics                  | 1946                     | Boston                   | TD Garden                | 18624                    | Wyc Grousbeck            | Danny Ainge              | Brad Stevens             | Maine Red Claws          |\n",
       "| 1610612748               | 0.5668913                | 00                       | 1988                     | 2019                     | MIA                      | Heat                     | 1988                     | Miami                    | AmericanAirlines Arena   | 19600                    | Micky Arison             | Pat Riley                | Erik Spoelstra           | Sioux Falls Skyforce     |\n",
       "| 1610612743               | 0.5608854                | 00                       | 1976                     | 2019                     | DEN                      | Nuggets                  | 1976                     | Denver                   | Pepsi Center             | 19099                    | Stan Kroenke             | Tim Connelly             | Michael Malone           | No Affiliate             |\n",
       "| 1610612760               | 0.5549785                | 00                       | 1967                     | 2019                     | OKC                      | Thunder                  | 1967                     | Oklahoma City            | Chesapeake Energy Arena  | 19163                    | Clay Bennett             | Sam Presti               | Billy Donovan            | Oklahoma City Blue       |\n",
       "| 1610612744               | 0.5409769                | 00                       | 1946                     | 2019                     | GSW                      | Warriors                 | 1946                     | Golden State             | Chase Center             | 19596                    | Joe Lacob                | Bob Myers                | Steve Kerr               | Santa Cruz Warriors      |\n",
       "| 1610612754               | 0.5363205                | 00                       | 1976                     | 2019                     | IND                      | Pacers                   | 1976                     | Indiana                  | Bankers Life Fieldhouse  | 18345                    | Herb Simon               | Kevin Pritchard          | Nate McMillan            | Fort Wayne Mad Ants      |\n",
       "| 1610612747               | 0.5334225                | 00                       | 1948                     | 2019                     | LAL                      | Lakers                   | 1948                     | Los Angeles              | Staples Center           | 19060                    | Jerry Buss Family Trust  | Rob Pelinka              | Frank Vogel              | South Bay Lakers         |\n",
       "\n"
      ],
      "text/plain": [
       "   TEAM_ID    per_W     LEAGUE_ID MIN_YEAR MAX_YEAR ABBREVIATION NICKNAME \n",
       "1  1610612759 0.6843183 00        1976     2019     SAS          Spurs    \n",
       "2  1610612745 0.5965185 00        1967     2019     HOU          Rockets  \n",
       "3  1610612742 0.5869039 00        1980     2019     DAL          Mavericks\n",
       "4  1610612738 0.5690926 00        1946     2019     BOS          Celtics  \n",
       "5  1610612748 0.5668913 00        1988     2019     MIA          Heat     \n",
       "6  1610612743 0.5608854 00        1976     2019     DEN          Nuggets  \n",
       "7  1610612760 0.5549785 00        1967     2019     OKC          Thunder  \n",
       "8  1610612744 0.5409769 00        1946     2019     GSW          Warriors \n",
       "9  1610612754 0.5363205 00        1976     2019     IND          Pacers   \n",
       "10 1610612747 0.5334225 00        1948     2019     LAL          Lakers   \n",
       "   YEARFOUNDED CITY          ARENA                    ARENACAPACITY\n",
       "1  1976        San Antonio   AT&T Center              18694        \n",
       "2  1967        Houston       Toyota Center            18104        \n",
       "3  1980        Dallas        American Airlines Center 19200        \n",
       "4  1946        Boston        TD Garden                18624        \n",
       "5  1988        Miami         AmericanAirlines Arena   19600        \n",
       "6  1976        Denver        Pepsi Center             19099        \n",
       "7  1967        Oklahoma City Chesapeake Energy Arena  19163        \n",
       "8  1946        Golden State  Chase Center             19596        \n",
       "9  1976        Indiana       Bankers Life Fieldhouse  18345        \n",
       "10 1948        Los Angeles   Staples Center           19060        \n",
       "   OWNER                   GENERALMANAGER  HEADCOACH     \n",
       "1  Peter Holt              Brian Wright    Gregg Popovich\n",
       "2  Tilman Fertitta         Daryl Morey     Mike D'Antoni \n",
       "3  Mark Cuban              Donnie Nelson   Rick Carlisle \n",
       "4  Wyc Grousbeck           Danny Ainge     Brad Stevens  \n",
       "5  Micky Arison            Pat Riley       Erik Spoelstra\n",
       "6  Stan Kroenke            Tim Connelly    Michael Malone\n",
       "7  Clay Bennett            Sam Presti      Billy Donovan \n",
       "8  Joe Lacob               Bob Myers       Steve Kerr    \n",
       "9  Herb Simon              Kevin Pritchard Nate McMillan \n",
       "10 Jerry Buss Family Trust Rob Pelinka     Frank Vogel   \n",
       "   DLEAGUEAFFILIATION      \n",
       "1  Austin Spurs            \n",
       "2  Rio Grande Valley Vipers\n",
       "3  Texas Legends           \n",
       "4  Maine Red Claws         \n",
       "5  Sioux Falls Skyforce    \n",
       "6  No Affiliate            \n",
       "7  Oklahoma City Blue      \n",
       "8  Santa Cruz Warriors     \n",
       "9  Fort Wayne Mad Ants     \n",
       "10 South Bay Lakers        "
      ]
     },
     "metadata": {},
     "output_type": "display_data"
    }
   ],
   "source": [
    "top10 <- ranking %>%\n",
    "    group_by(TEAM_ID) %>%\n",
    "    summarise(per_W=sum(W)/sum(G)) %>%\n",
    "    inner_join(teams, by = \"TEAM_ID\") %>%\n",
    "    arrange(desc(per_W))\n",
    "    #knitr::kable(col.names = c(\"NICKNAME\", \"per_W\"))\n",
    "\n",
    "head(top10, 10)"
   ]
  },
  {
   "cell_type": "markdown",
   "metadata": {},
   "source": [
    "### Melhores time e Jogadores que mais pontuaram "
   ]
  },
  {
   "cell_type": "code",
   "execution_count": 57,
   "metadata": {},
   "outputs": [
    {
     "name": "stderr",
     "output_type": "stream",
     "text": [
      "`summarise()` has grouped output by 'CONFERENCE', 'TEAM', 'SEASON_ID', 'G'. You can override using the `.groups` argument.\n"
     ]
    },
    {
     "data": {
      "text/html": [
       "<table>\n",
       "<thead><tr><th scope=col>CONFERENCE</th><th scope=col>TEAM</th><th scope=col>SEASON_ID</th><th scope=col>G</th><th scope=col>W_PCT</th><th scope=col>max</th></tr></thead>\n",
       "<tbody>\n",
       "\t<tr><td>West        </td><td>Golden State</td><td>22015       </td><td>82          </td><td>0.890       </td><td>0.890       </td></tr>\n",
       "\t<tr><td>West        </td><td>Dallas      </td><td>22006       </td><td>82          </td><td>0.817       </td><td>0.817       </td></tr>\n",
       "\t<tr><td>West        </td><td>Golden State</td><td>22014       </td><td>82          </td><td>0.817       </td><td>0.817       </td></tr>\n",
       "\t<tr><td>West        </td><td>Golden State</td><td>22016       </td><td>82          </td><td>0.817       </td><td>0.817       </td></tr>\n",
       "\t<tr><td>West        </td><td>San Antonio </td><td>22015       </td><td>82          </td><td>0.817       </td><td>0.817       </td></tr>\n",
       "\t<tr><td>West        </td><td>Houston     </td><td>22017       </td><td>82          </td><td>0.793       </td><td>0.793       </td></tr>\n",
       "</tbody>\n",
       "</table>\n"
      ],
      "text/latex": [
       "\\begin{tabular}{r|llllll}\n",
       " CONFERENCE & TEAM & SEASON\\_ID & G & W\\_PCT & max\\\\\n",
       "\\hline\n",
       "\t West         & Golden State & 22015        & 82           & 0.890        & 0.890       \\\\\n",
       "\t West         & Dallas       & 22006        & 82           & 0.817        & 0.817       \\\\\n",
       "\t West         & Golden State & 22014        & 82           & 0.817        & 0.817       \\\\\n",
       "\t West         & Golden State & 22016        & 82           & 0.817        & 0.817       \\\\\n",
       "\t West         & San Antonio  & 22015        & 82           & 0.817        & 0.817       \\\\\n",
       "\t West         & Houston      & 22017        & 82           & 0.793        & 0.793       \\\\\n",
       "\\end{tabular}\n"
      ],
      "text/markdown": [
       "\n",
       "| CONFERENCE | TEAM | SEASON_ID | G | W_PCT | max |\n",
       "|---|---|---|---|---|---|\n",
       "| West         | Golden State | 22015        | 82           | 0.890        | 0.890        |\n",
       "| West         | Dallas       | 22006        | 82           | 0.817        | 0.817        |\n",
       "| West         | Golden State | 22014        | 82           | 0.817        | 0.817        |\n",
       "| West         | Golden State | 22016        | 82           | 0.817        | 0.817        |\n",
       "| West         | San Antonio  | 22015        | 82           | 0.817        | 0.817        |\n",
       "| West         | Houston      | 22017        | 82           | 0.793        | 0.793        |\n",
       "\n"
      ],
      "text/plain": [
       "  CONFERENCE TEAM         SEASON_ID G  W_PCT max  \n",
       "1 West       Golden State 22015     82 0.890 0.890\n",
       "2 West       Dallas       22006     82 0.817 0.817\n",
       "3 West       Golden State 22014     82 0.817 0.817\n",
       "4 West       Golden State 22016     82 0.817 0.817\n",
       "5 West       San Antonio  22015     82 0.817 0.817\n",
       "6 West       Houston      22017     82 0.793 0.793"
      ]
     },
     "metadata": {},
     "output_type": "display_data"
    },
    {
     "name": "stderr",
     "output_type": "stream",
     "text": [
      "`summarise()` has grouped output by 'CONFERENCE', 'TEAM', 'SEASON_ID', 'G'. You can override using the `.groups` argument.\n"
     ]
    },
    {
     "data": {
      "text/html": [
       "<table>\n",
       "<thead><tr><th scope=col>CONFERENCE</th><th scope=col>TEAM</th><th scope=col>SEASON_ID</th><th scope=col>G</th><th scope=col>W_PCT</th><th scope=col>max</th></tr></thead>\n",
       "<tbody>\n",
       "\t<tr><td>East     </td><td>Boston   </td><td>22007    </td><td>82       </td><td>0.805    </td><td>0.805    </td></tr>\n",
       "\t<tr><td>East     </td><td>Cleveland</td><td>22008    </td><td>82       </td><td>0.805    </td><td>0.805    </td></tr>\n",
       "\t<tr><td>East     </td><td>Miami    </td><td>22012    </td><td>82       </td><td>0.805    </td><td>0.805    </td></tr>\n",
       "\t<tr><td>East     </td><td>Detroit  </td><td>22005    </td><td>82       </td><td>0.780    </td><td>0.780    </td></tr>\n",
       "\t<tr><td>East     </td><td>Boston   </td><td>22008    </td><td>82       </td><td>0.756    </td><td>0.756    </td></tr>\n",
       "\t<tr><td>East     </td><td>Chicago  </td><td>22010    </td><td>82       </td><td>0.756    </td><td>0.756    </td></tr>\n",
       "</tbody>\n",
       "</table>\n"
      ],
      "text/latex": [
       "\\begin{tabular}{r|llllll}\n",
       " CONFERENCE & TEAM & SEASON\\_ID & G & W\\_PCT & max\\\\\n",
       "\\hline\n",
       "\t East      & Boston    & 22007     & 82        & 0.805     & 0.805    \\\\\n",
       "\t East      & Cleveland & 22008     & 82        & 0.805     & 0.805    \\\\\n",
       "\t East      & Miami     & 22012     & 82        & 0.805     & 0.805    \\\\\n",
       "\t East      & Detroit   & 22005     & 82        & 0.780     & 0.780    \\\\\n",
       "\t East      & Boston    & 22008     & 82        & 0.756     & 0.756    \\\\\n",
       "\t East      & Chicago   & 22010     & 82        & 0.756     & 0.756    \\\\\n",
       "\\end{tabular}\n"
      ],
      "text/markdown": [
       "\n",
       "| CONFERENCE | TEAM | SEASON_ID | G | W_PCT | max |\n",
       "|---|---|---|---|---|---|\n",
       "| East      | Boston    | 22007     | 82        | 0.805     | 0.805     |\n",
       "| East      | Cleveland | 22008     | 82        | 0.805     | 0.805     |\n",
       "| East      | Miami     | 22012     | 82        | 0.805     | 0.805     |\n",
       "| East      | Detroit   | 22005     | 82        | 0.780     | 0.780     |\n",
       "| East      | Boston    | 22008     | 82        | 0.756     | 0.756     |\n",
       "| East      | Chicago   | 22010     | 82        | 0.756     | 0.756     |\n",
       "\n"
      ],
      "text/plain": [
       "  CONFERENCE TEAM      SEASON_ID G  W_PCT max  \n",
       "1 East       Boston    22007     82 0.805 0.805\n",
       "2 East       Cleveland 22008     82 0.805 0.805\n",
       "3 East       Miami     22012     82 0.805 0.805\n",
       "4 East       Detroit   22005     82 0.780 0.780\n",
       "5 East       Boston    22008     82 0.756 0.756\n",
       "6 East       Chicago   22010     82 0.756 0.756"
      ]
     },
     "metadata": {},
     "output_type": "display_data"
    },
    {
     "data": {
      "text/html": [
       "<table>\n",
       "<thead><tr><th scope=col>PLAYER_NAME</th><th scope=col>Pontos</th><th scope=col>Partidas</th><th scope=col>MedPts</th></tr></thead>\n",
       "<tbody>\n",
       "\t<tr><td>LeBron James   </td><td>42412          </td><td>1612           </td><td>26             </td></tr>\n",
       "\t<tr><td>Kevin Durant   </td><td>28891          </td><td>1095           </td><td>26             </td></tr>\n",
       "\t<tr><td>Carmelo Anthony</td><td>28507          </td><td>1324           </td><td>22             </td></tr>\n",
       "\t<tr><td>Dwyane Wade    </td><td>26859          </td><td>1284           </td><td>21             </td></tr>\n",
       "\t<tr><td>James Harden   </td><td>26238          </td><td>1089           </td><td>24             </td></tr>\n",
       "\t<tr><td>Dirk Nowitzki  </td><td>26082          </td><td>1290           </td><td>20             </td></tr>\n",
       "</tbody>\n",
       "</table>\n"
      ],
      "text/latex": [
       "\\begin{tabular}{r|llll}\n",
       " PLAYER\\_NAME & Pontos & Partidas & MedPts\\\\\n",
       "\\hline\n",
       "\t LeBron James    & 42412           & 1612            & 26             \\\\\n",
       "\t Kevin Durant    & 28891           & 1095            & 26             \\\\\n",
       "\t Carmelo Anthony & 28507           & 1324            & 22             \\\\\n",
       "\t Dwyane Wade     & 26859           & 1284            & 21             \\\\\n",
       "\t James Harden    & 26238           & 1089            & 24             \\\\\n",
       "\t Dirk Nowitzki   & 26082           & 1290            & 20             \\\\\n",
       "\\end{tabular}\n"
      ],
      "text/markdown": [
       "\n",
       "| PLAYER_NAME | Pontos | Partidas | MedPts |\n",
       "|---|---|---|---|\n",
       "| LeBron James    | 42412           | 1612            | 26              |\n",
       "| Kevin Durant    | 28891           | 1095            | 26              |\n",
       "| Carmelo Anthony | 28507           | 1324            | 22              |\n",
       "| Dwyane Wade     | 26859           | 1284            | 21              |\n",
       "| James Harden    | 26238           | 1089            | 24              |\n",
       "| Dirk Nowitzki   | 26082           | 1290            | 20              |\n",
       "\n"
      ],
      "text/plain": [
       "  PLAYER_NAME     Pontos Partidas MedPts\n",
       "1 LeBron James    42412  1612     26    \n",
       "2 Kevin Durant    28891  1095     26    \n",
       "3 Carmelo Anthony 28507  1324     22    \n",
       "4 Dwyane Wade     26859  1284     21    \n",
       "5 James Harden    26238  1089     24    \n",
       "6 Dirk Nowitzki   26082  1290     20    "
      ]
     },
     "metadata": {},
     "output_type": "display_data"
    }
   ],
   "source": [
    "base<-inner_join(ranking,teams,by=\"TEAM_ID\")\n",
    "\n",
    "base2<-inner_join(games_details,games,by=\"GAME_ID\")\n",
    "\n",
    "MaioresVitWest<-base %>%\n",
    "  select(CONFERENCE,TEAM,SEASON_ID,G,W_PCT,)%>%\n",
    "    filter(G==82)%>%\n",
    "    filter(CONFERENCE==\"West\") %>%\n",
    "      group_by(CONFERENCE,TEAM,SEASON_ID,G,W_PCT)%>%\n",
    "        summarise(max = max(W_PCT)) %>%\n",
    "            arrange(desc(max))\n",
    "          \n",
    "head(MaioresVitWest) \n",
    "\n",
    "\n",
    "\n",
    "MaioresVitEast<-base %>%\n",
    "  select(CONFERENCE,TEAM,SEASON_ID,G,W_PCT,)%>%\n",
    "    filter(G==82)%>%\n",
    "    filter(CONFERENCE==\"East\") %>%\n",
    "      group_by(CONFERENCE,TEAM,SEASON_ID,G,W_PCT)%>%\n",
    "        summarise(max = max(W_PCT)) %>%\n",
    "            arrange(desc(max))\n",
    "          \n",
    "head(MaioresVitEast)\n",
    "\n",
    "\n",
    "MaioresJog<-base2 %>%\n",
    "  filter(SEASON>2003)%>%\n",
    "  select(GAME_ID,TEAM_ID,PLAYER_NAME,PLAYER_ID,SEASON,PTS)%>%\n",
    "  group_by(PLAYER_NAME)%>%\n",
    "  summarise(Pontos=sum(PTS,na.rm=TRUE),\n",
    "            Partidas=(GAME_ID=n()),\n",
    "            MedPts=round(((Pontos/Partidas)),0))%>%\n",
    "              arrange(desc(Pontos))\n",
    "\n",
    "head(MaioresJog)"
   ]
  },
  {
   "cell_type": "code",
   "execution_count": 22,
   "metadata": {},
   "outputs": [
    {
     "data": {
      "image/png": "[encoded data removed]",
      "text/plain": [
       "plot without title"
      ]
     },
     "metadata": {},
     "output_type": "display_data"
    }
   ],
   "source": [
    "head(MaioresJog,5) %>%\n",
    "mutate(PLAYER_NAME=fct_reorder(PLAYER_NAME, Pontos)) %>%\n",
    "    ggplot(aes(x=PLAYER_NAME, y=Pontos)) +\n",
    "    geom_bar(stat=\"identity\", fill=\"orange\") + \n",
    "    geom_text(aes(label=format(Pontos)),  color=\"black\") +\n",
    "    coord_flip() +\n",
    "    ggtitle(\"Maiores pontuadores\") +\n",
    "    xlab(\"Jogadores\") +\n",
    "    ylab(\"Pontuação\") +\n",
    "    theme_bw()"
   ]
  },
  {
   "cell_type": "markdown",
   "metadata": {},
   "source": [
    "### Mapa de títulos"
   ]
  },
  {
   "cell_type": "code",
   "execution_count": 21,
   "metadata": {},
   "outputs": [
    {
     "name": "stderr",
     "output_type": "stream",
     "text": [
      "\n",
      "-- Column specification --------------------------------------------------------\n",
      "cols(\n",
      "  NAME = col_character(),\n",
      "  Titulo = col_double()\n",
      ")\n",
      "\n",
      "Joining, by = \"NAME\"\n",
      "Warning message in st_point_on_surface.sfc(sf::st_zm(x)):\n",
      "\"st_point_on_surface may not give correct results for longitude/latitude data\"Scale on map varies by more than 10%, scale bar may be inaccurate\n"
     ]
    },
    {
     "data": {
      "image/png": "[encoded data removed]",
      "text/plain": [
       "plot without title"
      ]
     },
     "metadata": {},
     "output_type": "display_data"
    }
   ],
   "source": [
    "mapa <- read_sf(usa_states,options=\"ENCODING=WINDOWS-1252\")\n",
    "\n",
    "\n",
    "est_tit <- read_delim(nba_titles, \";\")\n",
    "\n",
    "mapaClass <-left_join(mapa,est_tit)\n",
    "\n",
    "mapaClass$Titulo[is.na(mapaClass$Titulo)] <- 0\n",
    "\n",
    "ggplot(mapaClass)+ #Inserindo os dados \n",
    "  geom_sf(aes(fill=Titulo), size = 0.05)+ #Criando um mapa para mostrar o número de habitantes para cada setor censitário [V002]\n",
    "  scale_fill_gradientn(colours = brewer.pal(9,'YlGn'),na.value = \"grey50\")+ #Definindo uma nova paleta de cores\n",
    "  geom_sf_label(aes(label=STUSPS),)+\n",
    "  labs(x=\"Longitude\",y=\"Latitude\",fill=\"Quantidade de Títulos\")+ #Definindo o título da escala de cores\n",
    "  theme_minimal()+ #Definindo o tema do mapa\n",
    "  annotation_north_arrow(style = north_arrow_fancy_orienteering)+\n",
    "  annotation_scale(location=\"br\")+\n",
    "  theme_bw()"
   ]
  },
  {
   "cell_type": "code",
   "execution_count": null,
   "metadata": {},
   "outputs": [],
   "source": [
    "ranking_total <- ranking %>%\n",
    "    group_by(TEAM_ID) %>%\n",
    "    summarise(per_W=(sum(W)/sum(G)) * 100) %>%\n",
    "    inner_join(teams, by = \"TEAM_ID\") %>%\n",
    "    select(NICKNAME, per_W) %>%\n",
    "    arrange(desc(per_W)) \n",
    "\n",
    "ranking_total %>%\n",
    " mutate(NICKNAME=fct_reorder(NICKNAME, per_W)) %>%\n",
    " slice_head(n=10) %>%\n",
    " ggplot(aes(x=NICKNAME, y=per_W),width = 3, height = 3, dpi = 300, filename=\"racking.png\") +\n",
    "    geom_bar(stat=\"identity\", fill=\"orange\") + \n",
    "    geom_text(aes(label=format(per_W, nsmall=2, decimal=\",\")), color=\"black\") +\n",
    "    coord_flip() +\n",
    "    ggtitle(\"Ranking\") +\n",
    "    xlab(\"Times\") +\n",
    "    ylab(\"Aproveitamento (% de vitórias)\") +\n",
    "    theme_bw()"
   ]
  },
  {
   "cell_type": "markdown",
   "metadata": {},
   "source": [
    "### Tabela resumo - Ranking"
   ]
  },
  {
   "cell_type": "code",
   "execution_count": 19,
   "metadata": {},
   "outputs": [
    {
     "data": {
      "text/plain": [
       "       G        \n",
       " Min.   : 0.00  \n",
       " 1st Qu.:32.00  \n",
       " Median :67.00  \n",
       " Mean   :56.76  \n",
       " 3rd Qu.:82.00  \n",
       " Max.   :82.00  "
      ]
     },
     "metadata": {},
     "output_type": "display_data"
    },
    {
     "data": {
      "text/plain": [
       "       W        \n",
       " Min.   : 0.00  \n",
       " 1st Qu.:14.00  \n",
       " Median :28.00  \n",
       " Mean   :28.38  \n",
       " 3rd Qu.:42.00  \n",
       " Max.   :73.00  "
      ]
     },
     "metadata": {},
     "output_type": "display_data"
    },
    {
     "data": {
      "text/plain": [
       "     W_PCT       \n",
       " Min.   :0.0000  \n",
       " 1st Qu.:0.3680  \n",
       " Median :0.5000  \n",
       " Mean   :0.4925  \n",
       " 3rd Qu.:0.6210  \n",
       " Max.   :1.0000  "
      ]
     },
     "metadata": {},
     "output_type": "display_data"
    },
    {
     "data": {
      "text/plain": [
       "       L        \n",
       " Min.   : 0.00  \n",
       " 1st Qu.:14.00  \n",
       " Median :28.00  \n",
       " Mean   :28.38  \n",
       " 3rd Qu.:41.00  \n",
       " Max.   :72.00  "
      ]
     },
     "metadata": {},
     "output_type": "display_data"
    }
   ],
   "source": [
    "summary(ranking['G'])\n",
    "summary(ranking['W'])  \n",
    "summary(ranking['W_PCT'])\n",
    "summary(ranking['L'])"
   ]
  },
  {
   "cell_type": "markdown",
   "metadata": {},
   "source": [
    "### Tabela resumo - Ranking"
   ]
  },
  {
   "cell_type": "code",
   "execution_count": 63,
   "metadata": {},
   "outputs": [],
   "source": [
    "G <-ranking %>%\n",
    "      summarise(media = mean(G, na.rm = TRUE), \n",
    "        dp = round( sd(G, na.rm = TRUE), 2), min = min(G, na.rm = TRUE), \n",
    "        max = max(G, na.rm = TRUE), \n",
    "        mediana = median(G, na.rm = TRUE),Q1=quantile(G, probs = 0.25),\n",
    "                Q2=quantile(G, probs = 0.50),\n",
    "                Q3=quantile(G, probs = 0.75))\n",
    "\n",
    "W <-ranking %>%\n",
    "      summarise(media = mean(W, na.rm = TRUE), \n",
    "        dp = round( sd(W, na.rm = TRUE), 2), min = min(W, na.rm = TRUE), \n",
    "        max = max(W, na.rm = TRUE), \n",
    "        mediana = median(W, na.rm = TRUE),Q1=quantile(W, probs = 0.25),\n",
    "                Q2=quantile(W, probs = 0.50),\n",
    "                Q3=quantile(W, probs = 0.75))\n",
    "\n",
    "L <-ranking %>%\n",
    "      summarise(media = mean(L, na.rm = TRUE), \n",
    "        dp = round( sd(L, na.rm = TRUE), 2), min = min(L, na.rm = TRUE), \n",
    "        max = max(L, na.rm = TRUE), \n",
    "        mediana = median(L, na.rm = TRUE),Q1=quantile(L, probs = 0.25),\n",
    "                Q2=quantile(L, probs = 0.50),\n",
    "                Q3=quantile(L, probs = 0.75))"
   ]
  },
  {
   "cell_type": "code",
   "execution_count": 64,
   "metadata": {},
   "outputs": [
    {
     "data": {
      "text/html": [
       "<table>\n",
       "<thead><tr><th scope=col>media</th><th scope=col>dp</th><th scope=col>min</th><th scope=col>max</th><th scope=col>mediana</th><th scope=col>Q1</th><th scope=col>Q2</th><th scope=col>Q3</th></tr></thead>\n",
       "<tbody>\n",
       "\t<tr><td>56.76106</td><td>28.73   </td><td>0       </td><td>82      </td><td>67      </td><td>32      </td><td>67      </td><td>82      </td></tr>\n",
       "</tbody>\n",
       "</table>\n"
      ],
      "text/latex": [
       "\\begin{tabular}{r|llllllll}\n",
       " media & dp & min & max & mediana & Q1 & Q2 & Q3\\\\\n",
       "\\hline\n",
       "\t 56.76106 & 28.73    & 0        & 82       & 67       & 32       & 67       & 82      \\\\\n",
       "\\end{tabular}\n"
      ],
      "text/markdown": [
       "\n",
       "| media | dp | min | max | mediana | Q1 | Q2 | Q3 |\n",
       "|---|---|---|---|---|---|---|---|\n",
       "| 56.76106 | 28.73    | 0        | 82       | 67       | 32       | 67       | 82       |\n",
       "\n"
      ],
      "text/plain": [
       "  media    dp    min max mediana Q1 Q2 Q3\n",
       "1 56.76106 28.73 0   82  67      32 67 82"
      ]
     },
     "metadata": {},
     "output_type": "display_data"
    },
    {
     "data": {
      "text/html": [
       "<table>\n",
       "<thead><tr><th scope=col>media</th><th scope=col>dp</th><th scope=col>min</th><th scope=col>max</th><th scope=col>mediana</th><th scope=col>Q1</th><th scope=col>Q2</th><th scope=col>Q3</th></tr></thead>\n",
       "<tbody>\n",
       "\t<tr><td>28.38428</td><td>17.36   </td><td>0       </td><td>73      </td><td>28      </td><td>14      </td><td>28      </td><td>42      </td></tr>\n",
       "</tbody>\n",
       "</table>\n"
      ],
      "text/latex": [
       "\\begin{tabular}{r|llllllll}\n",
       " media & dp & min & max & mediana & Q1 & Q2 & Q3\\\\\n",
       "\\hline\n",
       "\t 28.38428 & 17.36    & 0        & 73       & 28       & 14       & 28       & 42      \\\\\n",
       "\\end{tabular}\n"
      ],
      "text/markdown": [
       "\n",
       "| media | dp | min | max | mediana | Q1 | Q2 | Q3 |\n",
       "|---|---|---|---|---|---|---|---|\n",
       "| 28.38428 | 17.36    | 0        | 73       | 28       | 14       | 28       | 42       |\n",
       "\n"
      ],
      "text/plain": [
       "  media    dp    min max mediana Q1 Q2 Q3\n",
       "1 28.38428 17.36 0   73  28      14 28 42"
      ]
     },
     "metadata": {},
     "output_type": "display_data"
    },
    {
     "data": {
      "text/html": [
       "<table>\n",
       "<thead><tr><th scope=col>media</th><th scope=col>dp</th><th scope=col>min</th><th scope=col>max</th><th scope=col>mediana</th><th scope=col>Q1</th><th scope=col>Q2</th><th scope=col>Q3</th></tr></thead>\n",
       "<tbody>\n",
       "\t<tr><td>28.37678</td><td>17.35   </td><td>0       </td><td>72      </td><td>28      </td><td>14      </td><td>28      </td><td>41      </td></tr>\n",
       "</tbody>\n",
       "</table>\n"
      ],
      "text/latex": [
       "\\begin{tabular}{r|llllllll}\n",
       " media & dp & min & max & mediana & Q1 & Q2 & Q3\\\\\n",
       "\\hline\n",
       "\t 28.37678 & 17.35    & 0        & 72       & 28       & 14       & 28       & 41      \\\\\n",
       "\\end{tabular}\n"
      ],
      "text/markdown": [
       "\n",
       "| media | dp | min | max | mediana | Q1 | Q2 | Q3 |\n",
       "|---|---|---|---|---|---|---|---|\n",
       "| 28.37678 | 17.35    | 0        | 72       | 28       | 14       | 28       | 41       |\n",
       "\n"
      ],
      "text/plain": [
       "  media    dp    min max mediana Q1 Q2 Q3\n",
       "1 28.37678 17.35 0   72  28      14 28 41"
      ]
     },
     "metadata": {},
     "output_type": "display_data"
    }
   ],
   "source": [
    "G\n",
    "W\n",
    "L"
   ]
  },
  {
   "cell_type": "code",
   "execution_count": 81,
   "metadata": {},
   "outputs": [
    {
     "data": {
      "image/png": "[encoded data removed]",
      "text/plain": [
       "plot without title"
      ]
     },
     "metadata": {},
     "output_type": "display_data"
    }
   ],
   "source": [
    "boxplot(ranking$G,ranking$W,ranking$L)"
   ]
  },
  {
   "cell_type": "markdown",
   "metadata": {},
   "source": [
    "### Tabela resumo - Lakers"
   ]
  },
  {
   "cell_type": "code",
   "execution_count": 82,
   "metadata": {},
   "outputs": [],
   "source": [
    "#ranking_df[ranking_df['TEAM_ID'] == 1610612747].describe()\n",
    "\n",
    "G <-ranking %>%\n",
    "  group_by(TEAM_ID) %>% \n",
    "    filter(TEAM_ID==1610612747) %>%\n",
    "      summarise(media = mean(G, na.rm = TRUE), \n",
    "        dp = round( sd(G, na.rm = TRUE), 2), min = min(G, na.rm = TRUE), \n",
    "        max = max(G, na.rm = TRUE), \n",
    "        mediana = median(G, na.rm = TRUE),Q1=quantile(G, probs = 0.25),\n",
    "                Q2=quantile(G, probs = 0.50),\n",
    "                Q3=quantile(G, probs = 0.75))\n",
    "\n",
    "W <-ranking %>%\n",
    "  group_by(TEAM_ID) %>% \n",
    "    filter(TEAM_ID==1610612747) %>%\n",
    "      summarise(media = mean(W, na.rm = TRUE), \n",
    "        dp = round( sd(W, na.rm = TRUE), 2), min = min(W, na.rm = TRUE), \n",
    "        max = max(W, na.rm = TRUE), \n",
    "        mediana = median(W, na.rm = TRUE),Q1=quantile(W, probs = 0.25),\n",
    "                Q2=quantile(W, probs = 0.50),\n",
    "                Q3=quantile(W, probs = 0.75))\n",
    "\n",
    "L <-ranking %>%\n",
    "  group_by(TEAM_ID) %>% \n",
    "    filter(TEAM_ID==1610612747) %>%\n",
    "      summarise(media = mean(L, na.rm = TRUE), \n",
    "        dp = round( sd(L, na.rm = TRUE), 2), min = min(L, na.rm = TRUE), \n",
    "        max = max(L, na.rm = TRUE), \n",
    "        mediana = median(L, na.rm = TRUE), Q1=quantile(L, probs = 0.25),\n",
    "                Q2=quantile(L, probs = 0.50),\n",
    "                Q3=quantile(L, probs = 0.75))"
   ]
  },
  {
   "cell_type": "code",
   "execution_count": 83,
   "metadata": {},
   "outputs": [
    {
     "data": {
      "text/html": [
       "<table>\n",
       "<thead><tr><th scope=col>TEAM_ID</th><th scope=col>media</th><th scope=col>dp</th><th scope=col>min</th><th scope=col>max</th><th scope=col>mediana</th><th scope=col>Q1</th><th scope=col>Q2</th><th scope=col>Q3</th></tr></thead>\n",
       "<tbody>\n",
       "\t<tr><td>1610612747</td><td>56.8325   </td><td>28.63     </td><td>0         </td><td>82        </td><td>68        </td><td>32        </td><td>68        </td><td>82        </td></tr>\n",
       "</tbody>\n",
       "</table>\n"
      ],
      "text/latex": [
       "\\begin{tabular}{r|lllllllll}\n",
       " TEAM\\_ID & media & dp & min & max & mediana & Q1 & Q2 & Q3\\\\\n",
       "\\hline\n",
       "\t 1610612747 & 56.8325    & 28.63      & 0          & 82         & 68         & 32         & 68         & 82        \\\\\n",
       "\\end{tabular}\n"
      ],
      "text/markdown": [
       "\n",
       "| TEAM_ID | media | dp | min | max | mediana | Q1 | Q2 | Q3 |\n",
       "|---|---|---|---|---|---|---|---|---|\n",
       "| 1610612747 | 56.8325    | 28.63      | 0          | 82         | 68         | 32         | 68         | 82         |\n",
       "\n"
      ],
      "text/plain": [
       "  TEAM_ID    media   dp    min max mediana Q1 Q2 Q3\n",
       "1 1610612747 56.8325 28.63 0   82  68      32 68 82"
      ]
     },
     "metadata": {},
     "output_type": "display_data"
    },
    {
     "data": {
      "text/html": [
       "<table>\n",
       "<thead><tr><th scope=col>TEAM_ID</th><th scope=col>media</th><th scope=col>dp</th><th scope=col>min</th><th scope=col>max</th><th scope=col>mediana</th><th scope=col>Q1</th><th scope=col>Q2</th><th scope=col>Q3</th></tr></thead>\n",
       "<tbody>\n",
       "\t<tr><td>1610612747</td><td>30.31573  </td><td>18.47     </td><td>0         </td><td>65        </td><td>30        </td><td>16        </td><td>30        </td><td>45        </td></tr>\n",
       "</tbody>\n",
       "</table>\n"
      ],
      "text/latex": [
       "\\begin{tabular}{r|lllllllll}\n",
       " TEAM\\_ID & media & dp & min & max & mediana & Q1 & Q2 & Q3\\\\\n",
       "\\hline\n",
       "\t 1610612747 & 30.31573   & 18.47      & 0          & 65         & 30         & 16         & 30         & 45        \\\\\n",
       "\\end{tabular}\n"
      ],
      "text/markdown": [
       "\n",
       "| TEAM_ID | media | dp | min | max | mediana | Q1 | Q2 | Q3 |\n",
       "|---|---|---|---|---|---|---|---|---|\n",
       "| 1610612747 | 30.31573   | 18.47      | 0          | 65         | 30         | 16         | 30         | 45         |\n",
       "\n"
      ],
      "text/plain": [
       "  TEAM_ID    media    dp    min max mediana Q1 Q2 Q3\n",
       "1 1610612747 30.31573 18.47 0   65  30      16 30 45"
      ]
     },
     "metadata": {},
     "output_type": "display_data"
    },
    {
     "data": {
      "text/html": [
       "<table>\n",
       "<thead><tr><th scope=col>TEAM_ID</th><th scope=col>media</th><th scope=col>dp</th><th scope=col>min</th><th scope=col>max</th><th scope=col>mediana</th><th scope=col>Q1</th><th scope=col>Q2</th><th scope=col>Q3</th></tr></thead>\n",
       "<tbody>\n",
       "\t<tr><td>1610612747</td><td>26.51677  </td><td>18.04     </td><td>0         </td><td>65        </td><td>25        </td><td>12        </td><td>25        </td><td>40        </td></tr>\n",
       "</tbody>\n",
       "</table>\n"
      ],
      "text/latex": [
       "\\begin{tabular}{r|lllllllll}\n",
       " TEAM\\_ID & media & dp & min & max & mediana & Q1 & Q2 & Q3\\\\\n",
       "\\hline\n",
       "\t 1610612747 & 26.51677   & 18.04      & 0          & 65         & 25         & 12         & 25         & 40        \\\\\n",
       "\\end{tabular}\n"
      ],
      "text/markdown": [
       "\n",
       "| TEAM_ID | media | dp | min | max | mediana | Q1 | Q2 | Q3 |\n",
       "|---|---|---|---|---|---|---|---|---|\n",
       "| 1610612747 | 26.51677   | 18.04      | 0          | 65         | 25         | 12         | 25         | 40         |\n",
       "\n"
      ],
      "text/plain": [
       "  TEAM_ID    media    dp    min max mediana Q1 Q2 Q3\n",
       "1 1610612747 26.51677 18.04 0   65  25      12 25 40"
      ]
     },
     "metadata": {},
     "output_type": "display_data"
    }
   ],
   "source": [
    "G\n",
    "W\n",
    "L"
   ]
  },
  {
   "cell_type": "code",
   "execution_count": 84,
   "metadata": {},
   "outputs": [
    {
     "data": {
      "image/png": "[encoded data removed]",
      "text/plain": [
       "plot without title"
      ]
     },
     "metadata": {},
     "output_type": "display_data"
    }
   ],
   "source": [
    "boxplot(ranking$G,ranking$W,ranking$L)"
   ]
  },
  {
   "cell_type": "markdown",
   "metadata": {},
   "source": [
    "### Lakers Mandante"
   ]
  },
  {
   "cell_type": "code",
   "execution_count": 94,
   "metadata": {},
   "outputs": [
    {
     "data": {
      "text/html": [
       "<table>\n",
       "<thead><tr><th scope=col>HOME_TEAM_ID</th><th scope=col>media_vitorias</th><th scope=col>dp</th><th scope=col>media_pts_lakers</th><th scope=col>dp_pts</th><th scope=col>media_pts_visitante</th><th scope=col>dp_pts_vis</th></tr></thead>\n",
       "<tbody>\n",
       "\t<tr><td>1610612747</td><td>0.6015713 </td><td>0.49      </td><td>103.9513  </td><td>12.42     </td><td>100.8267  </td><td>13.07     </td></tr>\n",
       "</tbody>\n",
       "</table>\n"
      ],
      "text/latex": [
       "\\begin{tabular}{r|lllllll}\n",
       " HOME\\_TEAM\\_ID & media\\_vitorias & dp & media\\_pts\\_lakers & dp\\_pts & media\\_pts\\_visitante & dp\\_pts\\_vis\\\\\n",
       "\\hline\n",
       "\t 1610612747 & 0.6015713  & 0.49       & 103.9513   & 12.42      & 100.8267   & 13.07     \\\\\n",
       "\\end{tabular}\n"
      ],
      "text/markdown": [
       "\n",
       "| HOME_TEAM_ID | media_vitorias | dp | media_pts_lakers | dp_pts | media_pts_visitante | dp_pts_vis |\n",
       "|---|---|---|---|---|---|---|\n",
       "| 1610612747 | 0.6015713  | 0.49       | 103.9513   | 12.42      | 100.8267   | 13.07      |\n",
       "\n"
      ],
      "text/plain": [
       "  HOME_TEAM_ID media_vitorias dp   media_pts_lakers dp_pts media_pts_visitante\n",
       "1 1610612747   0.6015713      0.49 103.9513         12.42  100.8267           \n",
       "  dp_pts_vis\n",
       "1 13.07     "
      ]
     },
     "metadata": {},
     "output_type": "display_data"
    }
   ],
   "source": [
    "lakers_home <-games %>%\n",
    "  group_by(HOME_TEAM_ID) %>% \n",
    "    filter(HOME_TEAM_ID==1610612747) %>%\n",
    "      summarise(media_vitorias = mean(HOME_TEAM_WINS, na.rm = TRUE), \n",
    "        dp = round( sd(HOME_TEAM_WINS, na.rm = TRUE), 2),\n",
    "               media_pts_lakers = mean(PTS_home, na.rm = TRUE), \n",
    "        dp_pts = round( sd(PTS_home, na.rm = TRUE), 2),\n",
    "               media_pts_visitante = mean(PTS_away, na.rm = TRUE), \n",
    "        dp_pts_vis = round( sd(PTS_away, na.rm = TRUE), 2))\n",
    "lakers_home"
   ]
  },
  {
   "cell_type": "markdown",
   "metadata": {},
   "source": [
    "### Lakers - Visitante"
   ]
  },
  {
   "cell_type": "code",
   "execution_count": 98,
   "metadata": {},
   "outputs": [
    {
     "data": {
      "text/html": [
       "<table>\n",
       "<thead><tr><th scope=col>VISITOR_TEAM_ID</th><th scope=col>media_vitorias_mandante</th><th scope=col>dp</th><th scope=col>media_pts_lakers</th><th scope=col>dp_pts_lakers</th><th scope=col>media_pts_mandante</th><th scope=col>dp_pts_mandante</th></tr></thead>\n",
       "<tbody>\n",
       "\t<tr><td>1610612747</td><td>0.4423321 </td><td>0.5       </td><td>101.7947  </td><td>12.41     </td><td>104.5906  </td><td>12.54     </td></tr>\n",
       "</tbody>\n",
       "</table>\n"
      ],
      "text/latex": [
       "\\begin{tabular}{r|lllllll}\n",
       " VISITOR\\_TEAM\\_ID & media\\_vitorias\\_mandante & dp & media\\_pts\\_lakers & dp\\_pts\\_lakers & media\\_pts\\_mandante & dp\\_pts\\_mandante\\\\\n",
       "\\hline\n",
       "\t 1610612747 & 0.4423321  & 0.5        & 101.7947   & 12.41      & 104.5906   & 12.54     \\\\\n",
       "\\end{tabular}\n"
      ],
      "text/markdown": [
       "\n",
       "| VISITOR_TEAM_ID | media_vitorias_mandante | dp | media_pts_lakers | dp_pts_lakers | media_pts_mandante | dp_pts_mandante |\n",
       "|---|---|---|---|---|---|---|\n",
       "| 1610612747 | 0.4423321  | 0.5        | 101.7947   | 12.41      | 104.5906   | 12.54      |\n",
       "\n"
      ],
      "text/plain": [
       "  VISITOR_TEAM_ID media_vitorias_mandante dp  media_pts_lakers dp_pts_lakers\n",
       "1 1610612747      0.4423321               0.5 101.7947         12.41        \n",
       "  media_pts_mandante dp_pts_mandante\n",
       "1 104.5906           12.54          "
      ]
     },
     "metadata": {},
     "output_type": "display_data"
    }
   ],
   "source": [
    "lakers_away <-games %>%\n",
    "  group_by(VISITOR_TEAM_ID) %>% \n",
    "    filter(VISITOR_TEAM_ID==1610612747) %>%\n",
    "      summarise(media_vitorias_mandante = 1-mean(HOME_TEAM_WINS, na.rm = TRUE), \n",
    "        dp = round( sd(HOME_TEAM_WINS, na.rm = TRUE), 2),\n",
    "               media_pts_lakers = mean(PTS_away, na.rm = TRUE), \n",
    "        dp_pts_lakers = round( sd(PTS_home, na.rm = TRUE), 2),\n",
    "               media_pts_mandante = mean(PTS_home, na.rm = TRUE), \n",
    "        dp_pts_mandante = round( sd(PTS_away, na.rm = TRUE), 2))\n",
    "lakers_away"
   ]
  },
  {
   "cell_type": "markdown",
   "metadata": {},
   "source": [
    "### Times mais derrotados pelos lakers em Los Angeles"
   ]
  },
  {
   "cell_type": "code",
   "execution_count": 228,
   "metadata": {},
   "outputs": [
    {
     "data": {
      "image/png": "[encoded data removed]",
      "text/plain": [
       "plot without title"
      ]
     },
     "metadata": {},
     "output_type": "display_data"
    }
   ],
   "source": [
    "lakers_home <-games %>%\n",
    "  group_by(HOME_TEAM_ID) %>% \n",
    "    select(HOME_TEAM_ID, TEAM_ID = VISITOR_TEAM_ID, HOME_TEAM_WINS) %>%\n",
    "        filter(HOME_TEAM_ID==1610612747)\n",
    "        \n",
    "\n",
    "lakers_home_join <- inner_join(lakers_home, teams, by=\"TEAM_ID\")\n",
    "derrotas <- lakers_home_join %>% \n",
    "                group_by(NICKNAME) %>% \n",
    "                    summarise(Derrotas = sum(HOME_TEAM_WINS)) %>%\n",
    "                        arrange(desc(Derrotas)) %>% slice(1:10)\n",
    "\n",
    "\n",
    "derrotas %>%\n",
    "    mutate(NICKNAME=fct_reorder(NICKNAME, Derrotas)) %>%\n",
    "    ggplot(aes(x=NICKNAME, y=Derrotas)) +\n",
    "    geom_bar(stat=\"identity\", fill=\"orange\") + \n",
    "    geom_text(aes(label=format(Derrotas)),  color=\"black\") +\n",
    "    coord_flip() +\n",
    "    ggtitle(\"Times mais derrotados pelos Lakers em LA\") +\n",
    "    xlab(\"Times\") +\n",
    "    ylab(\"Número de derrotas\") +\n",
    "    theme_bw()"
   ]
  },
  {
   "cell_type": "markdown",
   "metadata": {},
   "source": [
    "### Times que mais derrotaram os Lakers em LA"
   ]
  },
  {
   "cell_type": "code",
   "execution_count": 245,
   "metadata": {},
   "outputs": [
    {
     "data": {
      "image/png": "[encoded data removed]",
      "text/plain": [
       "plot without title"
      ]
     },
     "metadata": {},
     "output_type": "display_data"
    }
   ],
   "source": [
    "lakers_home <-games %>%\n",
    "  group_by(HOME_TEAM_ID) %>% \n",
    "    select(HOME_TEAM_ID, TEAM_ID = VISITOR_TEAM_ID, HOME_TEAM_WINS) %>%\n",
    "        filter(HOME_TEAM_ID==1610612747)\n",
    "        \n",
    "\n",
    "lakers_home_join <- inner_join(lakers_home, teams, by=\"TEAM_ID\")\n",
    "derrotas <- lakers_home_join %>% \n",
    "                filter(HOME_TEAM_WINS==0) %>%\n",
    "                    mutate(AWAY_TEAM_WINS = 1) %>%\n",
    "                       select(HOME_TEAM_ID, NICKNAME, AWAY_TEAM_WINS) %>%\n",
    "                        group_by(NICKNAME) %>%\n",
    "                         summarise(Derrotas = sum(AWAY_TEAM_WINS)) %>%\n",
    "                            arrange(desc(Derrotas)) %>% slice(1:10)\n",
    "\n",
    "derrotas %>%\n",
    "    mutate(NICKNAME=fct_reorder(NICKNAME, Derrotas)) %>%\n",
    "    ggplot(aes(x=NICKNAME, y=Derrotas)) +\n",
    "    geom_bar(stat=\"identity\", fill=\"orange\") + \n",
    "    geom_text(aes(label=format(Derrotas)),  color=\"black\") +\n",
    "    coord_flip() +\n",
    "    ggtitle(\"Times que mais derrotaram os Lakers em LA\") +\n",
    "    xlab(\"Times\") +\n",
    "    ylab(\"Número de vitórias\") +\n",
    "    theme_bw()"
   ]
  },
  {
   "cell_type": "markdown",
   "metadata": {},
   "source": [
    "### Jogadores que mais vezes compuseram o elenco dos Lakers"
   ]
  },
  {
   "cell_type": "code",
   "execution_count": 244,
   "metadata": {
    "scrolled": true
   },
   "outputs": [
    {
     "data": {
      "image/png": "[encoded data removed]",
      "text/plain": [
       "plot without title"
      ]
     },
     "metadata": {},
     "output_type": "display_data"
    }
   ],
   "source": [
    "lakers_players <-players %>%\n",
    "                    filter(TEAM_ID==1610612747) %>%\n",
    "                        mutate(APARICAO = 1) %>%\n",
    "                            group_by(PLAYER_NAME) %>%\n",
    "                                summarise(APARICOES = sum(APARICAO)) %>%\n",
    "                                    arrange(desc(APARICOES)) %>% slice(1:5)\n",
    "lakers_players %>%\n",
    "mutate(PLAYER_NAME=fct_reorder(PLAYER_NAME, APARICOES)) %>%\n",
    "    ggplot(aes(x=PLAYER_NAME, y=APARICOES)) +\n",
    "    geom_bar(stat=\"identity\", fill=\"orange\") + \n",
    "    geom_text(aes(label=format(APARICOES)),  color=\"black\") +\n",
    "    coord_flip() +\n",
    "    ggtitle(\"Jogadores que mais vezes compuseram o elenco dos Lakers\") +\n",
    "    xlab(\"Jogadores\") +\n",
    "    ylab(\"Aparições\") +\n",
    "    theme_bw()"
   ]
  },
  {
   "cell_type": "markdown",
   "metadata": {},
   "source": [
    "### Análise de Jogador - LeBron James"
   ]
  },
  {
   "cell_type": "code",
   "execution_count": 102,
   "metadata": {},
   "outputs": [
    {
     "name": "stderr",
     "output_type": "stream",
     "text": [
      "`summarise()` has grouped output by 'PLAYER_NAME'. You can override using the `.groups` argument.\n"
     ]
    },
    {
     "data": {
      "image/png": "[encoded data removed]",
      "text/plain": [
       "plot without title"
      ]
     },
     "metadata": {},
     "output_type": "display_data"
    }
   ],
   "source": [
    "lebron_df <-games_details %>%\n",
    "                inner_join(games,by=\"GAME_ID\") %>%\n",
    "                filter(SEASON>2003)%>%\n",
    "                    filter(PLAYER_ID==2544) %>%\n",
    "                        mutate(APARICAO = 1) %>%\n",
    "                            group_by(PLAYER_NAME, TEAM_CITY) %>%\n",
    "                                summarise(APARICOES = sum(APARICAO)) %>%\n",
    "                                    arrange(desc(APARICOES)) \n",
    "lebron_df %>%\n",
    "mutate(TEAM_CITY=fct_reorder(TEAM_CITY, APARICOES)) %>%\n",
    "    ggplot(aes(x=TEAM_CITY, y=APARICOES)) +\n",
    "    geom_bar(stat=\"identity\", fill=\"orange\") + \n",
    "    geom_text(aes(label=format(APARICOES)),  color=\"black\") +\n",
    "    coord_flip() +\n",
    "    ggtitle(\"Times em que LeBron mais jogou\") +\n",
    "    xlab(\"Times\") +\n",
    "    ylab(\"Número de jogos\") +\n",
    "    theme_bw()             "
   ]
  },
  {
   "cell_type": "code",
   "execution_count": 101,
   "metadata": {},
   "outputs": [
    {
     "data": {
      "text/html": [
       "<table>\n",
       "<thead><tr><th scope=col>PLAYER_NAME</th><th scope=col>GAMES</th><th scope=col>PTS_MADE</th><th scope=col>MAX_PTS</th><th scope=col>MIN_PTS</th><th scope=col>MEAN_PTS</th><th scope=col>FG_PCT</th><th scope=col>FG3_PCT</th></tr></thead>\n",
       "<tbody>\n",
       "\t<tr><td>LeBron James</td><td>1612        </td><td>42412       </td><td>61          </td><td>1           </td><td>27.1        </td><td>0.506322    </td><td>0.3453623   </td></tr>\n",
       "</tbody>\n",
       "</table>\n"
      ],
      "text/latex": [
       "\\begin{tabular}{r|llllllll}\n",
       " PLAYER\\_NAME & GAMES & PTS\\_MADE & MAX\\_PTS & MIN\\_PTS & MEAN\\_PTS & FG\\_PCT & FG3\\_PCT\\\\\n",
       "\\hline\n",
       "\t LeBron James & 1612         & 42412        & 61           & 1            & 27.1         & 0.506322     & 0.3453623   \\\\\n",
       "\\end{tabular}\n"
      ],
      "text/markdown": [
       "\n",
       "| PLAYER_NAME | GAMES | PTS_MADE | MAX_PTS | MIN_PTS | MEAN_PTS | FG_PCT | FG3_PCT |\n",
       "|---|---|---|---|---|---|---|---|\n",
       "| LeBron James | 1612         | 42412        | 61           | 1            | 27.1         | 0.506322     | 0.3453623    |\n",
       "\n"
      ],
      "text/plain": [
       "  PLAYER_NAME  GAMES PTS_MADE MAX_PTS MIN_PTS MEAN_PTS FG_PCT   FG3_PCT  \n",
       "1 LeBron James 1612  42412    61      1       27.1     0.506322 0.3453623"
      ]
     },
     "metadata": {},
     "output_type": "display_data"
    }
   ],
   "source": [
    "lebron_df <-games_details %>%\n",
    "              inner_join(games,by=\"GAME_ID\") %>%\n",
    "                mutate(APARICOES = 1) %>%\n",
    "                filter(SEASON>2003)%>%\n",
    "                    filter(PLAYER_ID==2544) %>%\n",
    "                            group_by(PLAYER_NAME) %>%\n",
    "                                summarise(GAMES = sum(APARICOES),PTS_MADE = sum(PTS, na.rm = TRUE), \n",
    "                                          MAX_PTS = max(PTS, na.rm = TRUE), \n",
    "                                          MIN_PTS=min(PTS, na.rm = TRUE),\n",
    "                                             MEAN_PTS=round(mean(PTS, na.rm = TRUE),2),\n",
    "                                                FG_PCT = sum(FGM, na.rm = TRUE)/sum(FGA, na.rm = TRUE),\n",
    "                                                 FG3_PCT = sum(FG3M, na.rm = TRUE)/sum(FG3A, na.rm = TRUE)) %>%\n",
    "                                    arrange(desc(PTS_MADE))\n",
    "lebron_df"
   ]
  },
  {
   "cell_type": "markdown",
   "metadata": {},
   "source": [
    "### Trabalho final\n",
    "\n",
    "- Teste de Hipoteses e estatistica inferencial"
   ]
  },
  {
   "cell_type": "markdown",
   "metadata": {},
   "source": [
    "Objetivo: Descobrir as caracteristicas que mais influenciam na vitória de um time.\n",
    "\n",
    "-> Ponto 1: Vai ser analisado somente o que faz um time vencer uma partida, ou vencer o campeonato? -> Vencer partida <br>\n",
    "-> Ponto 2: Elencar caracteristicas e estatisticas de times vencedores. \n",
    "\n",
    "Quais as características do time vencedor? \n",
    "- Jogou em casa ou fora influencia?\n",
    "- Conferencia influencia (separar em tabelas de confs)? \n",
    "- Teve jogadores que marcaram triple-double? \n",
    "- Teve jogadores que marcaram double-double? \n",
    "- Tem estrela no time (O que é considerado um jogador estrela?)?\n",
    "- Bola de 3 feita influencia?\n",
    "\n",
    "Atividades:\n",
    "- Montar tabelas de times que venceram e times que perderam\n",
    "- Montar coluna de TD, DD, Estrela(PTS, REB, AST)"
   ]
  },
  {
   "cell_type": "markdown",
   "metadata": {},
   "source": [
    "### Comparação Visitante e Anfitrião"
   ]
  },
  {
   "cell_type": "code",
   "execution_count": 45,
   "metadata": {},
   "outputs": [
    {
     "data": {
      "image/png": "[encoded data removed]",
      "text/plain": [
       "plot without title"
      ]
     },
     "metadata": {},
     "output_type": "display_data"
    }
   ],
   "source": [
    "games_chart <- games %>%\n",
    "                select(HOME_TEAM_WINS,PTS_home, PTS_away) %>%\n",
    "                    filter(HOME_TEAM_WINS!='NA')%>%\n",
    "                      mutate(WHO_WON = (if_else(PTS_home > PTS_away, \"Anfitrião\", \"Visitante\")),qtd=1) %>%\n",
    "                        select(WHO_WON,qtd) %>%\n",
    "                            filter(WHO_WON!='NA')%>%\n",
    "                            group_by(WHO_WON) %>%\n",
    "                                summarize(VITORIAS = sum(qtd))\n",
    "\n",
    "options(repr.plot.width = 5, repr.plot.height = 5)\n",
    "games_chart %>%\n",
    "ggplot(aes(x=WHO_WON, y=VITORIAS)) +\n",
    "    geom_bar(stat=\"identity\", fill=\"orange\") + \n",
    "    geom_text(aes(label=format(VITORIAS)),  color=\"black\") +\n",
    "    \n",
    "    ggtitle(\"Comparação de Vitórias entre Anfitrião e Visitantes\") +\n",
    "    xlab(\"Status\") +\n",
    "    ylab(\"Número de vitórias\") +\n",
    "    theme_bw()"
   ]
  },
  {
   "cell_type": "code",
   "execution_count": 46,
   "metadata": {},
   "outputs": [
    {
     "data": {
      "text/html": [
       "<table>\n",
       "<thead><tr><th></th><th scope=col>Casa</th><th scope=col>Fora</th></tr></thead>\n",
       "<tbody>\n",
       "\t<tr><th scope=row>Ganhou</th><td>59.22</td><td>40.78</td></tr>\n",
       "\t<tr><th scope=row>Perdeu</th><td>40.78</td><td>59.22</td></tr>\n",
       "</tbody>\n",
       "</table>\n"
      ],
      "text/latex": [
       "\\begin{tabular}{r|ll}\n",
       "  & Casa & Fora\\\\\n",
       "\\hline\n",
       "\tGanhou & 59.22 & 40.78\\\\\n",
       "\tPerdeu & 40.78 & 59.22\\\\\n",
       "\\end{tabular}\n"
      ],
      "text/markdown": [
       "\n",
       "| <!--/--> | Casa | Fora |\n",
       "|---|---|---|\n",
       "| Ganhou | 59.22 | 40.78 |\n",
       "| Perdeu | 40.78 | 59.22 |\n",
       "\n"
      ],
      "text/plain": [
       "        columns\n",
       "rows     Casa  Fora \n",
       "  Ganhou 59.22 40.78\n",
       "  Perdeu 40.78 59.22"
      ]
     },
     "metadata": {},
     "output_type": "display_data"
    },
    {
     "data": {
      "text/plain": [
       "\n",
       "\tPearson's Chi-squared test with Yates' continuity correction\n",
       "\n",
       "data:  Table\n",
       "X-squared = 6.0831, df = 1, p-value = 0.01365\n"
      ]
     },
     "metadata": {},
     "output_type": "display_data"
    },
    {
     "data": {
      "text/html": [
       "<table>\n",
       "<thead><tr><th></th><th scope=col>Casa</th><th scope=col>Fora</th></tr></thead>\n",
       "<tbody>\n",
       "\t<tr><th scope=row>Ganhou</th><td>50</td><td>50</td></tr>\n",
       "\t<tr><th scope=row>Perdeu</th><td>50</td><td>50</td></tr>\n",
       "</tbody>\n",
       "</table>\n"
      ],
      "text/latex": [
       "\\begin{tabular}{r|ll}\n",
       "  & Casa & Fora\\\\\n",
       "\\hline\n",
       "\tGanhou & 50 & 50\\\\\n",
       "\tPerdeu & 50 & 50\\\\\n",
       "\\end{tabular}\n"
      ],
      "text/markdown": [
       "\n",
       "| <!--/--> | Casa | Fora |\n",
       "|---|---|---|\n",
       "| Ganhou | 50 | 50 |\n",
       "| Perdeu | 50 | 50 |\n",
       "\n"
      ],
      "text/plain": [
       "        columns\n",
       "rows     Casa Fora\n",
       "  Ganhou 50   50  \n",
       "  Perdeu 50   50  "
      ]
     },
     "metadata": {},
     "output_type": "display_data"
    }
   ],
   "source": [
    "Table <- matrix(c(59.22,40.78,40.78,59.22), 2, 2, byrow = TRUE)\n",
    "#Table <- matrix(c(14269,9827,9827,14269), 2, 2, byrow = TRUE)\n",
    "dimnames(Table) <- list(rows = c(\"Ganhou\", \"Perdeu\"), columns = c(\"Casa\", \"Fora\"))\n",
    "Table\n",
    "\n",
    "Test <- chisq.test(Table)\n",
    "Test\n",
    "Test$expected\n",
    "#H0 = Valores independentes\n",
    "#H1 = Valores dependentes\n",
    "# p-valor < 0,05 rejeita-se hipótese nula, ou seja, Jogar em casa influencia na vitória"
   ]
  },
  {
   "cell_type": "markdown",
   "metadata": {},
   "source": [
    "### Comparação das demais estatísticas"
   ]
  },
  {
   "cell_type": "code",
   "execution_count": 224,
   "metadata": {},
   "outputs": [
    {
     "data": {
      "text/html": [
       "<ol class=list-inline>\n",
       "\t<li>'GAME_DATE_EST'</li>\n",
       "\t<li>'GAME_ID'</li>\n",
       "\t<li>'GAME_STATUS_TEXT'</li>\n",
       "\t<li>'HOME_TEAM_ID'</li>\n",
       "\t<li>'VISITOR_TEAM_ID'</li>\n",
       "\t<li>'SEASON'</li>\n",
       "\t<li>'TEAM_ID_home'</li>\n",
       "\t<li>'PTS_home'</li>\n",
       "\t<li>'FG_PCT_home'</li>\n",
       "\t<li>'FT_PCT_home'</li>\n",
       "\t<li>'FG3_PCT_home'</li>\n",
       "\t<li>'AST_home'</li>\n",
       "\t<li>'REB_home'</li>\n",
       "\t<li>'TEAM_ID_away'</li>\n",
       "\t<li>'PTS_away'</li>\n",
       "\t<li>'FG_PCT_away'</li>\n",
       "\t<li>'FT_PCT_away'</li>\n",
       "\t<li>'FG3_PCT_away'</li>\n",
       "\t<li>'AST_away'</li>\n",
       "\t<li>'REB_away'</li>\n",
       "\t<li>'HOME_TEAM_WINS'</li>\n",
       "</ol>\n"
      ],
      "text/latex": [
       "\\begin{enumerate*}\n",
       "\\item 'GAME\\_DATE\\_EST'\n",
       "\\item 'GAME\\_ID'\n",
       "\\item 'GAME\\_STATUS\\_TEXT'\n",
       "\\item 'HOME\\_TEAM\\_ID'\n",
       "\\item 'VISITOR\\_TEAM\\_ID'\n",
       "\\item 'SEASON'\n",
       "\\item 'TEAM\\_ID\\_home'\n",
       "\\item 'PTS\\_home'\n",
       "\\item 'FG\\_PCT\\_home'\n",
       "\\item 'FT\\_PCT\\_home'\n",
       "\\item 'FG3\\_PCT\\_home'\n",
       "\\item 'AST\\_home'\n",
       "\\item 'REB\\_home'\n",
       "\\item 'TEAM\\_ID\\_away'\n",
       "\\item 'PTS\\_away'\n",
       "\\item 'FG\\_PCT\\_away'\n",
       "\\item 'FT\\_PCT\\_away'\n",
       "\\item 'FG3\\_PCT\\_away'\n",
       "\\item 'AST\\_away'\n",
       "\\item 'REB\\_away'\n",
       "\\item 'HOME\\_TEAM\\_WINS'\n",
       "\\end{enumerate*}\n"
      ],
      "text/markdown": [
       "1. 'GAME_DATE_EST'\n",
       "2. 'GAME_ID'\n",
       "3. 'GAME_STATUS_TEXT'\n",
       "4. 'HOME_TEAM_ID'\n",
       "5. 'VISITOR_TEAM_ID'\n",
       "6. 'SEASON'\n",
       "7. 'TEAM_ID_home'\n",
       "8. 'PTS_home'\n",
       "9. 'FG_PCT_home'\n",
       "10. 'FT_PCT_home'\n",
       "11. 'FG3_PCT_home'\n",
       "12. 'AST_home'\n",
       "13. 'REB_home'\n",
       "14. 'TEAM_ID_away'\n",
       "15. 'PTS_away'\n",
       "16. 'FG_PCT_away'\n",
       "17. 'FT_PCT_away'\n",
       "18. 'FG3_PCT_away'\n",
       "19. 'AST_away'\n",
       "20. 'REB_away'\n",
       "21. 'HOME_TEAM_WINS'\n",
       "\n",
       "\n"
      ],
      "text/plain": [
       " [1] \"GAME_DATE_EST\"    \"GAME_ID\"          \"GAME_STATUS_TEXT\" \"HOME_TEAM_ID\"    \n",
       " [5] \"VISITOR_TEAM_ID\"  \"SEASON\"           \"TEAM_ID_home\"     \"PTS_home\"        \n",
       " [9] \"FG_PCT_home\"      \"FT_PCT_home\"      \"FG3_PCT_home\"     \"AST_home\"        \n",
       "[13] \"REB_home\"         \"TEAM_ID_away\"     \"PTS_away\"         \"FG_PCT_away\"     \n",
       "[17] \"FT_PCT_away\"      \"FG3_PCT_away\"     \"AST_away\"         \"REB_away\"        \n",
       "[21] \"HOME_TEAM_WINS\"  "
      ]
     },
     "metadata": {},
     "output_type": "display_data"
    }
   ],
   "source": [
    "names(games)"
   ]
  },
  {
   "cell_type": "code",
   "execution_count": 235,
   "metadata": {},
   "outputs": [
    {
     "data": {
      "image/png": "[encoded data removed]",
      "text/plain": [
       "plot without title"
      ]
     },
     "metadata": {},
     "output_type": "display_data"
    },
    {
     "data": {
      "image/png": "[encoded data removed]",
      "text/plain": [
       "plot without title"
      ]
     },
     "metadata": {},
     "output_type": "display_data"
    },
    {
     "data": {
      "image/png": "[encoded data removed]",
      "text/plain": [
       "plot without title"
      ]
     },
     "metadata": {},
     "output_type": "display_data"
    }
   ],
   "source": [
    "stats_chart <- games %>%\n",
    "                select(HOME_TEAM_WINS, PTS_home, FG_PCT_home, FT_PCT_home, FG3_PCT_home, AST_home, REB_home,\n",
    "                       PTS_away, FG_PCT_away, FT_PCT_away, FG3_PCT_away, AST_away, REB_away) %>%\n",
    "\n",
    "                mutate(PTS_WIN = if_else(HOME_TEAM_WINS == 1, PTS_home, PTS_away)) %>%\n",
    "                mutate(PTS_LOSE = if_else(HOME_TEAM_WINS == 0, PTS_home, PTS_away)) %>%\n",
    "\n",
    "                mutate(FG_PCT_WIN = if_else(HOME_TEAM_WINS == 1, FG_PCT_home, FG_PCT_away)) %>%\n",
    "                mutate(FG_PCT_LOSE = if_else(HOME_TEAM_WINS == 0, FG_PCT_home, FG_PCT_away)) %>%\n",
    "\n",
    "                mutate(FT_PCT_WIN = if_else(HOME_TEAM_WINS == 1, FT_PCT_home, FT_PCT_away)) %>%\n",
    "                mutate(FT_PCT_LOSE = if_else(HOME_TEAM_WINS == 0, FT_PCT_home, FT_PCT_away)) %>%\n",
    "\n",
    "                mutate(FG3_PCT_WIN = if_else(HOME_TEAM_WINS == 1, FG3_PCT_home, FG3_PCT_away)) %>%\n",
    "                mutate(FG3_PCT_LOSE = if_else(HOME_TEAM_WINS == 0, FG3_PCT_home, FG3_PCT_away)) %>%\n",
    "\n",
    "                mutate(AST_WIN = if_else(HOME_TEAM_WINS == 1, AST_home, AST_away)) %>%\n",
    "                mutate(AST_LOSE = if_else(HOME_TEAM_WINS == 0, AST_home, AST_away)) %>%\n",
    "\n",
    "                mutate(REB_WIN = if_else(HOME_TEAM_WINS == 1, REB_home, REB_away)) %>%\n",
    "                mutate(REB_LOSE = if_else(HOME_TEAM_WINS == 0, REB_home, REB_away)) %>%\n",
    "                select(HOME_TEAM_WINS, PTS_WIN,PTS_LOSE,FG_PCT_WIN,FG_PCT_LOSE,FT_PCT_WIN,FT_PCT_LOSE,FG3_PCT_WIN,\n",
    "                      FG3_PCT_LOSE,AST_WIN,AST_LOSE,REB_WIN,REB_LOSE)\n",
    "                \n",
    "\n",
    "chart_reb_win <- stats_chart %>% select(Count = REB_WIN) %>% filter(Count!='NA') %>% mutate(Label = 'REB_WIN')\n",
    "chart_reb_lose <- stats_chart %>% select(Count = REB_LOSE) %>% filter(Count!='NA') %>% mutate(Label = 'REB_LOSE')\n",
    "\n",
    "reb_chart <- rbind(chart_reb_win, chart_reb_lose)\n",
    "#reb_chart\n",
    "\n",
    "count_chart <- reb_chart %>% group_by(Label) %>% summarize(count = sum(Count))\n",
    "count_chart %>%\n",
    "ggplot(aes(x=Label, y=count)) +\n",
    "    geom_bar(stat=\"identity\", fill=\"orange\") + \n",
    "    geom_text(aes(label=format(count)),  color=\"black\") +\n",
    "    ggtitle(\"Comparação de Rebotes entre Vencedores e Perdedores\") +\n",
    "    xlab(\"Status\") +\n",
    "    ylab(\"Número de rebotes\") +\n",
    "    theme_bw()\n",
    "\n",
    "options(repr.plot.width = 6, repr.plot.height = 4)\n",
    "ggplot(reb_chart, aes(x=Count, color=Label)) +\n",
    "geom_histogram(fill=\"white\", bins=30) + theme(legend.position=\"top\")\n",
    "\n",
    "boxplot(chart_reb_lose$Count,chart_reb_win$Count,names=c(\"REB_LOSE\",\"REB_WIN\"))"
   ]
  },
  {
   "cell_type": "code",
   "execution_count": 223,
   "metadata": {},
   "outputs": [
    {
     "data": {
      "image/png": "[encoded data removed]",
      "text/plain": [
       "plot without title"
      ]
     },
     "metadata": {},
     "output_type": "display_data"
    },
    {
     "data": {
      "image/png": "[encoded data removed]",
      "text/plain": [
       "plot without title"
      ]
     },
     "metadata": {},
     "output_type": "display_data"
    },
    {
     "data": {
      "image/png": "[encoded data removed]",
      "text/plain": [
       "plot without title"
      ]
     },
     "metadata": {},
     "output_type": "display_data"
    }
   ],
   "source": [
    "chart_pts_win <- stats_chart %>% select(Count = PTS_WIN) %>% filter(Count!='NA') %>% mutate(Label = 'PTS_WIN')\n",
    "chart_pts_lose <- stats_chart %>% select(Count = PTS_LOSE) %>% filter(Count!='NA') %>% mutate(Label = 'PTS_LOSE')\n",
    "\n",
    "pts_chart <- rbind(chart_pts_win, chart_pts_lose)\n",
    "#reb_chart\n",
    "\n",
    "count_chart <- pts_chart %>% group_by(Label) %>% summarize(count = sum(Count))\n",
    "count_chart %>%\n",
    "ggplot(aes(x=Label, y=count)) +\n",
    "    geom_bar(stat=\"identity\", fill=\"orange\") + \n",
    "    geom_text(aes(label=format(count)),  color=\"black\") +\n",
    "    ggtitle(\"Comparação de Pontos entre Vencedores e Perdedores\") +\n",
    "    xlab(\"Status\") +\n",
    "    ylab(\"Número de pontos\") +\n",
    "    theme_bw()\n",
    "\n",
    "options(repr.plot.width = 6, repr.plot.height = 4)\n",
    "ggplot(pts_chart, aes(x=Count, color=Label)) +\n",
    "geom_histogram(fill=\"white\", bins=50) + theme(legend.position=\"top\")\n",
    "\n",
    "boxplot(chart_pts_lose$Count, chart_pts_win$Count,names=c(\"pts_lose\",\"pts_win\"))"
   ]
  },
  {
   "cell_type": "code",
   "execution_count": 242,
   "metadata": {},
   "outputs": [
    {
     "data": {
      "image/png": "[encoded data removed]",
      "text/plain": [
       "plot without title"
      ]
     },
     "metadata": {},
     "output_type": "display_data"
    },
    {
     "data": {
      "image/png": "[encoded data removed]",
      "text/plain": [
       "plot without title"
      ]
     },
     "metadata": {},
     "output_type": "display_data"
    },
    {
     "data": {
      "image/png": "[encoded data removed]",
      "text/plain": [
       "plot without title"
      ]
     },
     "metadata": {},
     "output_type": "display_data"
    }
   ],
   "source": [
    "\n",
    "chart_pts_win <- stats_chart %>% select(Count = AST_WIN) %>% filter(Count!='NA') %>% mutate(Label = 'AST_WIN')\n",
    "chart_pts_lose <- stats_chart %>% select(Count = AST_LOSE) %>% filter(Count!='NA') %>% mutate(Label = 'AST_LOSE')\n",
    "\n",
    "pts_chart <- rbind(chart_pts_win, chart_pts_lose)\n",
    "#reb_chart\n",
    "\n",
    "count_chart <- pts_chart %>% group_by(Label) %>% summarize(count = sum(Count))\n",
    "count_chart %>%\n",
    "ggplot(aes(x=Label, y=count)) +\n",
    "    geom_bar(stat=\"identity\", fill=\"orange\") + \n",
    "    geom_text(aes(label=format(count)),  color=\"black\") +\n",
    "    ggtitle(\"Comparação entre assistências de vencedores e perdedores\") +\n",
    "    xlab(\"Status\") +\n",
    "    ylab(\"Soma de assistências\") +\n",
    "    theme_bw()\n",
    "\n",
    "options(repr.plot.width = 6, repr.plot.height = 4)\n",
    "ggplot(pts_chart, aes(x=Count, color=Label)) +\n",
    "geom_histogram(fill=\"white\", bins=50) + theme(legend.position=\"top\")\n",
    "\n",
    "boxplot(chart_pts_lose$Count, chart_pts_win$Count,names=c(\"AST_LOSE\",\"AST_WIN\"))\n"
   ]
  },
  {
   "cell_type": "code",
   "execution_count": 243,
   "metadata": {},
   "outputs": [
    {
     "data": {
      "image/png": "[encoded data removed]",
      "text/plain": [
       "plot without title"
      ]
     },
     "metadata": {},
     "output_type": "display_data"
    },
    {
     "data": {
      "image/png": "[encoded data removed]",
      "text/plain": [
       "plot without title"
      ]
     },
     "metadata": {},
     "output_type": "display_data"
    },
    {
     "data": {
      "image/png": "[encoded data removed]",
      "text/plain": [
       "plot without title"
      ]
     },
     "metadata": {},
     "output_type": "display_data"
    }
   ],
   "source": [
    "chart_pts_win <- stats_chart %>% select(Count = FG3_PCT_WIN) %>% filter(Count!='NA') %>% mutate(Label = 'FG3_PCT_WIN')\n",
    "chart_pts_lose <- stats_chart %>% select(Count = FG3_PCT_LOSE) %>% filter(Count!='NA') %>% mutate(Label = 'FG3_PCT_LOSE')\n",
    "\n",
    "pts_chart <- rbind(chart_pts_win, chart_pts_lose)\n",
    "#reb_chart\n",
    "\n",
    "count_chart <- pts_chart %>% group_by(Label) %>% summarize(count = sum(Count))\n",
    "count_chart %>%\n",
    "ggplot(aes(x=Label, y=count)) +\n",
    "    geom_bar(stat=\"identity\", fill=\"orange\") + \n",
    "    geom_text(aes(label=format(count)),  color=\"black\") +\n",
    "    ggtitle(\"Comparação entre Aproveitamento de Bolas de 3\") +\n",
    "    xlab(\"Status\") +\n",
    "    ylab(\"Aproveitamento\") +\n",
    "    theme_bw()\n",
    "\n",
    "options(repr.plot.width = 6, repr.plot.height = 4)\n",
    "ggplot(pts_chart, aes(x=Count, color=Label)) +\n",
    "geom_histogram(fill=\"white\", bins=50) + theme(legend.position=\"top\")\n",
    "\n",
    "boxplot(chart_pts_lose$Count, chart_pts_win$Count,names=c(\"FG3_PCT_LOSE\",\"FG3_PCT_WIN\"))"
   ]
  },
  {
   "cell_type": "code",
   "execution_count": 245,
   "metadata": {},
   "outputs": [
    {
     "data": {
      "image/png": "[encoded data removed]",
      "text/plain": [
       "plot without title"
      ]
     },
     "metadata": {},
     "output_type": "display_data"
    },
    {
     "data": {
      "image/png": "[encoded data removed]",
      "text/plain": [
       "plot without title"
      ]
     },
     "metadata": {},
     "output_type": "display_data"
    },
    {
     "data": {
      "image/png": "[encoded data removed]",
      "text/plain": [
       "plot without title"
      ]
     },
     "metadata": {},
     "output_type": "display_data"
    }
   ],
   "source": [
    "chart_pts_win <- stats_chart %>% select(Count = FT_PCT_WIN) %>% filter(Count!='NA') %>% mutate(Label = 'FT_PCT_WIN')\n",
    "chart_pts_lose <- stats_chart %>% select(Count = FT_PCT_LOSE) %>% filter(Count!='NA') %>% mutate(Label = 'FT_PCT_LOSE')\n",
    "\n",
    "pts_chart <- rbind(chart_pts_win, chart_pts_lose)\n",
    "#reb_chart\n",
    "\n",
    "count_chart <- pts_chart %>% group_by(Label) %>% summarize(count = sum(Count))\n",
    "count_chart %>%\n",
    "ggplot(aes(x=Label, y=count)) +\n",
    "    geom_bar(stat=\"identity\", fill=\"orange\") + \n",
    "    geom_text(aes(label=format(count)),  color=\"black\") +\n",
    "    ggtitle(\"Comparação entre Aproveitamento de Lances Livres\") +\n",
    "    xlab(\"Status\") +\n",
    "    ylab(\"Aproveitamento\") +\n",
    "    theme_bw()\n",
    "\n",
    "options(repr.plot.width = 6, repr.plot.height = 4)\n",
    "ggplot(pts_chart, aes(x=Count, color=Label)) +\n",
    "geom_histogram(fill=\"white\", bins=50) + theme(legend.position=\"top\")\n",
    "\n",
    "boxplot(chart_pts_lose$Count, chart_pts_win$Count,names=c(\"FT_PCT_LOSE\",\"FT_PCT_WIN\"))"
   ]
  },
  {
   "cell_type": "code",
   "execution_count": 251,
   "metadata": {},
   "outputs": [
    {
     "data": {
      "image/png": "[encoded data removed]",
      "text/plain": [
       "plot without title"
      ]
     },
     "metadata": {},
     "output_type": "display_data"
    },
    {
     "data": {
      "image/png": "[encoded data removed]",
      "text/plain": [
       "plot without title"
      ]
     },
     "metadata": {},
     "output_type": "display_data"
    },
    {
     "data": {
      "image/png": "[encoded data removed]",
      "text/plain": [
       "plot without title"
      ]
     },
     "metadata": {},
     "output_type": "display_data"
    }
   ],
   "source": [
    "chart_pts_win <- stats_chart %>% select(Count = FG_PCT_WIN) %>% filter(Count!='NA') %>% mutate(Label = 'FG_PCT_WIN')\n",
    "chart_pts_lose <- stats_chart %>% select(Count = FG_PCT_LOSE) %>% filter(Count!='NA') %>% mutate(Label = 'FG_PCT_LOSE')\n",
    "\n",
    "pts_chart <- rbind(chart_pts_win, chart_pts_lose)\n",
    "#reb_chart\n",
    "\n",
    "count_chart <- pts_chart %>% group_by(Label) %>% summarize(count = sum(Count))\n",
    "count_chart %>%\n",
    "ggplot(aes(x=Label, y=count)) +\n",
    "    geom_bar(stat=\"identity\", fill=\"orange\") + \n",
    "    geom_text(aes(label=format(count)),  color=\"black\") +\n",
    "    ggtitle(\"Comparação entre Aproveitamento de bolas de 2\") +\n",
    "    xlab(\"Status\") +\n",
    "    ylab(\"Aproveitamento\") +\n",
    "    theme_bw()\n",
    "\n",
    "options(repr.plot.width = 6, repr.plot.height = 4)\n",
    "ggplot(pts_chart, aes(x=Count, color=Label)) +\n",
    "geom_histogram(fill=\"white\", bins=50) + theme(legend.position=\"top\")\n",
    "\n",
    "boxplot(chart_pts_lose$Count, chart_pts_win$Count,names=c(\"FG_PCT_LOSE\",\"FG_PCT_WIN\"))"
   ]
  },
  {
   "cell_type": "markdown",
   "metadata": {},
   "source": [
    "### Análise da influência da conferência para vitória"
   ]
  },
  {
   "cell_type": "code",
   "execution_count": 248,
   "metadata": {},
   "outputs": [
    {
     "data": {
      "text/html": [
       "<table>\n",
       "<thead><tr><th scope=col>CONFERENCE</th><th scope=col>Vitorias</th><th scope=col>freq_relativa</th></tr></thead>\n",
       "<tbody>\n",
       "\t<tr><td>East    </td><td>7271    </td><td>49.49289</td></tr>\n",
       "\t<tr><td>West    </td><td>7420    </td><td>50.50711</td></tr>\n",
       "</tbody>\n",
       "</table>\n"
      ],
      "text/latex": [
       "\\begin{tabular}{r|lll}\n",
       " CONFERENCE & Vitorias & freq\\_relativa\\\\\n",
       "\\hline\n",
       "\t East     & 7271     & 49.49289\\\\\n",
       "\t West     & 7420     & 50.50711\\\\\n",
       "\\end{tabular}\n"
      ],
      "text/markdown": [
       "\n",
       "| CONFERENCE | Vitorias | freq_relativa |\n",
       "|---|---|---|\n",
       "| East     | 7271     | 49.49289 |\n",
       "| West     | 7420     | 50.50711 |\n",
       "\n"
      ],
      "text/plain": [
       "  CONFERENCE Vitorias freq_relativa\n",
       "1 East       7271     49.49289     \n",
       "2 West       7420     50.50711     "
      ]
     },
     "metadata": {},
     "output_type": "display_data"
    }
   ],
   "source": [
    "ranking_conf <- ranking %>%\n",
    "                    select(HOME_TEAM_ID=TEAM_ID, CONFERENCE)\n",
    "\n",
    "ranking_conf = unique(ranking_conf)\n",
    "#ranking_conf\n",
    "\n",
    "dados<- inner_join(games, ranking_conf, by=\"HOME_TEAM_ID\") %>%\n",
    "            filter(!is.na(CONFERENCE)) %>%\n",
    "                select(HOME_TEAM_WINS, CONFERENCE) %>%\n",
    "                    group_by(CONFERENCE) %>%\n",
    "                        summarise(Vitorias = sum(HOME_TEAM_WINS))%>%\n",
    "                            mutate(freq_relativa = (Vitorias/ sum(Vitorias))*100 )\n",
    "dados"
   ]
  },
  {
   "cell_type": "code",
   "execution_count": 255,
   "metadata": {},
   "outputs": [
    {
     "data": {
      "image/png": "[encoded data removed]",
      "text/plain": [
       "plot without title"
      ]
     },
     "metadata": {},
     "output_type": "display_data"
    }
   ],
   "source": [
    "dados %>%\n",
    "ggplot(aes(x=CONFERENCE, y=Vitorias)) +\n",
    "    geom_bar(stat=\"identity\", fill=\"orange\") + \n",
    "    geom_text(aes(label=format(Vitorias)),  color=\"black\") +\n",
    "    ggtitle(\"Comparação entre Conferências\") +\n",
    "    xlab(\"Conferência\") +\n",
    "    ylab(\"Vitórias\") +\n",
    "    theme_bw()\n",
    "\n"
   ]
  },
  {
   "cell_type": "code",
   "execution_count": 44,
   "metadata": {},
   "outputs": [
    {
     "data": {
      "text/html": [
       "<table>\n",
       "<thead><tr><th></th><th scope=col>East</th><th scope=col>West</th></tr></thead>\n",
       "<tbody>\n",
       "\t<tr><th scope=row>Ganhou</th><td>49.49</td><td>50.50</td></tr>\n",
       "\t<tr><th scope=row>Perdeu</th><td>50.50</td><td>49.49</td></tr>\n",
       "</tbody>\n",
       "</table>\n"
      ],
      "text/latex": [
       "\\begin{tabular}{r|ll}\n",
       "  & East & West\\\\\n",
       "\\hline\n",
       "\tGanhou & 49.49 & 50.50\\\\\n",
       "\tPerdeu & 50.50 & 49.49\\\\\n",
       "\\end{tabular}\n"
      ],
      "text/markdown": [
       "\n",
       "| <!--/--> | East | West |\n",
       "|---|---|---|\n",
       "| Ganhou | 49.49 | 50.50 |\n",
       "| Perdeu | 50.50 | 49.49 |\n",
       "\n"
      ],
      "text/plain": [
       "        columns\n",
       "rows     East  West \n",
       "  Ganhou 49.49 50.50\n",
       "  Perdeu 50.50 49.49"
      ]
     },
     "metadata": {},
     "output_type": "display_data"
    },
    {
     "data": {
      "text/plain": [
       "\n",
       "\tPearson's Chi-squared test with Yates' continuity correction\n",
       "\n",
       "data:  Table\n",
       "X-squared = 2.0002e-06, df = 1, p-value = 0.9989\n"
      ]
     },
     "metadata": {},
     "output_type": "display_data"
    },
    {
     "data": {
      "text/html": [
       "<table>\n",
       "<thead><tr><th></th><th scope=col>East</th><th scope=col>West</th></tr></thead>\n",
       "<tbody>\n",
       "\t<tr><th scope=row>Ganhou</th><td>49.995</td><td>49.995</td></tr>\n",
       "\t<tr><th scope=row>Perdeu</th><td>49.995</td><td>49.995</td></tr>\n",
       "</tbody>\n",
       "</table>\n"
      ],
      "text/latex": [
       "\\begin{tabular}{r|ll}\n",
       "  & East & West\\\\\n",
       "\\hline\n",
       "\tGanhou & 49.995 & 49.995\\\\\n",
       "\tPerdeu & 49.995 & 49.995\\\\\n",
       "\\end{tabular}\n"
      ],
      "text/markdown": [
       "\n",
       "| <!--/--> | East | West |\n",
       "|---|---|---|\n",
       "| Ganhou | 49.995 | 49.995 |\n",
       "| Perdeu | 49.995 | 49.995 |\n",
       "\n"
      ],
      "text/plain": [
       "        columns\n",
       "rows     East   West  \n",
       "  Ganhou 49.995 49.995\n",
       "  Perdeu 49.995 49.995"
      ]
     },
     "metadata": {},
     "output_type": "display_data"
    }
   ],
   "source": [
    "Table <- matrix(c(49.49,50.50,50.50,49.49), 2, 2, byrow = TRUE)\n",
    "dimnames(Table) <- list(rows = c(\"Ganhou\", \"Perdeu\"), columns = c(\"East\", \"West\"))\n",
    "Table\n",
    "\n",
    "Test <- chisq.test(Table)\n",
    "Test\n",
    "Test$expected # Expected\n",
    "\n",
    "#H0 = Valores independentes\n",
    "#H1 = Valores dependentes\n",
    "#Como p-valor > 0,05 então não rejeita-se hipótese nula e a conferencia ao qual o time pertence não influencia na vitória"
   ]
  },
  {
   "cell_type": "markdown",
   "metadata": {},
   "source": [
    "### Análise de triplos duplos para vitória"
   ]
  },
  {
   "cell_type": "code",
   "execution_count": 239,
   "metadata": {},
   "outputs": [],
   "source": [
    "games_df <- games %>% \n",
    "                select(GAME_ID, HOME_TEAM_ID, VISITOR_TEAM_ID, HOME_TEAM_WINS)\n",
    "#games_df\n",
    "\n",
    "dados<- inner_join(games_details, games_df, by=\"GAME_ID\") %>%\n",
    "            mutate(IS_HOME = factor(if_else(TEAM_ID == HOME_TEAM_ID, 1, 0))) %>%\n",
    "              mutate(WIN = factor(if_else((HOME_TEAM_WINS == 1 & IS_HOME == 1)|(HOME_TEAM_WINS == 0 & IS_HOME == 0), 1, 0))) %>%\n",
    "                mutate(TR_Double = factor(if_else((PTS>9 & REB>9 & AST > 9), 'SIM', 'NAO')))\n",
    "\n",
    "dt_vitorias <- dados %>%\n",
    "                filter(WIN == 1)\n",
    "\n",
    "dt_derrotas <- dados %>%\n",
    "                filter(WIN == 0)"
   ]
  },
  {
   "cell_type": "code",
   "execution_count": 7,
   "metadata": {},
   "outputs": [
    {
     "name": "stderr",
     "output_type": "stream",
     "text": [
      "`summarise()` has grouped output by 'TR_Double'. You can override using the `.groups` argument.\n",
      "`summarise()` has grouped output by 'TR_Double'. You can override using the `.groups` argument.\n"
     ]
    },
    {
     "data": {
      "text/html": [
       "<table>\n",
       "<thead><tr><th scope=col>TR_Double</th><th scope=col>TR_Double_ref</th></tr></thead>\n",
       "<tbody>\n",
       "\t<tr><td>NAO   </td><td>252363</td></tr>\n",
       "\t<tr><td>SIM   </td><td>     0</td></tr>\n",
       "\t<tr><td>SIM   </td><td>   821</td></tr>\n",
       "\t<tr><td>NA    </td><td>     0</td></tr>\n",
       "</tbody>\n",
       "</table>\n"
      ],
      "text/latex": [
       "\\begin{tabular}{r|ll}\n",
       " TR\\_Double & TR\\_Double\\_ref\\\\\n",
       "\\hline\n",
       "\t NAO    & 252363\\\\\n",
       "\t SIM    &      0\\\\\n",
       "\t SIM    &    821\\\\\n",
       "\t NA     &      0\\\\\n",
       "\\end{tabular}\n"
      ],
      "text/markdown": [
       "\n",
       "| TR_Double | TR_Double_ref |\n",
       "|---|---|\n",
       "| NAO    | 252363 |\n",
       "| SIM    |      0 |\n",
       "| SIM    |    821 |\n",
       "| NA     |      0 |\n",
       "\n"
      ],
      "text/plain": [
       "  TR_Double TR_Double_ref\n",
       "1 NAO       252363       \n",
       "2 SIM            0       \n",
       "3 SIM          821       \n",
       "4 NA             0       "
      ]
     },
     "metadata": {},
     "output_type": "display_data"
    },
    {
     "data": {
      "text/html": [
       "<table>\n",
       "<thead><tr><th scope=col>TR_Double</th><th scope=col>TR_Double_ref</th></tr></thead>\n",
       "<tbody>\n",
       "\t<tr><td>NAO   </td><td>253105</td></tr>\n",
       "\t<tr><td>SIM   </td><td>     0</td></tr>\n",
       "\t<tr><td>SIM   </td><td>   312</td></tr>\n",
       "\t<tr><td>NA    </td><td>     0</td></tr>\n",
       "</tbody>\n",
       "</table>\n"
      ],
      "text/latex": [
       "\\begin{tabular}{r|ll}\n",
       " TR\\_Double & TR\\_Double\\_ref\\\\\n",
       "\\hline\n",
       "\t NAO    & 253105\\\\\n",
       "\t SIM    &      0\\\\\n",
       "\t SIM    &    312\\\\\n",
       "\t NA     &      0\\\\\n",
       "\\end{tabular}\n"
      ],
      "text/markdown": [
       "\n",
       "| TR_Double | TR_Double_ref |\n",
       "|---|---|\n",
       "| NAO    | 253105 |\n",
       "| SIM    |      0 |\n",
       "| SIM    |    312 |\n",
       "| NA     |      0 |\n",
       "\n"
      ],
      "text/plain": [
       "  TR_Double TR_Double_ref\n",
       "1 NAO       253105       \n",
       "2 SIM            0       \n",
       "3 SIM          312       \n",
       "4 NA             0       "
      ]
     },
     "metadata": {},
     "output_type": "display_data"
    }
   ],
   "source": [
    "vitoria_td <- dt_vitorias %>%\n",
    "            select(TR_Double) %>%\n",
    "                group_by(TR_Double) %>%\n",
    "                        summarise(TR_Double_ref = tabulate(TR_Double))\n",
    "\n",
    "\n",
    "derrota_td <- dt_derrotas %>%\n",
    "                select(TR_Double) %>%\n",
    "                    group_by(TR_Double) %>%\n",
    "                        summarise(TR_Double_ref = tabulate(TR_Double))\n",
    "vitoria_td\n",
    "derrota_td"
   ]
  },
  {
   "cell_type": "code",
   "execution_count": 203,
   "metadata": {},
   "outputs": [
    {
     "data": {
      "text/html": [
       "<table>\n",
       "<thead><tr><th></th><th scope=col>Fez TD</th><th scope=col>Não fez TD</th></tr></thead>\n",
       "<tbody>\n",
       "\t<tr><th scope=row>Ganhou</th><td>821   </td><td>252363</td></tr>\n",
       "\t<tr><th scope=row>Perdeu</th><td>312   </td><td>253105</td></tr>\n",
       "</tbody>\n",
       "</table>\n"
      ],
      "text/latex": [
       "\\begin{tabular}{r|ll}\n",
       "  & Fez TD & Não fez TD\\\\\n",
       "\\hline\n",
       "\tGanhou & 821    & 252363\\\\\n",
       "\tPerdeu & 312    & 253105\\\\\n",
       "\\end{tabular}\n"
      ],
      "text/markdown": [
       "\n",
       "| <!--/--> | Fez TD | Não fez TD |\n",
       "|---|---|---|\n",
       "| Ganhou | 821    | 252363 |\n",
       "| Perdeu | 312    | 253105 |\n",
       "\n"
      ],
      "text/plain": [
       "        columns\n",
       "rows     Fez TD Não fez TD\n",
       "  Ganhou 821    252363    \n",
       "  Perdeu 312    253105    "
      ]
     },
     "metadata": {},
     "output_type": "display_data"
    },
    {
     "data": {
      "text/plain": [
       "\n",
       "\tPearson's Chi-squared test with Yates' continuity correction\n",
       "\n",
       "data:  Table\n",
       "X-squared = 228.75, df = 1, p-value < 2.2e-16\n"
      ]
     },
     "metadata": {},
     "output_type": "display_data"
    },
    {
     "data": {
      "text/html": [
       "<table>\n",
       "<thead><tr><th></th><th scope=col>Fez TD</th><th scope=col>Não fez TD</th></tr></thead>\n",
       "<tbody>\n",
       "\t<tr><th scope=row>Ganhou</th><td>566.2395</td><td>252617.8</td></tr>\n",
       "\t<tr><th scope=row>Perdeu</th><td>566.7605</td><td>252850.2</td></tr>\n",
       "</tbody>\n",
       "</table>\n"
      ],
      "text/latex": [
       "\\begin{tabular}{r|ll}\n",
       "  & Fez TD & Não fez TD\\\\\n",
       "\\hline\n",
       "\tGanhou & 566.2395 & 252617.8\\\\\n",
       "\tPerdeu & 566.7605 & 252850.2\\\\\n",
       "\\end{tabular}\n"
      ],
      "text/markdown": [
       "\n",
       "| <!--/--> | Fez TD | Não fez TD |\n",
       "|---|---|---|\n",
       "| Ganhou | 566.2395 | 252617.8 |\n",
       "| Perdeu | 566.7605 | 252850.2 |\n",
       "\n"
      ],
      "text/plain": [
       "        columns\n",
       "rows     Fez TD   Não fez TD\n",
       "  Ganhou 566.2395 252617.8  \n",
       "  Perdeu 566.7605 252850.2  "
      ]
     },
     "metadata": {},
     "output_type": "display_data"
    }
   ],
   "source": [
    "Table <- matrix(c(821,252363,312,253105), 2, 2, byrow = TRUE)\n",
    "dimnames(Table) <- list(rows = c(\"Ganhou\", \"Perdeu\"), columns = c(\"Fez TD\", \"Não fez TD\"))\n",
    "Table\n",
    "\n",
    "Test <- chisq.test(Table)\n",
    "Test\n",
    "Test$expected # Expected\n",
    "\n",
    "#H0 = Valores independentes\n",
    "#H1 = Valores dependentes\n",
    "#Como p-valor > 0,05 então não rejeita-se hipótese nula "
   ]
  }
 ],
 "metadata": {
  "kernelspec": {
   "display_name": "R",
   "language": "R",
   "name": "ir"
  },
  "language_info": {
   "codemirror_mode": "r",
   "file_extension": ".r",
   "mimetype": "text/x-r-source",
   "name": "R",
   "pygments_lexer": "r",
   "version": "3.6.1"
  }
 },
 "nbformat": 4,
 "nbformat_minor": 4
}
